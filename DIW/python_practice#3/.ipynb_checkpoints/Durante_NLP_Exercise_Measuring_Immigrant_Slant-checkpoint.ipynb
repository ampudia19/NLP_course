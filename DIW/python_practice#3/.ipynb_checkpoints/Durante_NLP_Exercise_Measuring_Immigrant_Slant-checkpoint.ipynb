{
 "cells": [
  {
   "cell_type": "code",
   "execution_count": 48,
   "metadata": {},
   "outputs": [],
   "source": [
    "#Define paths (change accordingly)\n",
    "maindir = 'E:/Dropbox/_Pre-Doc/NLP_Class_Preparation/David/python_prac3/'\n",
    "data    = maindir + 'data/'\n",
    "results = maindir + 'results/'"
   ]
  },
  {
   "cell_type": "code",
   "execution_count": 49,
   "metadata": {
    "ExecuteTime": {
     "end_time": "2019-06-04T06:54:00.263952Z",
     "start_time": "2019-06-04T06:53:57.996221Z"
    }
   },
   "outputs": [],
   "source": [
    "#Import packages\n",
    "import os\n",
    "import re\n",
    "import numpy as np\n",
    "import pandas as pd\n",
    "from pprint import pprint\n",
    "from tqdm import tqdm\n",
    "import matplotlib.pyplot as plt\n",
    "%matplotlib inline\n",
    "\n",
    "#Sklearn\n",
    "from sklearn.feature_selection import chi2\n",
    "from sklearn.feature_extraction.text import TfidfVectorizer\n",
    "\n",
    "# Gensim\n",
    "import gensim\n",
    "import gensim.corpora as corpora\n",
    "from gensim.utils import simple_preprocess\n",
    "from gensim.models import CoherenceModel\n",
    "from gensim.models import TfidfModel\n",
    "from gensim.parsing.porter import PorterStemmer\n",
    "\n",
    "# nltk\n",
    "import nltk\n",
    "#nltk.download('punkt') #Uncomment if not yet downloaded\n",
    "\n",
    "# spacy for lemmatization\n",
    "import spacy"
   ]
  },
  {
   "cell_type": "markdown",
   "metadata": {},
   "source": [
    "## Preprocessing Congressional Speeches"
   ]
  },
  {
   "cell_type": "code",
   "execution_count": 50,
   "metadata": {},
   "outputs": [
    {
     "name": "stdout",
     "output_type": "stream",
     "text": [
      "<class 'list'> <class 'spacy.lang.en.English'>\n",
      "179\n",
      "['i', 'me', 'my', 'myself', 'we', 'our', 'ours', 'ourselves', 'you', \"you're\", \"you've\", \"you'll\", \"you'd\", 'your', 'yours', 'yourself', 'yourselves', 'he', 'him', 'his', 'himself', 'she', \"she's\", 'her', 'hers', 'herself', 'it', \"it's\", 'its', 'itself']\n"
     ]
    }
   ],
   "source": [
    "#Load built-in stopwords from the NLTK package\n",
    "import nltk\n",
    "#nltk.download('stopwords') #Uncomment if not yet downloaded\n",
    "#nltk.data.path.append('C:/Users/u82929/AppData/Roaming/nltk_data')\n",
    "\n",
    "from nltk.corpus import stopwords\n",
    "nltk_stop_words = stopwords.words('english') #Load the list of English stopwords from NLTK\n",
    "\n",
    "nlp = spacy.load('en_core_web_sm', disable=['parser', 'ner']) #Initiate the Spacy English corpus\n",
    "\n",
    "#Have a look at the stop_words list and nlp object\n",
    "print(type(nltk_stop_words), type(nlp))\n",
    "print(len(nltk_stop_words))\n",
    "print(nltk_stop_words[:30]) #Have a look at the first 30 stopwords in the list"
   ]
  },
  {
   "cell_type": "code",
   "execution_count": 51,
   "metadata": {},
   "outputs": [
    {
     "name": "stdout",
     "output_type": "stream",
     "text": [
      "179\n"
     ]
    }
   ],
   "source": [
    "#Import additional stopwords list\n",
    "longlist = pd.read_csv(maindir + 'complementary_stopwords_lists/__very_long_stopwords.txt', header=None) #Pretty common stopwords\n",
    "addlist  = pd.read_csv(maindir + 'complementary_stopwords_lists/__additional_stopwords.txt', header=None) #Months and week days\n",
    "namlist  = pd.read_csv(maindir + 'complementary_stopwords_lists/__names_stopwords.txt', header=None) #Names of iconic US politicians (Donald, Trump, Bernie, Sanders, Hillary, Clinton, Romney)\n",
    "\n",
    "#Convert each stopword Series to a list\n",
    "longlist = longlist[0].tolist()\n",
    "addlist  =  addlist[0].tolist()\n",
    "namlist  =  namlist[0].tolist()\n",
    "\n",
    "#Add these complementary stopwords to the basic stopword list that comes built-in with NTLK\n",
    "#stop_words = nltk_stop_words+longlist+addlist+namlist\n",
    "#stop_words = nltk_stop_words+longlist\n",
    "stop_words = nltk_stop_words #Use only the NLTK stopwords for now\n",
    "print(len(stop_words)) "
   ]
  },
  {
   "cell_type": "code",
   "execution_count": 52,
   "metadata": {},
   "outputs": [],
   "source": [
    "#Define pre-processing functions\n",
    "def sent_to_words(sentences):\n",
    "    output = []\n",
    "    for sentence in sentences:\n",
    "        output.append(simple_preprocess(sentence))  # deacc=True removes punctuations\n",
    "    return output\n",
    "\n",
    "def remove_stopwords(texts):\n",
    "    output = []\n",
    "    for text in texts:\n",
    "        output.append([w for w in text if w not in stop_words])\n",
    "    return output\n",
    "\n",
    "def lemmatization(texts):\n",
    "    \"\"\"https://spacy.io/api/annotation\"\"\"\n",
    "    texts_out = []\n",
    "    for sent in texts:\n",
    "        doc = nlp(\" \".join(sent)) \n",
    "        texts_out.append([token.lemma_ for token in doc])\n",
    "    return texts_out"
   ]
  },
  {
   "cell_type": "code",
   "execution_count": 53,
   "metadata": {
    "ExecuteTime": {
     "end_time": "2019-06-04T06:54:02.567379Z",
     "start_time": "2019-06-04T06:54:00.894371Z"
    },
    "scrolled": true
   },
   "outputs": [
    {
     "name": "stdout",
     "output_type": "stream",
     "text": [
      "(1710, 24)\n",
      "Duplicated speech entries: False\n"
     ]
    }
   ],
   "source": [
    "#Load in the Congressional speech dataset\n",
    "speech_df = pd.read_excel(data + '__Congressional_speech_Imm.xlsx')\n",
    "\n",
    "# Inspect the size of our dataset\n",
    "print(speech_df.shape)\n",
    "\n",
    "# Duplicates, NAN\n",
    "print('Duplicated speech entries:', speech_df.duplicated().any())"
   ]
  },
  {
   "cell_type": "code",
   "execution_count": 54,
   "metadata": {
    "ExecuteTime": {
     "end_time": "2019-06-04T06:54:02.567379Z",
     "start_time": "2019-06-04T06:54:00.894371Z"
    },
    "scrolled": true
   },
   "outputs": [
    {
     "name": "stdout",
     "output_type": "stream",
     "text": [
      "Document column names: Index(['congress', 'speaker', 'future_districtID', 'speech_id', 'speakerid',\n",
      "       'lastname', 'firstname', 'chamber', 'state', 'gender', 'party',\n",
      "       'district', 'speech', 'num_imm_C', 'num_illimm_C', 'date', 'districtID',\n",
      "       'speaker_', 'districtID_', 'party_', 'gender_', 'state_', 'chamber_',\n",
      "       'year'],\n",
      "      dtype='object')\n"
     ]
    },
    {
     "data": {
      "text/html": [
       "<div>\n",
       "<style scoped>\n",
       "    .dataframe tbody tr th:only-of-type {\n",
       "        vertical-align: middle;\n",
       "    }\n",
       "\n",
       "    .dataframe tbody tr th {\n",
       "        vertical-align: top;\n",
       "    }\n",
       "\n",
       "    .dataframe thead th {\n",
       "        text-align: right;\n",
       "    }\n",
       "</style>\n",
       "<table border=\"1\" class=\"dataframe\">\n",
       "  <thead>\n",
       "    <tr style=\"text-align: right;\">\n",
       "      <th></th>\n",
       "      <th>congress</th>\n",
       "      <th>speaker</th>\n",
       "      <th>future_districtID</th>\n",
       "      <th>speech_id</th>\n",
       "      <th>speakerid</th>\n",
       "      <th>lastname</th>\n",
       "      <th>firstname</th>\n",
       "      <th>chamber</th>\n",
       "      <th>state</th>\n",
       "      <th>gender</th>\n",
       "      <th>...</th>\n",
       "      <th>num_illimm_C</th>\n",
       "      <th>date</th>\n",
       "      <th>districtID</th>\n",
       "      <th>speaker_</th>\n",
       "      <th>districtID_</th>\n",
       "      <th>party_</th>\n",
       "      <th>gender_</th>\n",
       "      <th>state_</th>\n",
       "      <th>chamber_</th>\n",
       "      <th>year</th>\n",
       "    </tr>\n",
       "  </thead>\n",
       "  <tbody>\n",
       "    <tr>\n",
       "      <th>0</th>\n",
       "      <td>113</td>\n",
       "      <td>BILL_FOSTER_D_IL</td>\n",
       "      <td>113_IL_11</td>\n",
       "      <td>1130046967</td>\n",
       "      <td>113121930</td>\n",
       "      <td>FOSTER</td>\n",
       "      <td>BILL</td>\n",
       "      <td>H</td>\n",
       "      <td>IL</td>\n",
       "      <td>M</td>\n",
       "      <td>...</td>\n",
       "      <td>0</td>\n",
       "      <td>2013-09-18</td>\n",
       "      <td>113_IL_11</td>\n",
       "      <td>BILL_FOSTER_D_IL</td>\n",
       "      <td>113_IL_11</td>\n",
       "      <td>D</td>\n",
       "      <td>M</td>\n",
       "      <td>IL</td>\n",
       "      <td>H</td>\n",
       "      <td>2013</td>\n",
       "    </tr>\n",
       "    <tr>\n",
       "      <th>1</th>\n",
       "      <td>111</td>\n",
       "      <td>BOBBY_RUSH_D_IL</td>\n",
       "      <td>111_IL_1</td>\n",
       "      <td>1110077051</td>\n",
       "      <td>111121150</td>\n",
       "      <td>RUSH</td>\n",
       "      <td>BOBBY</td>\n",
       "      <td>H</td>\n",
       "      <td>IL</td>\n",
       "      <td>M</td>\n",
       "      <td>...</td>\n",
       "      <td>0</td>\n",
       "      <td>2010-01-20</td>\n",
       "      <td>111_IL_1</td>\n",
       "      <td>BOBBY_RUSH_D_IL</td>\n",
       "      <td>111_IL_1</td>\n",
       "      <td>D</td>\n",
       "      <td>M</td>\n",
       "      <td>IL</td>\n",
       "      <td>H</td>\n",
       "      <td>2010</td>\n",
       "    </tr>\n",
       "    <tr>\n",
       "      <th>2</th>\n",
       "      <td>114</td>\n",
       "      <td>BRIAN_BABIN_R_TX</td>\n",
       "      <td>114_TX_36</td>\n",
       "      <td>1140072045</td>\n",
       "      <td>114123270</td>\n",
       "      <td>BABIN</td>\n",
       "      <td>BRIAN</td>\n",
       "      <td>H</td>\n",
       "      <td>TX</td>\n",
       "      <td>M</td>\n",
       "      <td>...</td>\n",
       "      <td>0</td>\n",
       "      <td>2016-01-08</td>\n",
       "      <td>114_TX_36</td>\n",
       "      <td>BRIAN_BABIN_R_TX</td>\n",
       "      <td>114_TX_36</td>\n",
       "      <td>R</td>\n",
       "      <td>M</td>\n",
       "      <td>TX</td>\n",
       "      <td>H</td>\n",
       "      <td>2016</td>\n",
       "    </tr>\n",
       "    <tr>\n",
       "      <th>3</th>\n",
       "      <td>114</td>\n",
       "      <td>DOUG_COLLINS_R_GA</td>\n",
       "      <td>114_GA_9</td>\n",
       "      <td>1140011523</td>\n",
       "      <td>114122170</td>\n",
       "      <td>COLLINS</td>\n",
       "      <td>DOUG</td>\n",
       "      <td>H</td>\n",
       "      <td>GA</td>\n",
       "      <td>M</td>\n",
       "      <td>...</td>\n",
       "      <td>1</td>\n",
       "      <td>2015-02-27</td>\n",
       "      <td>114_GA_9</td>\n",
       "      <td>DOUG_COLLINS_R_GA</td>\n",
       "      <td>114_GA_9</td>\n",
       "      <td>R</td>\n",
       "      <td>M</td>\n",
       "      <td>GA</td>\n",
       "      <td>H</td>\n",
       "      <td>2015</td>\n",
       "    </tr>\n",
       "    <tr>\n",
       "      <th>4</th>\n",
       "      <td>113</td>\n",
       "      <td>HENRY_JOHNSON_D_GA</td>\n",
       "      <td>113_GA_4</td>\n",
       "      <td>1130006545</td>\n",
       "      <td>113119960</td>\n",
       "      <td>JOHNSON</td>\n",
       "      <td>HENRY</td>\n",
       "      <td>H</td>\n",
       "      <td>GA</td>\n",
       "      <td>M</td>\n",
       "      <td>...</td>\n",
       "      <td>0</td>\n",
       "      <td>2013-02-28</td>\n",
       "      <td>113_GA_4</td>\n",
       "      <td>HENRY_JOHNSON_D_GA</td>\n",
       "      <td>113_GA_4</td>\n",
       "      <td>D</td>\n",
       "      <td>M</td>\n",
       "      <td>GA</td>\n",
       "      <td>H</td>\n",
       "      <td>2013</td>\n",
       "    </tr>\n",
       "  </tbody>\n",
       "</table>\n",
       "<p>5 rows × 24 columns</p>\n",
       "</div>"
      ],
      "text/plain": [
       "   congress             speaker future_districtID   speech_id  speakerid  \\\n",
       "0       113    BILL_FOSTER_D_IL         113_IL_11  1130046967  113121930   \n",
       "1       111     BOBBY_RUSH_D_IL          111_IL_1  1110077051  111121150   \n",
       "2       114    BRIAN_BABIN_R_TX         114_TX_36  1140072045  114123270   \n",
       "3       114   DOUG_COLLINS_R_GA          114_GA_9  1140011523  114122170   \n",
       "4       113  HENRY_JOHNSON_D_GA          113_GA_4  1130006545  113119960   \n",
       "\n",
       "  lastname firstname chamber state gender  ... num_illimm_C       date  \\\n",
       "0   FOSTER      BILL       H    IL      M  ...            0 2013-09-18   \n",
       "1     RUSH     BOBBY       H    IL      M  ...            0 2010-01-20   \n",
       "2    BABIN     BRIAN       H    TX      M  ...            0 2016-01-08   \n",
       "3  COLLINS      DOUG       H    GA      M  ...            1 2015-02-27   \n",
       "4  JOHNSON     HENRY       H    GA      M  ...            0 2013-02-28   \n",
       "\n",
       "  districtID            speaker_  districtID_ party_ gender_ state_ chamber_  \\\n",
       "0  113_IL_11    BILL_FOSTER_D_IL    113_IL_11      D       M     IL        H   \n",
       "1   111_IL_1     BOBBY_RUSH_D_IL     111_IL_1      D       M     IL        H   \n",
       "2  114_TX_36    BRIAN_BABIN_R_TX    114_TX_36      R       M     TX        H   \n",
       "3   114_GA_9   DOUG_COLLINS_R_GA     114_GA_9      R       M     GA        H   \n",
       "4   113_GA_4  HENRY_JOHNSON_D_GA     113_GA_4      D       M     GA        H   \n",
       "\n",
       "   year  \n",
       "0  2013  \n",
       "1  2010  \n",
       "2  2016  \n",
       "3  2015  \n",
       "4  2013  \n",
       "\n",
       "[5 rows x 24 columns]"
      ]
     },
     "execution_count": 54,
     "metadata": {},
     "output_type": "execute_result"
    }
   ],
   "source": [
    "print('Document column names:', speech_df.columns)\n",
    "\n",
    "speech_df.head()"
   ]
  },
  {
   "cell_type": "code",
   "execution_count": 55,
   "metadata": {},
   "outputs": [
    {
     "data": {
      "text/plain": [
       "'mr. speaker. i am pleased to rise today to highlight the many important contributions that immigrants make to our nation and our economy. to our scientific progress. and to say a few special words on the positive impact that comprehensive immigration reform will have on the real estate market in our country. we are a nation of immigrants. many of us are second- or thirdgeneration americans. and we have all benefited from the sacrifices that our ancestors made in search of a better life in america. in fact. my wife is a firstgeneration asianamerican who came to the united states to pursue her education. and was able to become a legal immigrant and a citizen and a ph.d.. in fact. but who knows that even our legal immigration system does not work as well as it should. every day. families come to this country in search of the american dreambetter jobs. better education. and a better life for their families. i am proud to represent many of these families. but would like to share just one incredible story of one of my constituents. juventino cano. growing up. juventino lived on a farm in colima. mexico. with his parents and six brothers and sisters. their home didnt have lights or electricity. and they all worked long hours on the family farm to make ends meet. when he was 17 years old. his stepbrothers encouraged him to come to aurora. illinois. and told him about the wonderful opportunities that awaited him in america. he was able to get a job with his stepbrothers at a packaging company. by 1986. juventino not only held a steady job and had learned english. but he had opened his own company. cano container corporation. in aurora. illinois. what started with a single machine and three employees has now grown into a company with over $20 million a year in annual sales. today. not only is juventino the president and ceo of the cano container company. he also serves on the board of directors for the united states hispanic chamber of commerce and as the president of the board of directors of the aurora hispanic chamber of commerce. cano container company has also received its share of accolades. including being named the minority manufacturer of the year by the united states department of commerce in 2007. the city and the economy of aurora. illinois. have greatly benefited from juventinos many contributions to the community. his story reminds us that immigration reform is good for economic growth. more than 40 percent of fortune 500 companies were founded by immigrants or children of immigrants. these american companies represent seven of the 10 most valuable brands in the world and collectively employ more than 10 million people and generate annual revenue of $4.2 trillion. thats a quarter of our economy. additionally. immigrants have a huge impact on our housing market. and passage of comprehensive immigration reform will have a huge positive impact on our stillrecovering real estate markets. a study from harvard university found that in recent years. foreignborn households accounted for 30 percent of the overall growth in the housing sector. according to the \"2012 state of hispanic homeownership\" report. it is likely that comprehensive immigration reform would generate 3 million new hispanic home buyers over the next several years. every day that we fail to pass comprehensive immigration reform. we are forfeiting millions of dollars of economic growth and tax revenue and slowing the recovery of our housing markets. if we passed immigration reform that provides a pathway to citizenship for undocumented immigrants. it would increase state and local tax collections by almost $150 million a year in illinois alone. on the other hand. if all unauthorized immigrants were removed from illinois. the state would lose $25.6 billion in economic activity. $11.4 billion in gross state product. and approximately 120.000 jobs. as a scientist. ive also seen firsthand the valuable contributions that immigrants make. for 20 years. i worked as a physicist at fermi national lab in illinois. and every day the flags from dozens of countries flew outside the facilities representing the nationalities of all of the scientists performing experiments at fermilab. thousands of students from other countries have come to the u.s. to get their ph.d.s and training at our research facilities. and it has been the policy of our country to turn most of them away when the work is done and their education is complete. while this may have made sense in the years after world war ii when we were trying to avoid the brain drain from countries trying to rebuild themselves. times have changed. the economic winds are now blowing in both directions. and we need to stop pushing our accomplished scientists and researchers out of our country and instead encourage them to stay here and to build businesses. expand their research. and help grow our economy. the comprehensive immigration bill passed by the senate does exactly that: it encourages the best and brightest scientists and researchers to stay here and add to our economy and our r&d capabilities. as we contemplate a pathway to citizenship for the 11 million undocumented immigrants and consider reforming our legal immigration system. lets remember all of the contributions that immigrants. past and present. have made to our country. our nation has a long and proud history of welcoming immigrants in search of a better life for themselves and their families. but our current immigration system is broken. we now have a historic opportunity to bring 11 million people out of the shadows. we have to remember that at any moment we are just 5 days away from passing immigration reform and having it be the law of the land. all it will take is for speaker boehner to wake up one morning and listen to the voices of his church. listen to the voices of the chambers of commerce. listen to the voices of business and ordinary people all over this country and decide to bring the senate immigration bill up for a vote where it will pass with a bipartisan majority and be signed into law by the president. this would be a historic moment and exactly the kind of bipartisanship that people expect from their elected representatives. if and when speaker boehner decides to act and allow the house a vote to pass the senate immigration bill. we could boost our economy. including our real estate markets. reduce our national debt and. most importantly. bring 11 million people out of the shadows. we cannot let this opportunity pass us by.'"
      ]
     },
     "execution_count": 55,
     "metadata": {},
     "output_type": "execute_result"
    }
   ],
   "source": [
    "speech_df['speech'][0]"
   ]
  },
  {
   "cell_type": "code",
   "execution_count": 56,
   "metadata": {},
   "outputs": [
    {
     "name": "stdout",
     "output_type": "stream",
     "text": [
      "<class 'list'> <class 'list'> ['mr', 'speaker', 'am', 'pleased', 'to', 'rise', 'today', 'to', 'highlight', 'the', 'many', 'important', 'contributions', 'that', 'immigrants', 'make', 'to', 'our', 'nation', 'and', 'our', 'economy', 'to', 'our', 'scientific', 'progress', 'and', 'to', 'say', 'few', 'special', 'words', 'on', 'the', 'positive', 'impact', 'that', 'comprehensive', 'immigration', 'reform', 'will', 'have', 'on', 'the', 'real', 'estate', 'market', 'in', 'our', 'country', 'we', 'are', 'nation', 'of', 'immigrants', 'many', 'of', 'us', 'are', 'second', 'or', 'thirdgeneration', 'americans', 'and', 'we', 'have', 'all', 'benefited', 'from', 'the', 'sacrifices', 'that', 'our', 'ancestors', 'made', 'in', 'search', 'of', 'better', 'life', 'in', 'america', 'in', 'fact', 'my', 'wife', 'is', 'firstgeneration', 'asianamerican', 'who', 'came', 'to', 'the', 'united', 'states', 'to', 'pursue', 'her', 'education', 'and']\n"
     ]
    }
   ],
   "source": [
    "#Apply the preprocessing functions: \"tokenize\" (today we use Gensim's simple-preprocess function, remove stopwords and lemmatize) \n",
    "data_raw = sent_to_words(speech_df.speech)\n",
    "print(type(data_raw), type(data_raw[0]), data_raw[0][:100])"
   ]
  },
  {
   "cell_type": "code",
   "execution_count": 57,
   "metadata": {},
   "outputs": [
    {
     "name": "stdout",
     "output_type": "stream",
     "text": [
      "<class 'list'> <class 'list'> ['mr', 'speaker', 'pleased', 'rise', 'today', 'highlight', 'many', 'important', 'contributions', 'immigrants', 'make', 'nation', 'economy', 'scientific', 'progress', 'say', 'special', 'words', 'positive', 'impact', 'comprehensive', 'immigration', 'reform', 'real', 'estate', 'market', 'country', 'nation', 'immigrants', 'many', 'us', 'second', 'thirdgeneration', 'americans', 'benefited', 'sacrifices', 'ancestors', 'made', 'search', 'better', 'life', 'america', 'fact', 'wife', 'firstgeneration', 'asianamerican', 'came', 'united', 'states', 'pursue', 'education', 'able', 'become', 'legal', 'immigrant', 'citizen', 'ph', 'fact', 'knows', 'even', 'legal', 'immigration', 'system', 'work', 'well', 'every', 'day', 'families', 'come', 'country', 'search', 'american', 'dreambetter', 'jobs', 'better', 'education', 'better', 'life', 'families', 'proud', 'represent', 'many', 'families', 'would', 'like', 'share', 'one', 'incredible', 'story', 'one', 'constituents', 'juventino', 'cano', 'growing', 'juventino', 'lived', 'farm', 'colima', 'mexico', 'parents']\n"
     ]
    }
   ],
   "source": [
    "data_raw = remove_stopwords(data_raw)\n",
    "print(type(data_raw), type(data_raw[0]), data_raw[0][:100])"
   ]
  },
  {
   "cell_type": "code",
   "execution_count": 58,
   "metadata": {},
   "outputs": [
    {
     "name": "stdout",
     "output_type": "stream",
     "text": [
      "<class 'list'> <class 'list'> ['mr', 'speaker', 'please', 'rise', 'today', 'highlight', 'many', 'important', 'contribution', 'immigrant', 'make', 'nation', 'economy', 'scientific', 'progress', 'say', 'special', 'word', 'positive', 'impact', 'comprehensive', 'immigration', 'reform', 'real', 'estate', 'market', 'country', 'nation', 'immigrant', 'many', '-PRON-', 'second', 'thirdgeneration', 'americans', 'benefit', 'sacrifice', 'ancestor', 'make', 'search', 'well', 'life', 'america', 'fact', 'wife', 'firstgeneration', 'asianamerican', 'come', 'united', 'states', 'pursue', 'education', 'able', 'become', 'legal', 'immigrant', 'citizen', 'ph', 'fact', 'know', 'even', 'legal', 'immigration', 'system', 'work', 'well', 'every', 'day', 'family', 'come', 'country', 'search', 'american', 'dreambetter', 'job', 'well', 'education', 'well', 'life', 'family', 'proud', 'represent', 'many', 'family', 'would', 'like', 'share', 'one', 'incredible', 'story', 'one', 'constituent', 'juventino', 'cano', 'grow', 'juventino', 'live', 'farm', 'colima', 'mexico', 'parent']\n"
     ]
    }
   ],
   "source": [
    "data_raw = lemmatization(data_raw)\n",
    "print(type(data_raw), type(data_raw[0]), data_raw[0][:100])"
   ]
  },
  {
   "cell_type": "code",
   "execution_count": 59,
   "metadata": {},
   "outputs": [
    {
     "name": "stdout",
     "output_type": "stream",
     "text": [
      "<class 'list'> 1710 <class 'str'> mr speaker please rise today highlight many important contribution immigrant make nation economy scientific progress say special word positive impact comprehensive immigration reform real estate market country nation immigrant many -PRON- second thirdgeneration americans benefit sacrifice ancestor make search well life america fact wife firstgeneration asianamerican come united states pursue education able become legal immigrant citizen ph fact know even legal immigration system work well every day family come country search american dreambetter job well education well life family proud represent many family would like share one incredible story one constituent juventino cano grow juventino live farm colima mexico parent six brother sister home do not light electricity work long hour family farm make end meet year old stepbrother encourage come aurora illinois tell wonderful opportunity await america able get job stepbrother packaging company juventino hold steady job learn english open company cano container corporation aurora illinois start single machine three employee grow company million year annual sale today juventino president ceo cano container company also serve board director unite states hispanic chamber commerce president board directors aurora hispanic chamber commerce cano container company also receive share accolade include name minority manufacturer year united states department commerce city economy aurora illinois greatly benefit juventinos many contribution community story remind -PRON- immigration reform good economic growth percent fortune company found immigrant child immigrant american company represent seven valuable brand world collectively employ million people generate annual revenue trillion that s quarter economy additionally immigrant huge impact housing market passage comprehensive immigration reform huge positive impact stillrecovere real estate market study harvard university find recent year foreignborn household account percent overall growth housing sector accord state hispanic homeownership report likely comprehensive immigration reform would generate million new hispanic home buyer next several year every day fail pass comprehensive immigration reform forfeit million dollar economic growth tax revenue slow recovery housing market pass immigration reform provide pathway citizenship undocumented immigrant would increase state local tax collection almost million year illinois alone hand unauthorized immigrant remove illinois state would lose billion economic activity billion gross state product approximately job scientist -PRON- have also see firsthand valuable contribution immigrant make year work physicist fermi national lab illinois every day flag dozen country fly outside facility represent nationality scientist perform experiment fermilab thousand student country come get ph training research facility policy country turn away work do education complete may made sense year world war ii try avoid brain drain country try rebuild time change economic wind blow direction need stop push accomplished scientist researcher country instead encourage stay build business expand research help grow economy comprehensive immigration bill pass senate exactly encourage good bright scientist researcher stay add economy capability contemplate pathway citizenship million undocumented immigrant consider reform legal immigration system let remember contribution immigrant past present make country nation long proud history welcome immigrant search well life family current immigration system break historic opportunity bring million people shadow remember moment day away pass immigration reform law land take speaker boehner wake one morning listen voice church listen voice chamber commerce listen voice business ordinary people country decide bring senate immigration bill vote pass bipartisan majority sign law president would historic moment exactly kind bipartisanship people expect elect representative speaker boehner decide act allow house vote pass senate immigration bill could boost economy include real estate market reduce national debt importantly bring million people shadow can not let opportunity pass -PRON-\n"
     ]
    }
   ],
   "source": [
    "data_clean = [\" \".join(text) for text in data_raw] #Convert each speech string-list to an actual string\n",
    "print(type(data_clean), len(data_clean), type(data_clean[0]), data_clean[0])\n",
    "\n",
    "#Create additional column in the speeches DF that is the pre-processed speeches\n",
    "speech_df[\"preproc_speech\"] = data_clean"
   ]
  },
  {
   "cell_type": "code",
   "execution_count": 60,
   "metadata": {},
   "outputs": [],
   "source": [
    "#Export to CSV for further treatment in Stata\n",
    "useful_columns = ['speaker', 'party_', 'preproc_speech']\n",
    "speech_df.loc[:,useful_columns].to_csv(data + 'Speech_processed.csv', index = False)"
   ]
  },
  {
   "cell_type": "markdown",
   "metadata": {},
   "source": [
    "## Determining phrases used by Republicans"
   ]
  },
  {
   "cell_type": "code",
   "execution_count": 81,
   "metadata": {},
   "outputs": [
    {
     "name": "stdout",
     "output_type": "stream",
     "text": [
      "<class 'scipy.sparse.csr.csr_matrix'>\n",
      "<class 'numpy.ndarray'> 995825 <class 'numpy.float64'>\n",
      "[0.02232182 0.02232182 0.01933199 0.01933199 0.01933199 0.01933199\n",
      " 0.19023332 0.02069521 0.04922069 0.05181082 0.01618157 0.02069521\n",
      " 0.06032609 0.01618157 0.01618157 0.01618157 0.01618157 0.01618157\n",
      " 0.01618157 0.01618157 0.01618157 0.05181082 0.05181082 0.01660016\n",
      " 0.01660016 0.01618157 0.01618157 0.01957422 0.01957422 0.01618157\n",
      " 0.01618157 0.02946314 0.02946314 0.06777105 0.03388552 0.01957422\n",
      " 0.01618157 0.04325719 0.04325719 0.01660016 0.01660016 0.01618157\n",
      " 0.01618157 0.04922069 0.03388552 0.01618157 0.01618157 0.01618157]\n"
     ]
    }
   ],
   "source": [
    "#Get the TF-IDF vectors of each bi-gram and tri-gram used in the pre-processed speeches\n",
    "tvec = TfidfVectorizer(analyzer = 'word', ngram_range=(2, 3), stop_words= stop_words, encoding=\"utf-8\",decode_error=\"replace\")\n",
    "data_tfidf = tvec.fit_transform(data_clean) #The data object is a list of the pre-processed speeches\n",
    "print(type(data_tfidf))\n",
    "\n",
    "#Define boolean mask for whether the speaker is a member of the Republican party\n",
    "mask = (speech_df['party_'] == 'R')\n",
    "#print(mask)\n",
    "\n",
    "#Compute the chi-2 statistic between the bi-grams and tri-grams and the party affiliation of congressmembers\n",
    "chi2score = chi2(data_tfidf, mask)[0] #Get the first array returned by the chi2 function, i.e. the chi-2 statistics of each association\n",
    "print(type(chi2score), len(chi2score), type(chi2score[0])) #995541 bi-grams and tri-grams in total\n",
    "print(chi2score[:48])"
   ]
  },
  {
   "cell_type": "code",
   "execution_count": 100,
   "metadata": {},
   "outputs": [
    {
     "name": "stdout",
     "output_type": "stream",
     "text": [
      "995825\n"
     ]
    }
   ],
   "source": [
    "#Get the top chi-2\n",
    "wscores = list(zip(tvec.get_feature_names(), chi2score)) #Create a list of (phrase, chiscore) tuples\n",
    "print(len(wscores))\n",
    "wchi2 = sorted(wscores, key=lambda x:x[1]) #Sort the list according to the chiscore\n",
    "topchi2 = list(zip(*wchi2[-500:])) #Retrieve the top 500 words. Returns a list of 2 tuples. The first tuple contains the top 500 words, the second tuple lists the associated chi2 score.\n",
    "\n",
    "#Create a DF with the top 500 phrases and their respective chi2 score.\n",
    "top_phrases = pd.DataFrame({'phrase':list(topchi2[0]), 'chi2':list(topchi2[1])})\n",
    "top_phrases.to_csv(data + 'top_500_speech_phrases.csv', index=False)"
   ]
  },
  {
   "cell_type": "code",
   "execution_count": 99,
   "metadata": {},
   "outputs": [
    {
     "data": {
      "text/plain": [
       "[('democracy would',\n",
       "  'want military',\n",
       "  'impact community',\n",
       "  'next year find',\n",
       "  'area yet',\n",
       "  'away another',\n",
       "  'know leader',\n",
       "  'separate occasion',\n",
       "  'miss mr',\n",
       "  'miss mr speaker',\n",
       "  'immigration drug',\n",
       "  'spend time issue',\n",
       "  'job hundred',\n",
       "  'way change',\n",
       "  'need make sure',\n",
       "  'eighteen percent',\n",
       "  'make sure secure',\n",
       "  'sure secure',\n",
       "  'boulder colorado',\n",
       "  'may vietnamese',\n",
       "  'may vietnamese refugee',\n",
       "  'refugee day',\n",
       "  'vietnamese refugee day',\n",
       "  'proposal come',\n",
       "  'entire body',\n",
       "  'see pledge',\n",
       "  'prison year',\n",
       "  'get master',\n",
       "  'maybe finish',\n",
       "  'represent congress',\n",
       "  'seek get',\n",
       "  'legal route',\n",
       "  'take illegally',\n",
       "  'tell excited',\n",
       "  'crime problem',\n",
       "  'tell say',\n",
       "  'around child',\n",
       "  'go inside',\n",
       "  'clothe back',\n",
       "  'know dear',\n",
       "  'know dear friend',\n",
       "  'partner keep',\n",
       "  'remove alien',\n",
       "  'inaction time',\n",
       "  'head would',\n",
       "  'december pron',\n",
       "  'life never',\n",
       "  'go finally',\n",
       "  'net contributor economy',\n",
       "  'president step'),\n",
       " (1.605365384490234e-13,\n",
       "  4.1565599609687646e-11,\n",
       "  2.3940586946490277e-10,\n",
       "  2.703626850562316e-10,\n",
       "  1.1464700876455494e-09,\n",
       "  1.2316689378163168e-09,\n",
       "  1.7512457849321934e-09,\n",
       "  2.2983395951247067e-09,\n",
       "  2.5025631189142803e-09,\n",
       "  2.5025631189142803e-09,\n",
       "  2.8271848263676754e-09,\n",
       "  2.9793497791154717e-09,\n",
       "  3.1204724409507293e-09,\n",
       "  4.467467227863444e-09,\n",
       "  4.867830836424127e-09,\n",
       "  4.875328047915234e-09,\n",
       "  5.397903023279121e-09,\n",
       "  5.397903023279121e-09,\n",
       "  5.84081866337874e-09,\n",
       "  5.990937765416365e-09,\n",
       "  5.990937765416365e-09,\n",
       "  5.990937765416365e-09,\n",
       "  5.990937765416365e-09,\n",
       "  6.328044745678968e-09,\n",
       "  7.511234912773214e-09,\n",
       "  9.151203672126972e-09,\n",
       "  1.0025400938487724e-08,\n",
       "  1.09237964945523e-08,\n",
       "  1.09237964945523e-08,\n",
       "  1.2312467632999818e-08,\n",
       "  1.3528297273051406e-08,\n",
       "  1.3535052127312308e-08,\n",
       "  1.3535052127312308e-08,\n",
       "  1.3535052127312308e-08,\n",
       "  1.3616864875635908e-08,\n",
       "  1.37084978567401e-08,\n",
       "  1.4883799251109497e-08,\n",
       "  1.68056909129034e-08,\n",
       "  2.170094005450014e-08,\n",
       "  2.3094306561438077e-08,\n",
       "  2.3094306561438077e-08,\n",
       "  2.4800022833616366e-08,\n",
       "  2.5579718977924708e-08,\n",
       "  2.668720658118656e-08,\n",
       "  2.8308118895242412e-08,\n",
       "  2.8322646508024323e-08,\n",
       "  2.859298189949345e-08,\n",
       "  2.887502222947168e-08,\n",
       "  3.0738264918921347e-08,\n",
       "  3.1139314238173964e-08)]"
      ]
     },
     "execution_count": 99,
     "metadata": {},
     "output_type": "execute_result"
    }
   ],
   "source": [
    "topchi2"
   ]
  },
  {
   "cell_type": "code",
   "execution_count": 63,
   "metadata": {},
   "outputs": [
    {
     "data": {
      "text/plain": [
       "Text(0.5, 0, '$\\\\chi^2$')"
      ]
     },
     "execution_count": 63,
     "metadata": {},
     "output_type": "execute_result"
    },
    {
     "data": {
      "image/png": "[encoded data removed]",
      "text/plain": [
       "<Figure size 288x720 with 1 Axes>"
      ]
     },
     "metadata": {
      "needs_background": "light"
     },
     "output_type": "display_data"
    }
   ],
   "source": [
    "#Plot the top 50 bigrams and trigrams\n",
    "plt.figure(figsize=(4,10))\n",
    "\n",
    "topchi2 = list(zip(*wchi2[-50:]))\n",
    "x = range(len(topchi2[1])) #Range going to 50\n",
    "labels = topchi2[0] #The phrase tuple\n",
    "plt.barh(x,topchi2[1], align='center', alpha=0.2)\n",
    "plt.plot(topchi2[1], x, '-o', markersize=5, alpha=0.8)\n",
    "plt.yticks(x, labels)\n",
    "plt.xlabel('$\\chi^2$')\n",
    "\n",
    "#plt.savefig('C:/Users/Milena/Dropbox/AP_Style/results__Text_analysis/Chi_Squared.pdf', dpi=300, bbox_inches = \"tight\")"
   ]
  },
  {
   "cell_type": "markdown",
   "metadata": {},
   "source": [
    "## Pre-processing the newspaper articles"
   ]
  },
  {
   "cell_type": "code",
   "execution_count": 71,
   "metadata": {},
   "outputs": [
    {
     "name": "stdout",
     "output_type": "stream",
     "text": [
      "(873, 3)\n"
     ]
    },
    {
     "data": {
      "text/html": [
       "<div>\n",
       "<style scoped>\n",
       "    .dataframe tbody tr th:only-of-type {\n",
       "        vertical-align: middle;\n",
       "    }\n",
       "\n",
       "    .dataframe tbody tr th {\n",
       "        vertical-align: top;\n",
       "    }\n",
       "\n",
       "    .dataframe thead th {\n",
       "        text-align: right;\n",
       "    }\n",
       "</style>\n",
       "<table border=\"1\" class=\"dataframe\">\n",
       "  <thead>\n",
       "    <tr style=\"text-align: right;\">\n",
       "      <th></th>\n",
       "      <th>NPNAME1</th>\n",
       "      <th>source</th>\n",
       "      <th>APintI</th>\n",
       "    </tr>\n",
       "  </thead>\n",
       "  <tbody>\n",
       "    <tr>\n",
       "      <th>0</th>\n",
       "      <td>aberdeendailyworldWA</td>\n",
       "      <td>Daily World (Aberdeen, WA)</td>\n",
       "      <td>NaN</td>\n",
       "    </tr>\n",
       "    <tr>\n",
       "      <th>1</th>\n",
       "      <td>abilenereflectorchronicleKS</td>\n",
       "      <td>Abilene Reflector-Chronicle (KS)</td>\n",
       "      <td>NaN</td>\n",
       "    </tr>\n",
       "    <tr>\n",
       "      <th>2</th>\n",
       "      <td>abilenereporternewsTX</td>\n",
       "      <td>Abilene Reporter-News (TX)</td>\n",
       "      <td>5.964259</td>\n",
       "    </tr>\n",
       "    <tr>\n",
       "      <th>3</th>\n",
       "      <td>adaeveningnewsOK</td>\n",
       "      <td>Ada Evening News, The (OK)</td>\n",
       "      <td>0.000000</td>\n",
       "    </tr>\n",
       "    <tr>\n",
       "      <th>4</th>\n",
       "      <td>adriandailytelegramMI</td>\n",
       "      <td>Daily Telegram, The (Adrian, MI)</td>\n",
       "      <td>4.909714</td>\n",
       "    </tr>\n",
       "  </tbody>\n",
       "</table>\n",
       "</div>"
      ],
      "text/plain": [
       "                       NPNAME1                            source    APintI\n",
       "0         aberdeendailyworldWA        Daily World (Aberdeen, WA)       NaN\n",
       "1  abilenereflectorchronicleKS  Abilene Reflector-Chronicle (KS)       NaN\n",
       "2        abilenereporternewsTX        Abilene Reporter-News (TX)  5.964259\n",
       "3             adaeveningnewsOK        Ada Evening News, The (OK)  0.000000\n",
       "4        adriandailytelegramMI  Daily Telegram, The (Adrian, MI)  4.909714"
      ]
     },
     "execution_count": 71,
     "metadata": {},
     "output_type": "execute_result"
    }
   ],
   "source": [
    "outlets = pd.read_stata(data + 'newspaper_outlets.dta')\n",
    "print(outlets.shape)\n",
    "outlets.head()"
   ]
  },
  {
   "cell_type": "code",
   "execution_count": 65,
   "metadata": {
    "scrolled": true
   },
   "outputs": [
    {
     "name": "stderr",
     "output_type": "stream",
     "text": [
      "  0%|                                                                                            | 0/9 [00:00<?, ?it/s]"
     ]
    },
    {
     "name": "stdout",
     "output_type": "stream",
     "text": [
      "immigrant_NL_2009.xlsx\n",
      "(23462, 7)\n",
      "Tokenization done for year  2009\n",
      "Stopwords done for year  2009\n",
      "Lemmatization done for year  2009\n",
      "Pre-processing done for year  2009\n",
      "Shape of DF of year  2009  is  (23462, 11)\n"
     ]
    },
    {
     "name": "stderr",
     "output_type": "stream",
     "text": [
      " 11%|█████████▏                                                                         | 1/9 [02:44<21:57, 164.65s/it]"
     ]
    },
    {
     "name": "stdout",
     "output_type": "stream",
     "text": [
      "immigrant_NL_2010.xlsx\n",
      "(28086, 7)\n",
      "Tokenization done for year  2010\n",
      "Stopwords done for year  2010\n",
      "Lemmatization done for year  2010\n",
      "Pre-processing done for year  2010\n",
      "Shape of DF of year  2010  is  (28086, 11)\n"
     ]
    },
    {
     "name": "stderr",
     "output_type": "stream",
     "text": [
      " 22%|██████████████████▍                                                                | 2/9 [06:04<20:25, 175.08s/it]"
     ]
    },
    {
     "name": "stdout",
     "output_type": "stream",
     "text": [
      "immigrant_NL_2011.xlsx\n",
      "(25880, 7)\n",
      "Tokenization done for year  2011\n",
      "Stopwords done for year  2011\n",
      "Lemmatization done for year  2011\n",
      "Pre-processing done for year  2011\n",
      "Shape of DF of year  2011  is  (25880, 11)\n"
     ]
    },
    {
     "name": "stderr",
     "output_type": "stream",
     "text": [
      " 33%|███████████████████████████▋                                                       | 3/9 [09:05<17:41, 176.85s/it]"
     ]
    },
    {
     "name": "stdout",
     "output_type": "stream",
     "text": [
      "immigrant_NL_2012.xlsx\n",
      "(22837, 7)\n",
      "Tokenization done for year  2012\n",
      "Stopwords done for year  2012\n",
      "Lemmatization done for year  2012\n",
      "Pre-processing done for year  2012\n",
      "Shape of DF of year  2012  is  (22837, 11)\n"
     ]
    },
    {
     "name": "stderr",
     "output_type": "stream",
     "text": [
      " 44%|████████████████████████████████████▉                                              | 4/9 [11:36<14:06, 169.37s/it]"
     ]
    },
    {
     "name": "stdout",
     "output_type": "stream",
     "text": [
      "immigrant_NL_2013.xlsx\n",
      "(23903, 7)\n",
      "Tokenization done for year  2013\n",
      "Stopwords done for year  2013\n",
      "Lemmatization done for year  2013\n",
      "Pre-processing done for year  2013\n",
      "Shape of DF of year  2013  is  (23903, 11)\n"
     ]
    },
    {
     "name": "stderr",
     "output_type": "stream",
     "text": [
      " 56%|██████████████████████████████████████████████                                     | 5/9 [14:13<11:02, 165.58s/it]"
     ]
    },
    {
     "name": "stdout",
     "output_type": "stream",
     "text": [
      "immigrant_NL_2014.xlsx\n",
      "(26478, 7)\n",
      "Tokenization done for year  2014\n",
      "Stopwords done for year  2014\n",
      "Lemmatization done for year  2014\n",
      "Pre-processing done for year  2014\n",
      "Shape of DF of year  2014  is  (26478, 11)\n"
     ]
    },
    {
     "name": "stderr",
     "output_type": "stream",
     "text": [
      " 67%|███████████████████████████████████████████████████████▎                           | 6/9 [17:07<08:24, 168.09s/it]"
     ]
    },
    {
     "name": "stdout",
     "output_type": "stream",
     "text": [
      "immigrant_NL_2015.xlsx\n",
      "(27064, 7)\n",
      "Tokenization done for year  2015\n",
      "Stopwords done for year  2015\n",
      "Lemmatization done for year  2015\n",
      "Pre-processing done for year  2015\n",
      "Shape of DF of year  2015  is  (27064, 11)\n"
     ]
    },
    {
     "name": "stderr",
     "output_type": "stream",
     "text": [
      " 78%|████████████████████████████████████████████████████████████████▌                  | 7/9 [20:10<05:44, 172.48s/it]"
     ]
    },
    {
     "name": "stdout",
     "output_type": "stream",
     "text": [
      "immigrant_NL_2016.xlsx\n",
      "(30727, 7)\n",
      "Tokenization done for year  2016\n",
      "Stopwords done for year  2016\n",
      "Lemmatization done for year  2016\n",
      "Pre-processing done for year  2016\n",
      "Shape of DF of year  2016  is  (30727, 11)\n"
     ]
    },
    {
     "name": "stderr",
     "output_type": "stream",
     "text": [
      " 89%|█████████████████████████████████████████████████████████████████████████▊         | 8/9 [23:36<03:02, 182.66s/it]"
     ]
    },
    {
     "name": "stdout",
     "output_type": "stream",
     "text": [
      "immigrant_NL_2017.xlsx\n",
      "(36294, 7)\n",
      "Tokenization done for year  2017\n",
      "Stopwords done for year  2017\n",
      "Lemmatization done for year  2017\n",
      "Pre-processing done for year  2017\n",
      "Shape of DF of year  2017  is  (36294, 11)\n"
     ]
    },
    {
     "name": "stderr",
     "output_type": "stream",
     "text": [
      "100%|███████████████████████████████████████████████████████████████████████████████████| 9/9 [27:36<00:00, 184.09s/it]\n"
     ]
    }
   ],
   "source": [
    "#Preprocess articles in the NewsLibrary dataset that are from newspaper outlets only (do this year by year in order not to overload RAM)\n",
    "path = data + 'NewsLibrary/'\n",
    "\n",
    "year = 2009\n",
    "useful_columns = ['n', 'date', 'year', 'source', 'title', 'wordcount', 'preproc_nl_articles', 'NPNAME1', 'APintI']\n",
    "\n",
    "for filename in tqdm(os.listdir(path)):\n",
    "    str_year = str(year)\n",
    "    print(filename)\n",
    "    df_ = pd.read_excel(path + filename)\n",
    "    df_.drop('A', axis = 1, inplace = True)\n",
    "    \n",
    "    #Merge to the outlets DF\n",
    "    df_ = pd.merge(df_, outlets, on = 'source', how = 'inner')\n",
    "    print(df_.shape)\n",
    "    \n",
    "    #About 0.1% of the DF has NANS for text or title so replace these by empty strings\n",
    "    df_['text'] = df_['text'].fillna('')\n",
    "    df_['title'] = df_['title'].fillna('')\n",
    "\n",
    "    #Create a column for the full text of the article: title + text\n",
    "    df_['alltext'] = df_['title'] + ' ' + df_['text']\n",
    "\n",
    "    #Do the preprocessing\n",
    "    full_text = sent_to_words(df_.alltext)\n",
    "    print(\"Tokenization done for year \", str_year)\n",
    "    full_text = remove_stopwords(full_text)\n",
    "    print(\"Stopwords done for year \", str_year)\n",
    "    full_text = lemmatization(full_text)\n",
    "    print(\"Lemmatization done for year \", str_year)\n",
    "\n",
    "    full_text = [\" \".join(text) for text in full_text]\n",
    "    print(\"Pre-processing done for year \", str_year)\n",
    "\n",
    "    df_[\"preproc_nl_articles\"] = full_text\n",
    "    df_['year'] = str_year\n",
    "    df_['n'] = 1\n",
    "    print('Shape of DF of year ', str_year, ' is ', df_.shape)\n",
    "    df_.loc[:,useful_columns].to_csv(data + 'NL_processed_np/NL_processed_np_' + str(year) + '.csv', index = False)\n",
    "    year += 1"
   ]
  }
 ],
 "metadata": {
  "kernelspec": {
   "display_name": "Python 3",
   "language": "python",
   "name": "python3"
  },
  "language_info": {
   "codemirror_mode": {
    "name": "ipython",
    "version": 3
   },
   "file_extension": ".py",
   "mimetype": "text/x-python",
   "name": "python",
   "nbconvert_exporter": "python",
   "pygments_lexer": "ipython3",
   "version": "3.8.5"
  },
  "latex_envs": {
   "LaTeX_envs_menu_present": true,
   "autoclose": false,
   "autocomplete": true,
   "bibliofile": "biblio.bib",
   "cite_by": "apalike",
   "current_citInitial": 1,
   "eqLabelWithNumbers": true,
   "eqNumInitial": 1,
   "hotkeys": {
    "equation": "Ctrl-E",
    "itemize": "Ctrl-I"
   },
   "labels_anchors": false,
   "latex_user_defs": false,
   "report_style_numbering": false,
   "user_envs_cfg": false
  },
  "toc": {
   "base_numbering": 1,
   "nav_menu": {},
   "number_sections": true,
   "sideBar": true,
   "skip_h1_title": false,
   "title_cell": "Table of Contents",
   "title_sidebar": "Contents",
   "toc_cell": false,
   "toc_position": {},
   "toc_section_display": true,
   "toc_window_display": false
  },
  "varInspector": {
   "cols": {
    "lenName": 16,
    "lenType": 16,
    "lenVar": 40
   },
   "kernels_config": {
    "python": {
     "delete_cmd_postfix": "",
     "delete_cmd_prefix": "del ",
     "library": "var_list.py",
     "varRefreshCmd": "print(var_dic_list())"
    },
    "r": {
     "delete_cmd_postfix": ") ",
     "delete_cmd_prefix": "rm(",
     "library": "var_list.r",
     "varRefreshCmd": "cat(var_dic_list()) "
    }
   },
   "types_to_exclude": [
    "module",
    "function",
    "builtin_function_or_method",
    "instance",
    "_Feature"
   ],
   "window_display": false
  }
 },
 "nbformat": 4,
 "nbformat_minor": 4
}
