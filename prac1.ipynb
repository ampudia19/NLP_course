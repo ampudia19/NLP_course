{
 "cells": [
  {
   "cell_type": "markdown",
   "metadata": {},
   "source": [
    "## Introduction"
   ]
  },
  {
   "cell_type": "markdown",
   "metadata": {},
   "source": [
    "This notebook introduces the Python code used to implement some of the concepts presented in the first set of lectures covering text analysis methods and their applications to social sciences. \n",
    "\n",
    "The code below relies on several packages, including the standard numpy and pandas ones. In case you need a refresher on how to install packages or update them, please check the Python installation [instructions](https://www.dropbox.com/s/lcx37uazu9i5vua/Python%20Setup%20Instructions.pdf?dl=0). Alternatively, do not hesitate in exploring the depths of [Stack Overflow](https://stackoverflow.com/), which likely contain answers to all questions you may pose today.\n",
    "\n",
    "The data used below consists of different datasets used to highlight different aspects of the methods shown today. The first one deals with court case transcripts in the US involving the death penalty, and will be used to showcase pre-processing techniques. The second database includes raw text data on the Bank of England Monetary Policy Committee transcripts between 1997 and 2014, and will be used to test your understanding of the core techniques.\n",
    "\n",
    "__Note__: In case you needed a Python crash course, you can explore [this](https://www.dropbox.com/s/b4jxmv1pe3tmz3v/Python_Brushup.ipynb?dl=0) jupyter notebook first."
   ]
  },
  {
   "cell_type": "code",
   "execution_count": 1,
   "metadata": {},
   "outputs": [],
   "source": [
    "import os\n",
    "import zipfile as zip\n",
    "import pandas as pd\n",
    "import csv\n",
    "import numpy as np\n",
    "\n",
    "from scipy.sparse import find, csr_matrix\n",
    "from scipy import stats\n",
    "\n",
    "\n",
    "import re\n",
    "from collections import Counter\n",
    "from pprint import pprint\n",
    "from tqdm import tqdm\n",
    "import matplotlib.pyplot as plt\n",
    "%matplotlib inline\n",
    "\n",
    "import string\n",
    "\n",
    "#Sklearn\n",
    "from sklearn.feature_selection import chi2\n",
    "from sklearn.feature_extraction.text import TfidfVectorizer, CountVectorizer\n",
    "from sklearn.metrics.pairwise import cosine_similarity\n",
    "\n",
    "\n",
    "# Gensim\n",
    "import gensim\n",
    "import gensim.corpora as corpora\n",
    "from gensim.utils import simple_preprocess\n",
    "from gensim.models import CoherenceModel\n",
    "from gensim.models import TfidfModel\n",
    "from gensim.parsing.porter import PorterStemmer\n",
    "\n",
    "# nltk\n",
    "import nltk\n",
    "from nltk.stem import SnowballStemmer\n",
    "from nltk import sent_tokenize, word_tokenize\n",
    "from nltk.corpus import stopwords\n",
    "\n",
    "# spacy for lemmatization\n",
    "import spacy\n",
    "\n",
    "# Change your main directory accordingly\n",
    "maindir = 'E:/Dropbox/_Pre-Doc/NLP_Class_Preparation/David/python_prac1'\n",
    "data = maindir + '/data'"
   ]
  },
  {
   "cell_type": "markdown",
   "metadata": {},
   "source": [
    "### Introduction - Death Penalty Court Cases"
   ]
  },
  {
   "cell_type": "code",
   "execution_count": 2,
   "metadata": {},
   "outputs": [
    {
     "data": {
      "text/html": [
       "<div>\n",
       "<style scoped>\n",
       "    .dataframe tbody tr th:only-of-type {\n",
       "        vertical-align: middle;\n",
       "    }\n",
       "\n",
       "    .dataframe tbody tr th {\n",
       "        vertical-align: top;\n",
       "    }\n",
       "\n",
       "    .dataframe thead th {\n",
       "        text-align: right;\n",
       "    }\n",
       "</style>\n",
       "<table border=\"1\" class=\"dataframe\">\n",
       "  <thead>\n",
       "    <tr style=\"text-align: right;\">\n",
       "      <th></th>\n",
       "      <th>court_id</th>\n",
       "      <th>author_id</th>\n",
       "      <th>state</th>\n",
       "      <th>year</th>\n",
       "      <th>dateFiled</th>\n",
       "      <th>citeCount</th>\n",
       "      <th>snippet</th>\n",
       "    </tr>\n",
       "  </thead>\n",
       "  <tbody>\n",
       "    <tr>\n",
       "      <th>0</th>\n",
       "      <td>nj</td>\n",
       "      <td>NaN</td>\n",
       "      <td>NJ</td>\n",
       "      <td>1965</td>\n",
       "      <td>1965-09-14T00:00:00Z</td>\n",
       "      <td>8</td>\n",
       "      <td>N.J.   ( )\\n  A. d  \\nIN RE WAIVER OF DEATH PE...</td>\n",
       "    </tr>\n",
       "    <tr>\n",
       "      <th>1</th>\n",
       "      <td>fla</td>\n",
       "      <td>4019.0</td>\n",
       "      <td>FL</td>\n",
       "      <td>1973</td>\n",
       "      <td>1973-07-26T00:00:00Z</td>\n",
       "      <td>552</td>\n",
       "      <td>whether the death penalty is, per se, unconsti...</td>\n",
       "    </tr>\n",
       "    <tr>\n",
       "      <th>2</th>\n",
       "      <td>texcrimapp</td>\n",
       "      <td>5765.0</td>\n",
       "      <td>TX</td>\n",
       "      <td>1975</td>\n",
       "      <td>1975-04-16T00:00:00Z</td>\n",
       "      <td>143</td>\n",
       "      <td># ;s contention that the assessment of the dea...</td>\n",
       "    </tr>\n",
       "    <tr>\n",
       "      <th>3</th>\n",
       "      <td>nm</td>\n",
       "      <td>NaN</td>\n",
       "      <td>NM</td>\n",
       "      <td>2009</td>\n",
       "      <td>2009-11-30T00:00:00Z</td>\n",
       "      <td>0</td>\n",
       "      <td>. d   ( )\\n -NMSC- \\nIN THE MATTER OF DEATH PE...</td>\n",
       "    </tr>\n",
       "    <tr>\n",
       "      <th>4</th>\n",
       "      <td>texcrimapp</td>\n",
       "      <td>5758.0</td>\n",
       "      <td>TX</td>\n",
       "      <td>1944</td>\n",
       "      <td>1944-12-20T00:00:00Z</td>\n",
       "      <td>56</td>\n",
       "      <td>assume the district attorney orally waived the...</td>\n",
       "    </tr>\n",
       "  </tbody>\n",
       "</table>\n",
       "</div>"
      ],
      "text/plain": [
       "     court_id  author_id state  year             dateFiled  citeCount  \\\n",
       "0          nj        NaN    NJ  1965  1965-09-14T00:00:00Z          8   \n",
       "1         fla     4019.0    FL  1973  1973-07-26T00:00:00Z        552   \n",
       "2  texcrimapp     5765.0    TX  1975  1975-04-16T00:00:00Z        143   \n",
       "3          nm        NaN    NM  2009  2009-11-30T00:00:00Z          0   \n",
       "4  texcrimapp     5758.0    TX  1944  1944-12-20T00:00:00Z         56   \n",
       "\n",
       "                                             snippet  \n",
       "0  N.J.   ( )\\n  A. d  \\nIN RE WAIVER OF DEATH PE...  \n",
       "1  whether the death penalty is, per se, unconsti...  \n",
       "2  # ;s contention that the assessment of the dea...  \n",
       "3  . d   ( )\\n -NMSC- \\nIN THE MATTER OF DEATH PE...  \n",
       "4  assume the district attorney orally waived the...  "
      ]
     },
     "execution_count": 2,
     "metadata": {},
     "output_type": "execute_result"
    }
   ],
   "source": [
    "df = pd.read_csv(data +'/death-penalty-cases.csv')\n",
    "\n",
    "df.head() # Show the top few lines of data\n",
    "# df.info() # Show information about the dataframe"
   ]
  },
  {
   "cell_type": "code",
   "execution_count": 3,
   "metadata": {},
   "outputs": [
    {
     "data": {
      "text/plain": [
       "array([[<AxesSubplot:title={'center':'year'}>,\n",
       "        <AxesSubplot:title={'center':'citeCount'}>]], dtype=object)"
      ]
     },
     "execution_count": 3,
     "metadata": {},
     "output_type": "execute_result"
    },
    {
     "data": {
      "image/png": "[encoded data removed]",
      "text/plain": [
       "<Figure size 432x288 with 2 Axes>"
      ]
     },
     "metadata": {
      "needs_background": "light"
     },
     "output_type": "display_data"
    }
   ],
   "source": [
    "df[['year','citeCount']].hist() # Visualize court citations per year"
   ]
  },
  {
   "cell_type": "markdown",
   "metadata": {},
   "source": [
    "<br>\n",
    "A first look at the data shows that our csv consists of US court cases with metadata on the court ID, the authority ID, the State in which the court was located, datetime information and a snippet containing a description of the case.\n",
    "\n",
    "Let us now look at the snippet of the first court case listed in our database."
   ]
  },
  {
   "cell_type": "code",
   "execution_count": 4,
   "metadata": {},
   "outputs": [
    {
     "name": "stdout",
     "output_type": "stream",
     "text": [
      "N.J.   ( )\n",
      "  A. d  \n",
      "IN RE WAIVER OF DEATH PENALTY.\n",
      "The Supreme Court of New Jersey.\n",
      "September & ; and County Court Judges\n",
      "\n",
      "Re: Waiver of the Death Penalty\n",
      "*  The Supreme Court is concerned by the excessive& ;cases where the prosecutor is not seeking the death penalty. It is cognizant of the fact that this situation& ;Although the prosecutor had a right to waive the death penalty and so inform the jury, the jury nevertheless& ;would assume, as did the prosecutor, that the death penalty would not be returned as it was not asked for\n"
     ]
    }
   ],
   "source": [
    "first = str(df['snippet'][0])\n",
    "print(first) # Explore the text in our first document"
   ]
  },
  {
   "cell_type": "markdown",
   "metadata": {},
   "source": [
    "### Text Pre-processing"
   ]
  },
  {
   "cell_type": "markdown",
   "metadata": {},
   "source": [
    "In class we saw how uninformative data may add noise and prove computationally costly. In the example above, one can argue not all raw character strings are equally relevant for analysis, or that non-alphabetic elements may add little information but increase the feature space. \n",
    "\n",
    "Let us explore the different steps one __can__ use to reduce the number of features and make a program more computational-friendly."
   ]
  },
  {
   "cell_type": "code",
   "execution_count": 5,
   "metadata": {},
   "outputs": [
    {
     "name": "stdout",
     "output_type": "stream",
     "text": [
      "['N.J.', '(', ')', 'A.', 'd', 'IN', 'RE', 'WAIVER', 'OF', 'DEATH', 'PENALTY.', 'The', 'Supreme', 'Court', 'of', 'New', 'Jersey.', 'September', '&', ';', 'and', 'County', 'Court', 'Judges', 'Re:', 'Waiver', 'of', 'the', 'Death', 'Penalty', '*', 'The', 'Supreme', 'Court', 'is', 'concerned', 'by', 'the', 'excessive&', ';cases', 'where', 'the', 'prosecutor', 'is', 'not', 'seeking', 'the', 'death', 'penalty.', 'It', 'is', 'cognizant', 'of', 'the', 'fact', 'that', 'this', 'situation&', ';Although', 'the', 'prosecutor', 'had', 'a', 'right', 'to', 'waive', 'the', 'death', 'penalty', 'and', 'so', 'inform', 'the', 'jury,', 'the', 'jury', 'nevertheless&', ';would', 'assume,', 'as', 'did', 'the', 'prosecutor,', 'that', 'the', 'death', 'penalty', 'would', 'not', 'be', 'returned', 'as', 'it', 'was', 'not', 'asked', 'for']\n"
     ]
    }
   ],
   "source": [
    "# Tokenize\n",
    "tokens = first.split()\n",
    "print(tokens)"
   ]
  },
  {
   "cell_type": "markdown",
   "metadata": {},
   "source": [
    "<br>\n",
    "Tokenizing represents the most basic step in creating documents from raw data. Note however that simply separating all pieces adds considerable noise. As an example, we may not be interested in including '(, )' as later on this will add an additional dimension to our document-term matrix which will increase the dimensionality of our problem while adding little information. Similarly, items like ';cases' will be considered as a different item to 'cases'. Finally, 'PENALTY' and 'penalty' will be treated as different terms. In order to control for these, we will remove non-alphabetic elements, punctuation and convert our data to lower case."
   ]
  },
  {
   "cell_type": "code",
   "execution_count": 6,
   "metadata": {},
   "outputs": [
    {
     "name": "stdout",
     "output_type": "stream",
     "text": [
      "in re waiver of death penalty the supreme court of new jersey september and county court judges re waiver of the death penalty the supreme court is concerned by the excessive cases where the prosecutor is not seeking the death penalty it is cognizant of the fact that this situation although the prosecutor had right to waive the death penalty and so inform the jury the jury nevertheless would assume as did the prosecutor that the death penalty would not be returned as it was not asked for\n"
     ]
    }
   ],
   "source": [
    "first = first.lower() # Replace all upper cases for lower cases\n",
    "\n",
    "first = first.strip() # Remove any trailing or leading spaces from words\n",
    "\n",
    "first.translate(str.maketrans('', '', string.punctuation)) # Remove punctuations\n",
    "\n",
    "first = [x for x in first.split() if not any(c.isdigit() for c in x)] #Remove any numbers\n",
    "first = ' '.join(first)\n",
    "\n",
    "result='' \n",
    "for item in gensim.utils.simple_preprocess(first, min_len = 2, max_len = 30): # Remove items that may be too large or small\n",
    "    result = result + ' ' + item\n",
    "    result = result.strip() #Strip whitespace out       \n",
    "print(result)"
   ]
  },
  {
   "cell_type": "markdown",
   "metadata": {},
   "source": [
    "<br>\n",
    "Note that above we called GENSIM's simple_preprocess() utility in order to tokenize our cleansed data. This utility is a convenient tool used frequently in text analysis as it lowercases, tokenizes, de-accents and removes non-alphabetic elements. The resulting text is printed above as a reduced set of unicode terms.\n",
    "\n",
    "There is more one may do, however. Consider the word _'the'_ or _'it'_. These are arguably very present in most texts but provide little information (cf. Zipf's law) that may be used in later analysis. It stands to reason then that the next step shoulf be to eliminate very common words used as connectors, which take up memory but add little in terms of information. We define these words as stopwrods."
   ]
  },
  {
   "cell_type": "code",
   "execution_count": 7,
   "metadata": {},
   "outputs": [
    {
     "name": "stdout",
     "output_type": "stream",
     "text": [
      "337\n",
      "GENSIM stopwords: 337\n",
      "NLTK stopwords: 179\n",
      "Total stopwords: 390\n"
     ]
    }
   ],
   "source": [
    "#Create a list of stopwords: combine the GENSIM and NLTK stopwords\n",
    "\n",
    "#Gensim\n",
    "gensim_sws = gensim.parsing.preprocessing.STOPWORDS\n",
    "print(len(gensim_sws))\n",
    "\n",
    "gensim_sws_list = list(gensim_sws)\n",
    "print('GENSIM stopwords:',len(gensim_sws_list))\n",
    "\n",
    "#NLTK\n",
    "nltk_stop_words = stopwords.words('english') #Load the list of English stopwords from NLTK\n",
    "print('NLTK stopwords:',len(nltk_stop_words))\n",
    "\n",
    "stop_words = list(set(gensim_sws_list + nltk_stop_words)) #Concatenate the two stop word lists\n",
    "print('Total stopwords:',len(stop_words))"
   ]
  },
  {
   "cell_type": "code",
   "execution_count": 8,
   "metadata": {},
   "outputs": [
    {
     "name": "stdout",
     "output_type": "stream",
     "text": [
      "waiver death penalty supreme court new jersey september county court judges waiver death penalty supreme court concerned excessive cases prosecutor seeking death penalty cognizant fact situation prosecutor right waive death penalty inform jury jury assume prosecutor death penalty returned asked\n"
     ]
    }
   ],
   "source": [
    "# Remove stopwords\n",
    "result=''\n",
    "for token in gensim.utils.simple_preprocess(first, min_len = 2, max_len = 30):\n",
    "    if token not in stop_words: # Only pass tokens which are not in our list of stopwords\n",
    "        result = result + ' ' + token\n",
    "        result = result.strip() #Strip whitespace out       \n",
    "print(result)"
   ]
  },
  {
   "cell_type": "markdown",
   "metadata": {},
   "source": [
    "<br>It seems reasonable to assume that the terms printed above are more tractable now, and will help allay dimensionality concerns. Let's transform the list of tokens in a count vector of unigrams."
   ]
  },
  {
   "cell_type": "code",
   "execution_count": 9,
   "metadata": {},
   "outputs": [
    {
     "name": "stdout",
     "output_type": "stream",
     "text": [
      "['waiver', 'death', 'penalty', 'supreme', 'court', 'new', 'jersey', 'september', 'county', 'court', 'judges', 'waiver', 'death', 'penalty', 'supreme', 'court', 'concerned', 'excessive', 'cases', 'prosecutor', 'seeking', 'death', 'penalty', 'cognizant', 'fact', 'situation', 'prosecutor', 'right', 'waive', 'death', 'penalty', 'inform', 'jury', 'jury', 'assume', 'prosecutor', 'death', 'penalty', 'returned', 'asked']\n"
     ]
    }
   ],
   "source": [
    "result_list=[]\n",
    "for token in gensim.utils.simple_preprocess(first, min_len = 2, max_len = 30) :\n",
    "    if token not in stop_words : #and len(token) > 3 can be added to get rid of tokens that are smalller than 3 characters\n",
    "        result_list.append(token) # Create a list of tokens\n",
    "print(result_list)"
   ]
  },
  {
   "cell_type": "code",
   "execution_count": 10,
   "metadata": {},
   "outputs": [
    {
     "data": {
      "text/plain": [
       "[('death', 5),\n",
       " ('penalty', 5),\n",
       " ('court', 3),\n",
       " ('prosecutor', 3),\n",
       " ('waiver', 2),\n",
       " ('supreme', 2),\n",
       " ('jury', 2),\n",
       " ('new', 1),\n",
       " ('jersey', 1),\n",
       " ('september', 1)]"
      ]
     },
     "execution_count": 10,
     "metadata": {},
     "output_type": "execute_result"
    }
   ],
   "source": [
    "freqs = Counter(result_list) # Bag of Words representation for the first court case\n",
    "freqs.most_common()[:10]"
   ]
  },
  {
   "cell_type": "markdown",
   "metadata": {},
   "source": [
    "<br>We may also be interested in further reducing dimensionality by reducing words to their common linguistic root. In order to do so, we can either _stem_ or _lemmatize_ words. Stemming is a relatively crude method for cataloging related words; it essentially removes letters from the end until the stem is reached."
   ]
  },
  {
   "cell_type": "code",
   "execution_count": 11,
   "metadata": {},
   "outputs": [
    {
     "name": "stdout",
     "output_type": "stream",
     "text": [
      "['waiver', 'death', 'penalti', 'suprem', 'court', 'new', 'jersey', 'septemb', 'counti', 'judg', 'concern', 'excess', 'case', 'prosecutor', 'seek', 'cogniz', 'fact', 'situat', 'right', 'waiv', 'inform', 'juri', 'assum', 'return', 'ask']\n"
     ]
    }
   ],
   "source": [
    "stemmer = SnowballStemmer('english') # Stemming words using NLTK utility SnowballStemmer, or Porter2\n",
    "tokens_stemmed = [stemmer.stem(t) for t in freqs]\n",
    "print(tokens_stemmed)"
   ]
  },
  {
   "cell_type": "markdown",
   "metadata": {},
   "source": [
    "<br>Unfortunately, English has many exceptions where a more sophisticated method is required. In contrast to stemming, lemmatization looks beyond word reduction and considers a language's full vocabulary to apply a morphological analysis to words. The lemma of _'was'_ is _'be'_ and the lemma of _'mice'_ is _'mouse'_."
   ]
  },
  {
   "cell_type": "code",
   "execution_count": 12,
   "metadata": {},
   "outputs": [
    {
     "name": "stdout",
     "output_type": "stream",
     "text": [
      "waiver       PROPN  2444333469187363208    waiver\n",
      "death        PROPN  17835866735480682125   death\n",
      "penalty      PROPN  17484722512493506432   penalty\n",
      "supreme      PROPN  4767139463274071201    supreme\n",
      "court        PROPN  9597162758872268865    court\n",
      "new          PROPN  4753564829687343602    new\n",
      "jersey       PROPN  4620547567241878919    jersey\n",
      "september    PROPN  7261505081402976146    september\n",
      "county       PROPN  9750629117708145069    county\n",
      "court        NOUN   9597162758872268865    court\n",
      "judges       NOUN   13878232464834663324   judge\n",
      "waiver       PROPN  2444333469187363208    waiver\n",
      "death        NOUN   17835866735480682125   death\n",
      "penalty      NOUN   17484722512493506432   penalty\n",
      "supreme      PROPN  4767139463274071201    supreme\n",
      "court        PROPN  9597162758872268865    court\n",
      "concerned    VERB   16371372851814722007   concern\n",
      "excessive    ADJ    10025728121779276943   excessive\n",
      "cases        NOUN   8110129090154140942    case\n",
      "prosecutor   NOUN   6366927874882496819    prosecutor\n",
      "seeking      VERB   3964910719406958291    seek\n",
      "death        NOUN   17835866735480682125   death\n",
      "penalty      NOUN   17484722512493506432   penalty\n",
      "cognizant    ADJ    8737564623400510967    cognizant\n",
      "fact         NOUN   3814049101131682695    fact\n",
      "situation    NOUN   13467163215399432703   situation\n",
      "prosecutor   NOUN   6366927874882496819    prosecutor\n",
      "right        ADJ    5943797630011647483    right\n",
      "waive        NOUN   13913281210609103327   waive\n",
      "death        NOUN   17835866735480682125   death\n",
      "penalty      NOUN   17484722512493506432   penalty\n",
      "inform       ADJ    4201870561030741218    inform\n",
      "jury         NOUN   6169656856792374508    jury\n",
      "jury         NOUN   6169656856792374508    jury\n",
      "assume       VERB   14983110530480808814   assume\n",
      "prosecutor   NOUN   6366927874882496819    prosecutor\n",
      "death        NOUN   17835866735480682125   death\n",
      "penalty      NOUN   17484722512493506432   penalty\n",
      "returned     VERB   9563260825101828504    return\n",
      "asked        VERB   203487227105936704     ask\n",
      "mice         NOUN   1384165645700560590    mouse\n",
      "and          CCONJ  2283656566040971221    and\n",
      "mouse        NOUN   1384165645700560590    mouse\n"
     ]
    }
   ],
   "source": [
    "import spacy # spaCy is a powerful library but an introduction is beyond the scope of this notebook.\n",
    "nlp = spacy.load('en_core_web_sm')\n",
    "\n",
    "def show_lemmas(text): # Facilitate readability of lemmas\n",
    "    for token in text:\n",
    "        print(f'{token.text:{12}} {token.pos_:{6}} {token.lemma:<{22}} {token.lemma_}')\n",
    "        \n",
    "freqs = nlp(result + ' mice and mouse') # Add discretionary word to show the strengths of lemmatizing documents\n",
    "show_lemmas(freqs)"
   ]
  },
  {
   "cell_type": "markdown",
   "metadata": {},
   "source": [
    "<br>The code above can be easily scaled to all documents in the corpus, as shown below"
   ]
  },
  {
   "cell_type": "code",
   "execution_count": 13,
   "metadata": {},
   "outputs": [],
   "source": [
    "#Define pre-processing functions\n",
    "import string\n",
    "table = str.maketrans('', '', string.punctuation)\n",
    "\n",
    "def remove_punctuation(s):\n",
    "    return s.translate(table)\n",
    "\n",
    "def remove_words_with_numbers(text):\n",
    "    result = [x for x in text.split() if not any(c.isdigit() for c in x)]\n",
    "    res_text = ' '.join(result)\n",
    "    return res_text\n",
    "\n",
    "def clean_str(text):\n",
    "    result=''\n",
    "    text = remove_punctuation(text)\n",
    "    res_text = remove_words_with_numbers(text)\n",
    "    for token in gensim.utils.simple_preprocess(res_text, min_len = 2, max_len = 30) :\n",
    "        if token not in stop_words: \n",
    "            result = result + ' ' + token\n",
    "            result = result.strip() #Strip whitespace out       \n",
    "    return result\n",
    "\n",
    "def clean_list(text):\n",
    "    result = []\n",
    "    text = remove_punctuation(text)\n",
    "    res_text = remove_words_with_numbers(text)\n",
    "    for token in gensim.utils.simple_preprocess(res_text, min_len = 2, max_len = 30) :\n",
    "        if token not in stop_words : #and len(token) > 3 can be added to get rid of tokens that are smalller than 3 characters\n",
    "            result.append(token)   \n",
    "    return result"
   ]
  },
  {
   "cell_type": "code",
   "execution_count": 14,
   "metadata": {},
   "outputs": [
    {
     "data": {
      "text/html": [
       "<div>\n",
       "<style scoped>\n",
       "    .dataframe tbody tr th:only-of-type {\n",
       "        vertical-align: middle;\n",
       "    }\n",
       "\n",
       "    .dataframe tbody tr th {\n",
       "        vertical-align: top;\n",
       "    }\n",
       "\n",
       "    .dataframe thead th {\n",
       "        text-align: right;\n",
       "    }\n",
       "</style>\n",
       "<table border=\"1\" class=\"dataframe\">\n",
       "  <thead>\n",
       "    <tr style=\"text-align: right;\">\n",
       "      <th></th>\n",
       "      <th>court_id</th>\n",
       "      <th>author_id</th>\n",
       "      <th>state</th>\n",
       "      <th>year</th>\n",
       "      <th>dateFiled</th>\n",
       "      <th>citeCount</th>\n",
       "      <th>snippet</th>\n",
       "      <th>snippet_list</th>\n",
       "    </tr>\n",
       "  </thead>\n",
       "  <tbody>\n",
       "    <tr>\n",
       "      <th>0</th>\n",
       "      <td>nj</td>\n",
       "      <td>NaN</td>\n",
       "      <td>NJ</td>\n",
       "      <td>1965</td>\n",
       "      <td>1965-09-14T00:00:00Z</td>\n",
       "      <td>8</td>\n",
       "      <td>nj waiver death penalty supreme court new jers...</td>\n",
       "      <td>[nj, waiver, death, penalty, supreme, court, n...</td>\n",
       "    </tr>\n",
       "    <tr>\n",
       "      <th>1</th>\n",
       "      <td>fla</td>\n",
       "      <td>4019.0</td>\n",
       "      <td>FL</td>\n",
       "      <td>1973</td>\n",
       "      <td>1973-07-26T00:00:00Z</td>\n",
       "      <td>552</td>\n",
       "      <td>death penalty se unconstitutional discretionar...</td>\n",
       "      <td>[death, penalty, se, unconstitutional, discret...</td>\n",
       "    </tr>\n",
       "    <tr>\n",
       "      <th>2</th>\n",
       "      <td>texcrimapp</td>\n",
       "      <td>5765.0</td>\n",
       "      <td>TX</td>\n",
       "      <td>1975</td>\n",
       "      <td>1975-04-16T00:00:00Z</td>\n",
       "      <td>143</td>\n",
       "      <td>contention assessment death penalty article su...</td>\n",
       "      <td>[contention, assessment, death, penalty, artic...</td>\n",
       "    </tr>\n",
       "    <tr>\n",
       "      <th>3</th>\n",
       "      <td>nm</td>\n",
       "      <td>NaN</td>\n",
       "      <td>NM</td>\n",
       "      <td>2009</td>\n",
       "      <td>2009-11-30T00:00:00Z</td>\n",
       "      <td>0</td>\n",
       "      <td>nmsc matter death penalty sentencing jury inst...</td>\n",
       "      <td>[nmsc, matter, death, penalty, sentencing, jur...</td>\n",
       "    </tr>\n",
       "    <tr>\n",
       "      <th>4</th>\n",
       "      <td>texcrimapp</td>\n",
       "      <td>5758.0</td>\n",
       "      <td>TX</td>\n",
       "      <td>1944</td>\n",
       "      <td>1944-12-20T00:00:00Z</td>\n",
       "      <td>56</td>\n",
       "      <td>assume district attorney orally waived death p...</td>\n",
       "      <td>[assume, district, attorney, orally, waived, d...</td>\n",
       "    </tr>\n",
       "  </tbody>\n",
       "</table>\n",
       "</div>"
      ],
      "text/plain": [
       "     court_id  author_id state  year             dateFiled  citeCount  \\\n",
       "0          nj        NaN    NJ  1965  1965-09-14T00:00:00Z          8   \n",
       "1         fla     4019.0    FL  1973  1973-07-26T00:00:00Z        552   \n",
       "2  texcrimapp     5765.0    TX  1975  1975-04-16T00:00:00Z        143   \n",
       "3          nm        NaN    NM  2009  2009-11-30T00:00:00Z          0   \n",
       "4  texcrimapp     5758.0    TX  1944  1944-12-20T00:00:00Z         56   \n",
       "\n",
       "                                             snippet  \\\n",
       "0  nj waiver death penalty supreme court new jers...   \n",
       "1  death penalty se unconstitutional discretionar...   \n",
       "2  contention assessment death penalty article su...   \n",
       "3  nmsc matter death penalty sentencing jury inst...   \n",
       "4  assume district attorney orally waived death p...   \n",
       "\n",
       "                                        snippet_list  \n",
       "0  [nj, waiver, death, penalty, supreme, court, n...  \n",
       "1  [death, penalty, se, unconstitutional, discret...  \n",
       "2  [contention, assessment, death, penalty, artic...  \n",
       "3  [nmsc, matter, death, penalty, sentencing, jur...  \n",
       "4  [assume, district, attorney, orally, waived, d...  "
      ]
     },
     "execution_count": 14,
     "metadata": {},
     "output_type": "execute_result"
    }
   ],
   "source": [
    "#Apply preprocessing function\n",
    "df['snippet'] = df['snippet'].apply(lambda x: clean_str(x))\n",
    "df['snippet_list'] = df['snippet'].apply(lambda x: clean_list(x))\n",
    "\n",
    "df.head()"
   ]
  },
  {
   "cell_type": "code",
   "execution_count": 15,
   "metadata": {},
   "outputs": [
    {
     "data": {
      "text/plain": [
       "[('death', 91343),\n",
       " ('penalty', 89775),\n",
       " ('court', 11202),\n",
       " ('state', 9509),\n",
       " ('case', 9122),\n",
       " ('defendant', 8213),\n",
       " ('jury', 7657),\n",
       " ('trial', 7266),\n",
       " ('imposition', 6573),\n",
       " ('imposed', 6225),\n",
       " ('cases', 6190),\n",
       " ('murder', 5402),\n",
       " ('seek', 4487),\n",
       " ('statute', 4425),\n",
       " ('act', 4087),\n",
       " ('impose', 3766),\n",
       " ('effective', 3682),\n",
       " ('antiterrorism', 3279),\n",
       " ('life', 3278),\n",
       " ('appellant', 3104)]"
      ]
     },
     "execution_count": 15,
     "metadata": {},
     "output_type": "execute_result"
    }
   ],
   "source": [
    "full_text=np.hstack(df['snippet_list']) # Measure word frequency across the entire corpus\n",
    "full_freqs = Counter(full_text)\n",
    "full_freqs.most_common()[:20]"
   ]
  },
  {
   "cell_type": "markdown",
   "metadata": {},
   "source": [
    "<br>For a nice visualization of our selected features, we can construct a word cloud"
   ]
  },
  {
   "cell_type": "code",
   "execution_count": 16,
   "metadata": {},
   "outputs": [
    {
     "data": {
      "image/png": "[encoded data removed]",
      "text/plain": [
       "<Figure size 432x288 with 1 Axes>"
      ]
     },
     "metadata": {
      "needs_background": "light"
     },
     "output_type": "display_data"
    }
   ],
   "source": [
    "from wordcloud import WordCloud\n",
    "import matplotlib.pyplot as plt\n",
    "\n",
    "wordcloud = WordCloud().generate_from_frequencies(full_freqs)\n",
    "\n",
    "plt.imshow(wordcloud, interpolation = 'bilinear')\n",
    "plt.axis(\"off\")\n",
    "plt.show()"
   ]
  },
  {
   "cell_type": "markdown",
   "metadata": {},
   "source": [
    "<br>Note that some words are extremely pervalent in our texts. In particular, words like _death_ or _penalty_ appear in nearly every document, a non-surprising result considering the nature of our data. In later analysis, one may want to remove these words given the lack of per-document variation. The same applies to words that may be extremely rare across our corpus.\n",
    "\n",
    "The exercise above serves to ilustrate some of the steps that a researcher may use to reduce the dimensionality and noise in the data. Most of these processes are included and run in the background of most utilities used for text analysis. An example is [Scikit-learn](https://scikit-learn.org/stable/)'s [CountVectorizer](https://scikit-learn.org/stable/modules/generated/sklearn.feature_extraction.text.CountVectorizer.html), which pre-processes any corpus of raw data into a document-term matrix of token counts."
   ]
  },
  {
   "cell_type": "code",
   "execution_count": 17,
   "metadata": {},
   "outputs": [],
   "source": [
    "df1 = pd.read_csv(data + '/death-penalty-cases.csv')"
   ]
  },
  {
   "cell_type": "code",
   "execution_count": 18,
   "metadata": {},
   "outputs": [
    {
     "name": "stdout",
     "output_type": "stream",
     "text": [
      "['act', 'appellant', 'case', 'cases', 'court', 'death', 'defendant', 'effective', 'impose', 'imposed', 'imposition', 'jury', 'life', 'murder', 'penalty', 'quot', 'seek', 'state', 'statute', 'trial']\n"
     ]
    }
   ],
   "source": [
    "vec = CountVectorizer(max_features=20, # feature number is calibrated to ease comparability with our list above\n",
    "                        stop_words='english')\n",
    "X = vec.fit_transform(df1['snippet'])\n",
    "words = vec.get_feature_names()\n",
    "print(words)"
   ]
  },
  {
   "cell_type": "markdown",
   "metadata": {},
   "source": [
    "<br>In the code above, X corresponds to a numpy array of counts for the most prevalent words in our corpus. We can represent this matrix as our document-term matrix. In order to do so, let's first reduce the dimension of features in order to facilitate readability "
   ]
  },
  {
   "cell_type": "code",
   "execution_count": 19,
   "metadata": {},
   "outputs": [
    {
     "name": "stdout",
     "output_type": "stream",
     "text": [
      "['court', 'death', 'penalty', 'quot']\n"
     ]
    }
   ],
   "source": [
    "vec = CountVectorizer(max_features=4, # feature number is calibrated to ease comparability with our list above\n",
    "                        stop_words='english')\n",
    "X = vec.fit_transform(df1['snippet'])\n",
    "words = vec.get_feature_names()\n",
    "print(words)"
   ]
  },
  {
   "cell_type": "code",
   "execution_count": 20,
   "metadata": {},
   "outputs": [
    {
     "name": "stdout",
     "output_type": "stream",
     "text": [
      "[[3 5 5 0]\n",
      " [0 9 9 1]\n",
      " [0 5 6 0]\n",
      " ...\n",
      " [0 8 8 0]\n",
      " [0 1 1 0]\n",
      " [0 3 4 0]]\n"
     ]
    }
   ],
   "source": [
    "X = X.todense() # Returns a dense matrix representation of our numpy array\n",
    "print(X)"
   ]
  },
  {
   "cell_type": "code",
   "execution_count": 21,
   "metadata": {},
   "outputs": [
    {
     "name": "stdout",
     "output_type": "stream",
     "text": [
      "[[0.23076923 0.38461538 0.38461538 0.        ]\n",
      " [0.         0.47368421 0.47368421 0.05263158]\n",
      " [0.         0.45454545 0.54545455 0.        ]\n",
      " ...\n",
      " [0.         0.5        0.5        0.        ]\n",
      " [0.         0.5        0.5        0.        ]\n",
      " [0.         0.42857143 0.57142857 0.        ]]\n"
     ]
    }
   ],
   "source": [
    "X = X/X.sum(axis=1) # Relative term frequency, in practice the feature space is much larger\n",
    "print(X)"
   ]
  },
  {
   "cell_type": "code",
   "execution_count": 22,
   "metadata": {},
   "outputs": [
    {
     "data": {
      "text/html": [
       "<div>\n",
       "<style scoped>\n",
       "    .dataframe tbody tr th:only-of-type {\n",
       "        vertical-align: middle;\n",
       "    }\n",
       "\n",
       "    .dataframe tbody tr th {\n",
       "        vertical-align: top;\n",
       "    }\n",
       "\n",
       "    .dataframe thead th {\n",
       "        text-align: right;\n",
       "    }\n",
       "</style>\n",
       "<table border=\"1\" class=\"dataframe\">\n",
       "  <thead>\n",
       "    <tr style=\"text-align: right;\">\n",
       "      <th></th>\n",
       "      <th>court_id</th>\n",
       "      <th>author_id</th>\n",
       "      <th>state</th>\n",
       "      <th>year</th>\n",
       "      <th>dateFiled</th>\n",
       "      <th>citeCount</th>\n",
       "      <th>snippet</th>\n",
       "      <th>x_court</th>\n",
       "      <th>x_death</th>\n",
       "      <th>x_penalty</th>\n",
       "      <th>x_quot</th>\n",
       "    </tr>\n",
       "  </thead>\n",
       "  <tbody>\n",
       "    <tr>\n",
       "      <th>0</th>\n",
       "      <td>nj</td>\n",
       "      <td>NaN</td>\n",
       "      <td>NJ</td>\n",
       "      <td>1965</td>\n",
       "      <td>1965-09-14T00:00:00Z</td>\n",
       "      <td>8</td>\n",
       "      <td>N.J.   ( )\\n  A. d  \\nIN RE WAIVER OF DEATH PE...</td>\n",
       "      <td>0.230769</td>\n",
       "      <td>0.384615</td>\n",
       "      <td>0.384615</td>\n",
       "      <td>0.000000</td>\n",
       "    </tr>\n",
       "    <tr>\n",
       "      <th>1</th>\n",
       "      <td>fla</td>\n",
       "      <td>4019.0</td>\n",
       "      <td>FL</td>\n",
       "      <td>1973</td>\n",
       "      <td>1973-07-26T00:00:00Z</td>\n",
       "      <td>552</td>\n",
       "      <td>whether the death penalty is, per se, unconsti...</td>\n",
       "      <td>0.000000</td>\n",
       "      <td>0.473684</td>\n",
       "      <td>0.473684</td>\n",
       "      <td>0.052632</td>\n",
       "    </tr>\n",
       "    <tr>\n",
       "      <th>2</th>\n",
       "      <td>texcrimapp</td>\n",
       "      <td>5765.0</td>\n",
       "      <td>TX</td>\n",
       "      <td>1975</td>\n",
       "      <td>1975-04-16T00:00:00Z</td>\n",
       "      <td>143</td>\n",
       "      <td># ;s contention that the assessment of the dea...</td>\n",
       "      <td>0.000000</td>\n",
       "      <td>0.454545</td>\n",
       "      <td>0.545455</td>\n",
       "      <td>0.000000</td>\n",
       "    </tr>\n",
       "    <tr>\n",
       "      <th>3</th>\n",
       "      <td>nm</td>\n",
       "      <td>NaN</td>\n",
       "      <td>NM</td>\n",
       "      <td>2009</td>\n",
       "      <td>2009-11-30T00:00:00Z</td>\n",
       "      <td>0</td>\n",
       "      <td>. d   ( )\\n -NMSC- \\nIN THE MATTER OF DEATH PE...</td>\n",
       "      <td>0.000000</td>\n",
       "      <td>0.500000</td>\n",
       "      <td>0.500000</td>\n",
       "      <td>0.000000</td>\n",
       "    </tr>\n",
       "    <tr>\n",
       "      <th>4</th>\n",
       "      <td>texcrimapp</td>\n",
       "      <td>5758.0</td>\n",
       "      <td>TX</td>\n",
       "      <td>1944</td>\n",
       "      <td>1944-12-20T00:00:00Z</td>\n",
       "      <td>56</td>\n",
       "      <td>assume the district attorney orally waived the...</td>\n",
       "      <td>0.000000</td>\n",
       "      <td>0.428571</td>\n",
       "      <td>0.428571</td>\n",
       "      <td>0.142857</td>\n",
       "    </tr>\n",
       "  </tbody>\n",
       "</table>\n",
       "</div>"
      ],
      "text/plain": [
       "     court_id  author_id state  year             dateFiled  citeCount  \\\n",
       "0          nj        NaN    NJ  1965  1965-09-14T00:00:00Z          8   \n",
       "1         fla     4019.0    FL  1973  1973-07-26T00:00:00Z        552   \n",
       "2  texcrimapp     5765.0    TX  1975  1975-04-16T00:00:00Z        143   \n",
       "3          nm        NaN    NM  2009  2009-11-30T00:00:00Z          0   \n",
       "4  texcrimapp     5758.0    TX  1944  1944-12-20T00:00:00Z         56   \n",
       "\n",
       "                                             snippet   x_court   x_death  \\\n",
       "0  N.J.   ( )\\n  A. d  \\nIN RE WAIVER OF DEATH PE...  0.230769  0.384615   \n",
       "1  whether the death penalty is, per se, unconsti...  0.000000  0.473684   \n",
       "2  # ;s contention that the assessment of the dea...  0.000000  0.454545   \n",
       "3  . d   ( )\\n -NMSC- \\nIN THE MATTER OF DEATH PE...  0.000000  0.500000   \n",
       "4  assume the district attorney orally waived the...  0.000000  0.428571   \n",
       "\n",
       "   x_penalty    x_quot  \n",
       "0   0.384615  0.000000  \n",
       "1   0.473684  0.052632  \n",
       "2   0.545455  0.000000  \n",
       "3   0.500000  0.000000  \n",
       "4   0.428571  0.142857  "
      ]
     },
     "execution_count": 22,
     "metadata": {},
     "output_type": "execute_result"
    }
   ],
   "source": [
    "for i, word in enumerate(words):\n",
    "    column = X[:,i]\n",
    "    df1['x_'+word] = column\n",
    "\n",
    "df1.head()"
   ]
  },
  {
   "cell_type": "markdown",
   "metadata": {},
   "source": [
    "<br>Note that some applications go beyond the use of unigrams to perform text analysis. CountVectorizer can easily adapt counts for terms that may either be unigrams (one word) or several words (bigrams, trigrams)."
   ]
  },
  {
   "cell_type": "code",
   "execution_count": 23,
   "metadata": {},
   "outputs": [],
   "source": [
    "df1 = pd.read_csv(data + '/death-penalty-cases.csv')\n",
    "vec = CountVectorizer(min_df=0.01, # at min 1% of docs\n",
    "                        max_df=.9,  \n",
    "                        max_features=20,\n",
    "                        stop_words='english',\n",
    "                        ngram_range=(1,3))\n",
    "X = vec.fit_transform(df1['snippet'])"
   ]
  },
  {
   "cell_type": "code",
   "execution_count": 24,
   "metadata": {},
   "outputs": [
    {
     "name": "stdout",
     "output_type": "stream",
     "text": [
      "['act', 'case', 'cases', 'court', 'death penalty imposed', 'defendant', 'imposed', 'imposition', 'imposition death', 'imposition death penalty', 'jury', 'murder', 'penalty imposed', 'quot', 'seek', 'seek death', 'seek death penalty', 'state', 'statute', 'trial']\n"
     ]
    }
   ],
   "source": [
    "words = vec.get_feature_names()\n",
    "print(words[:20])"
   ]
  },
  {
   "cell_type": "markdown",
   "metadata": {},
   "source": [
    "The weighting implemented above was rather crude; optimally, we would like to transform our counts with __tf-idf__. In order to do so, we make use of Scikit-learn's [TfIdfVectorizer](https://scikit-learn.org/stable/modules/generated/sklearn.feature_extraction.text.TfidfVectorizer.html), which combines the pre-processing and counting of CountVectorizer with the convenient downscaling of a TF-IDF transformation."
   ]
  },
  {
   "cell_type": "code",
   "execution_count": 25,
   "metadata": {},
   "outputs": [
    {
     "name": "stdout",
     "output_type": "stream",
     "text": [
      "['act', 'case', 'cases', 'court', 'death penalty imposed', 'defendant', 'imposed', 'imposition', 'imposition death', 'imposition death penalty', 'jury', 'murder', 'penalty imposed', 'quot', 'seek', 'seek death', 'seek death penalty', 'state', 'statute', 'trial']\n"
     ]
    }
   ],
   "source": [
    "tfidf = TfidfVectorizer(min_df = 0.01,\n",
    "                        max_df = 0.9,\n",
    "                        max_features=20,\n",
    "                        stop_words='english',\n",
    "                        use_idf=True,\n",
    "                        ngram_range=(1,3))\n",
    "X_tfidf = tfidf.fit_transform(df1['snippet'])\n",
    "names = tfidf.get_feature_names()\n",
    "print(names)"
   ]
  },
  {
   "cell_type": "code",
   "execution_count": 26,
   "metadata": {},
   "outputs": [
    {
     "data": {
      "text/html": [
       "<div>\n",
       "<style scoped>\n",
       "    .dataframe tbody tr th:only-of-type {\n",
       "        vertical-align: middle;\n",
       "    }\n",
       "\n",
       "    .dataframe tbody tr th {\n",
       "        vertical-align: top;\n",
       "    }\n",
       "\n",
       "    .dataframe thead th {\n",
       "        text-align: right;\n",
       "    }\n",
       "</style>\n",
       "<table border=\"1\" class=\"dataframe\">\n",
       "  <thead>\n",
       "    <tr style=\"text-align: right;\">\n",
       "      <th></th>\n",
       "      <th>tfidf</th>\n",
       "    </tr>\n",
       "  </thead>\n",
       "  <tbody>\n",
       "    <tr>\n",
       "      <th>act</th>\n",
       "      <td>0.070765</td>\n",
       "    </tr>\n",
       "    <tr>\n",
       "      <th>case</th>\n",
       "      <td>0.111922</td>\n",
       "    </tr>\n",
       "    <tr>\n",
       "      <th>cases</th>\n",
       "      <td>0.082163</td>\n",
       "    </tr>\n",
       "    <tr>\n",
       "      <th>court</th>\n",
       "      <td>0.117503</td>\n",
       "    </tr>\n",
       "    <tr>\n",
       "      <th>death penalty imposed</th>\n",
       "      <td>0.044744</td>\n",
       "    </tr>\n",
       "    <tr>\n",
       "      <th>defendant</th>\n",
       "      <td>0.091001</td>\n",
       "    </tr>\n",
       "    <tr>\n",
       "      <th>imposed</th>\n",
       "      <td>0.066964</td>\n",
       "    </tr>\n",
       "    <tr>\n",
       "      <th>imposition</th>\n",
       "      <td>0.063218</td>\n",
       "    </tr>\n",
       "    <tr>\n",
       "      <th>imposition death</th>\n",
       "      <td>0.060015</td>\n",
       "    </tr>\n",
       "    <tr>\n",
       "      <th>imposition death penalty</th>\n",
       "      <td>0.059887</td>\n",
       "    </tr>\n",
       "    <tr>\n",
       "      <th>jury</th>\n",
       "      <td>0.091650</td>\n",
       "    </tr>\n",
       "    <tr>\n",
       "      <th>murder</th>\n",
       "      <td>0.076072</td>\n",
       "    </tr>\n",
       "    <tr>\n",
       "      <th>penalty imposed</th>\n",
       "      <td>0.044923</td>\n",
       "    </tr>\n",
       "    <tr>\n",
       "      <th>quot</th>\n",
       "      <td>0.150535</td>\n",
       "    </tr>\n",
       "    <tr>\n",
       "      <th>seek</th>\n",
       "      <td>0.044499</td>\n",
       "    </tr>\n",
       "    <tr>\n",
       "      <th>seek death</th>\n",
       "      <td>0.043147</td>\n",
       "    </tr>\n",
       "    <tr>\n",
       "      <th>seek death penalty</th>\n",
       "      <td>0.043130</td>\n",
       "    </tr>\n",
       "    <tr>\n",
       "      <th>state</th>\n",
       "      <td>0.105009</td>\n",
       "    </tr>\n",
       "    <tr>\n",
       "      <th>statute</th>\n",
       "      <td>0.053982</td>\n",
       "    </tr>\n",
       "    <tr>\n",
       "      <th>trial</th>\n",
       "      <td>0.085398</td>\n",
       "    </tr>\n",
       "  </tbody>\n",
       "</table>\n",
       "</div>"
      ],
      "text/plain": [
       "                             tfidf\n",
       "act                       0.070765\n",
       "case                      0.111922\n",
       "cases                     0.082163\n",
       "court                     0.117503\n",
       "death penalty imposed     0.044744\n",
       "defendant                 0.091001\n",
       "imposed                   0.066964\n",
       "imposition                0.063218\n",
       "imposition death          0.060015\n",
       "imposition death penalty  0.059887\n",
       "jury                      0.091650\n",
       "murder                    0.076072\n",
       "penalty imposed           0.044923\n",
       "quot                      0.150535\n",
       "seek                      0.044499\n",
       "seek death                0.043147\n",
       "seek death penalty        0.043130\n",
       "state                     0.105009\n",
       "statute                   0.053982\n",
       "trial                     0.085398"
      ]
     },
     "execution_count": 26,
     "metadata": {},
     "output_type": "execute_result"
    }
   ],
   "source": [
    "# Visualize tf-idf weights for the selected features\n",
    "summarizer_1 = lambda x: np.mean(x,axis=0)\n",
    "dw = summarizer_1(X_tfidf)\n",
    "dft = pd.DataFrame(np.reshape(dw,(20,1)), \n",
    "                   index=tfidf.get_feature_names(), columns = [\"tfidf\"])\n",
    "dft"
   ]
  },
  {
   "cell_type": "markdown",
   "metadata": {},
   "source": [
    "<br> <br> "
   ]
  },
  {
   "cell_type": "markdown",
   "metadata": {},
   "source": [
    "### Application - Sentiment Analysis on the Bank of England's MPC meetings"
   ]
  },
  {
   "cell_type": "markdown",
   "metadata": {},
   "source": [
    "Let's apply some of the techniques learnt above to perform basic sentiment analysis using text from the Bank of England's Monetary Policy Committees as an example. Let's first read the data"
   ]
  },
  {
   "cell_type": "code",
   "execution_count": 208,
   "metadata": {},
   "outputs": [],
   "source": [
    "# Read txt file\n",
    "df = pd.read_csv(data + '/BoE_mpc_minutes.txt', encoding=\"utf-8\", sep=\"\\t\")"
   ]
  },
  {
   "cell_type": "markdown",
   "metadata": {},
   "source": [
    "<br>Note that the Pandas DataFrame we build separates columns at '\\t'. This corresponds to ASCII Horizontal Tabs. For more string literals, you can check Python's own [reference manual](https://docs.python.org/2.0/ref/strings.html)."
   ]
  },
  {
   "cell_type": "code",
   "execution_count": 209,
   "metadata": {},
   "outputs": [
    {
     "data": {
      "text/html": [
       "<div>\n",
       "<style scoped>\n",
       "    .dataframe tbody tr th:only-of-type {\n",
       "        vertical-align: middle;\n",
       "    }\n",
       "\n",
       "    .dataframe tbody tr th {\n",
       "        vertical-align: top;\n",
       "    }\n",
       "\n",
       "    .dataframe thead th {\n",
       "        text-align: right;\n",
       "    }\n",
       "</style>\n",
       "<table border=\"1\" class=\"dataframe\">\n",
       "  <thead>\n",
       "    <tr style=\"text-align: right;\">\n",
       "      <th></th>\n",
       "      <th>year</th>\n",
       "      <th>minutes</th>\n",
       "    </tr>\n",
       "  </thead>\n",
       "  <tbody>\n",
       "    <tr>\n",
       "      <th>0</th>\n",
       "      <td>199706</td>\n",
       "      <td>1 Sections I to V of this minute summarise t...</td>\n",
       "    </tr>\n",
       "    <tr>\n",
       "      <th>1</th>\n",
       "      <td>199706</td>\n",
       "      <td>The 12-month growth rate of notes and coins ...</td>\n",
       "    </tr>\n",
       "    <tr>\n",
       "      <th>2</th>\n",
       "      <td>199706</td>\n",
       "      <td>Broad money, too, decelerated in April: its ...</td>\n",
       "    </tr>\n",
       "    <tr>\n",
       "      <th>3</th>\n",
       "      <td>199706</td>\n",
       "      <td>Lending growth continued at around 9% in ...</td>\n",
       "    </tr>\n",
       "    <tr>\n",
       "      <th>4</th>\n",
       "      <td>199706</td>\n",
       "      <td>Lending to individuals remained robust in...</td>\n",
       "    </tr>\n",
       "  </tbody>\n",
       "</table>\n",
       "</div>"
      ],
      "text/plain": [
       "     year                                            minutes\n",
       "0  199706    1 Sections I to V of this minute summarise t...\n",
       "1  199706    The 12-month growth rate of notes and coins ...\n",
       "2  199706    Broad money, too, decelerated in April: its ...\n",
       "3  199706       Lending growth continued at around 9% in ...\n",
       "4  199706       Lending to individuals remained robust in..."
      ]
     },
     "execution_count": 209,
     "metadata": {},
     "output_type": "execute_result"
    }
   ],
   "source": [
    "# Let's look at some of the first data entries\n",
    "df.head()"
   ]
  },
  {
   "cell_type": "code",
   "execution_count": 210,
   "metadata": {},
   "outputs": [
    {
     "data": {
      "text/plain": [
       "(7277, 2)"
      ]
     },
     "execution_count": 210,
     "metadata": {},
     "output_type": "execute_result"
    }
   ],
   "source": [
    "df.shape #The txt file contains 7,277 rows, each corresponding to a YYYYMM date identifier and a paragraph"
   ]
  },
  {
   "cell_type": "markdown",
   "metadata": {},
   "source": [
    "<br>\n",
    "In order to provide a more intuitive interpretation of the document word counts, we will aggregate rows at the MPC meeting level."
   ]
  },
  {
   "cell_type": "code",
   "execution_count": 211,
   "metadata": {},
   "outputs": [],
   "source": [
    "df = df.groupby('year').agg(lambda p: ' '.join(p))"
   ]
  },
  {
   "cell_type": "code",
   "execution_count": 212,
   "metadata": {},
   "outputs": [
    {
     "data": {
      "text/plain": [
       "(209, 1)"
      ]
     },
     "execution_count": 212,
     "metadata": {},
     "output_type": "execute_result"
    }
   ],
   "source": [
    "df.shape"
   ]
  },
  {
   "cell_type": "code",
   "execution_count": 213,
   "metadata": {},
   "outputs": [
    {
     "data": {
      "text/plain": [
       "'  1 Sections I to V of this minute summarise the analysis presented to the MPC by Bank staff and the BankÃ\\x95s regional agents, and incorporate also information that became available to the Committee after the presentation but prior to the 6 June meeting.     Monetary conditions   The 12-month growth rate of notes and coins had fallen back since January, when it was 7.1%. It had fallen to 6.3% in April and the provisional estimate for May was 6.1%. It was not yet clear whether the fall simply reflected a deceleration in demand for cash following the recent fall in retail price inflation, or whether it had implications for future spending.   Broad money, too, decelerated in April: its 12-month growth rate fell back to 10.2%, having been above 11% in February and March. M4 went up by 0.2% in April: retail M4 fell and wholesale M4 decelerated, perhaps partly because the monthÃ\\x95s public finances were stronger than expected. IndividualsÃ\\x95 M4 holdings had accelerated modestly this year - to a 12-month growth rate of 6.5% in April, from 5.8% in December. The last monthly data followed a quarter (Q1) in which ICCsÃ\\x95 holdings grew by 9.3% (annualised). The trend growth of real M4 remained around 8%, which continued to indicate strong future real demand growth.      Lending growth continued at around 9% in April. Borrowing by ICCs, which had decelerated in Q1, picked up again in April, and unused credit facilities (mainly to ICCs) continued to rise quickly (the 12 month increase was about 13% in April). Interest rate spreads seemed to have narrowed for ICCs and OFIs in Q1, which suggested that banks had become more willing to lend, perhaps in response to competition from other forms of financial intermediation.      Lending to individuals remained robust in Q1 and in April: unsecured lending went up by 16.7% in the year to April and secured lending by 5.2%, consistent with the recovery in the housing market. Loan-deposit interest rate spreads widened slightly for the personal s'"
      ]
     },
     "execution_count": 213,
     "metadata": {},
     "output_type": "execute_result"
    }
   ],
   "source": [
    "df.minutes.values[0][:2000]"
   ]
  },
  {
   "cell_type": "code",
   "execution_count": 214,
   "metadata": {},
   "outputs": [],
   "source": [
    "# We can make CountVectorizer ignore digits by passing a pre-processor\n",
    "def preprocess_text(text):\n",
    "    text = text.lower()\n",
    "    text = re.sub(r'\\d+', '', text) # This uses regular expressions, an alternative and flexible method to the one we used above\n",
    "    return text\n",
    "\n",
    "# Initiate CountVectorizer\n",
    "vec = CountVectorizer(min_df=0.01, # at min 1% of docs\n",
    "                        max_df=.95,  \n",
    "                        max_features=10000,\n",
    "                        stop_words='english',\n",
    "                        preprocessor=preprocess_text,\n",
    "                        # ngram_range=(1,3) # Exercise: Try the same analysis using n-grams\n",
    "                     )\n",
    "\n",
    "# Pass raw data to vec\n",
    "X_mat = vec.fit_transform(df['minutes'])"
   ]
  },
  {
   "cell_type": "code",
   "execution_count": 215,
   "metadata": {},
   "outputs": [
    {
     "name": "stdout",
     "output_type": "stream",
     "text": [
      "['abate', 'abated', 'abating', 'ability', 'able', 'abnormal', 'abnormally', 'abolition', 'abour', 'abroad', 'abrupt', 'abruptly', 'abs', 'absence', 'absent', 'absolute', 'absolutely', 'absorb', 'absorbed', 'absorbing']\n"
     ]
    }
   ],
   "source": [
    "words = vec.get_feature_names()\n",
    "print(words[:20])"
   ]
  },
  {
   "cell_type": "code",
   "execution_count": 216,
   "metadata": {},
   "outputs": [
    {
     "name": "stdout",
     "output_type": "stream",
     "text": [
      "Term count: 4914\n"
     ]
    }
   ],
   "source": [
    "# Check dimensions of our data - This is below CountVectorizer maximum, which indicates we've exhausted the dataframe\n",
    "print('Term count:',len(words))"
   ]
  },
  {
   "cell_type": "markdown",
   "metadata": {},
   "source": [
    "<br>Some of the words are similar to eachother, and chances are they share a common root. We can pass a callable as analyzer to the CountVectorizer constructor to provide a custom analyzer. The aim of repeating the CountVectorizer is to show the flexibility with which the constructor can produce tractable data."
   ]
  },
  {
   "cell_type": "code",
   "execution_count": 217,
   "metadata": {},
   "outputs": [],
   "source": [
    "from nltk.stem.snowball import SnowballStemmer\n",
    "stemmer = SnowballStemmer('english')\n",
    "analyzer = CountVectorizer().build_analyzer()\n",
    "\n",
    "# We can make CountVectorizer ignore digits and stem words by passing an analyzer\n",
    "def stemmed_words(text):\n",
    "    text = text.lower() # Replace upper cases\n",
    "    text = re.sub(r'\\d+', '', text) # This uses regular expressions, an alternative and flexible method to the one we used above\n",
    "    return (stemmer.stem(w) for w in analyzer(text)) # Stems the words at the document level\n",
    "\n",
    "# Initiate CountVectorizer\n",
    "vec = CountVectorizer(min_df=0.01, # at min 1% of docs\n",
    "                        max_df=.95,  \n",
    "                        max_features=10000,\n",
    "                        stop_words='english',\n",
    "                        analyzer=stemmed_words,\n",
    "                        # ngram_range=(1,3) # Exercise: Try the same analysis using n-grams\n",
    "                     )\n",
    "\n",
    "# Pass raw data to vec\n",
    "X_mat = vec.fit_transform(df['minutes'])"
   ]
  },
  {
   "cell_type": "code",
   "execution_count": 218,
   "metadata": {},
   "outputs": [
    {
     "name": "stdout",
     "output_type": "stream",
     "text": [
      "['ab', 'abandon', 'abat', 'abil', 'abl', 'abnorm', 'abolit', 'abour', 'abroad', 'abrupt', 'absenc', 'absent', 'absolut', 'absorb', 'absorpt', 'abstract', 'academ', 'acceler', 'accentu', 'accept']\n"
     ]
    }
   ],
   "source": [
    "words = vec.get_feature_names()\n",
    "print(words[:20])"
   ]
  },
  {
   "cell_type": "code",
   "execution_count": 219,
   "metadata": {},
   "outputs": [
    {
     "name": "stdout",
     "output_type": "stream",
     "text": [
      "Term count: 3279\n"
     ]
    }
   ],
   "source": [
    "# Check dimensions of our data again - Note the sizeable reduction in terms, suggesting many did indeed share a root\n",
    "print('Term count:',len(words))"
   ]
  },
  {
   "cell_type": "code",
   "execution_count": 220,
   "metadata": {},
   "outputs": [],
   "source": [
    "from sklearn.feature_extraction.text import TfidfTransformer\n",
    "\n",
    "tfidfconverter = TfidfTransformer()\n",
    "X_mat = tfidfconverter.fit_transform(X_mat).todense()"
   ]
  },
  {
   "cell_type": "code",
   "execution_count": 221,
   "metadata": {},
   "outputs": [
    {
     "name": "stdout",
     "output_type": "stream",
     "text": [
      "[[0.         0.         0.         ... 0.         0.         0.        ]\n",
      " [0.         0.         0.         ... 0.         0.         0.        ]\n",
      " [0.         0.         0.01696307 ... 0.         0.         0.        ]\n",
      " ...\n",
      " [0.         0.         0.         ... 0.02129455 0.04730877 0.        ]\n",
      " [0.         0.         0.         ... 0.06896463 0.03830361 0.        ]\n",
      " [0.         0.         0.         ... 0.         0.         0.        ]]\n"
     ]
    }
   ],
   "source": [
    "print(X_mat)"
   ]
  },
  {
   "cell_type": "code",
   "execution_count": 222,
   "metadata": {},
   "outputs": [],
   "source": [
    "# Loughran and McDonald Sentiment Word Lists (https://sraf.nd.edu/textual-analysis/resources/)\n",
    "lmdict = {'Negative': ['abandon', 'abandoned', 'abandoning', 'abandonment', 'abandonments', 'abandons', 'abdicated',\n",
    "                       'abdicates', 'abdicating', 'abdication', 'abdications', 'aberrant', 'aberration', 'aberrational',\n",
    "                       'aberrations', 'abetting', 'abnormal', 'abnormalities', 'abnormality', 'abnormally', 'abolish',\n",
    "                       'abolished', 'abolishes', 'abolishing', 'abrogate', 'abrogated', 'abrogates', 'abrogating',\n",
    "                       'abrogation', 'abrogations', 'abrupt', 'abruptly', 'abruptness', 'absence', 'absences',\n",
    "                       'absenteeism', 'abuse', 'abused', 'abuses', 'abusing', 'abusive', 'abusively', 'abusiveness',\n",
    "                       'accident', 'accidental', 'accidentally', 'accidents', 'accusation', 'accusations', 'accuse',\n",
    "                       'accused', 'accuses', 'accusing', 'acquiesce', 'acquiesced', 'acquiesces', 'acquiescing',\n",
    "                       'acquit', 'acquits', 'acquittal', 'acquittals', 'acquitted', 'acquitting', 'adulterate',\n",
    "                       'adulterated', 'adulterating', 'adulteration', 'adulterations', 'adversarial', 'adversaries',\n",
    "                       'adversary', 'adverse', 'adversely', 'adversities', 'adversity', 'aftermath', 'aftermaths',\n",
    "                       'against', 'aggravate', 'aggravated', 'aggravates', 'aggravating', 'aggravation', 'aggravations',\n",
    "                       'alerted', 'alerting', 'alienate', 'alienated', 'alienates', 'alienating', 'alienation',\n",
    "                       'alienations', 'allegation', 'allegations', 'allege', 'alleged', 'allegedly', 'alleges',\n",
    "                       'alleging', 'annoy', 'annoyance', 'annoyances', 'annoyed', 'annoying', 'annoys', 'annul',\n",
    "                       'annulled', 'annulling', 'annulment', 'annulments', 'annuls', 'anomalies', 'anomalous',\n",
    "                       'anomalously', 'anomaly', 'anticompetitive', 'antitrust', 'argue', 'argued', 'arguing',\n",
    "                       'argument', 'argumentative', 'arguments', 'arrearage', 'arrearages', 'arrears', 'arrest',\n",
    "                       'arrested', 'arrests', 'artificially', 'assault', 'assaulted', 'assaulting', 'assaults',\n",
    "                       'assertions', 'attrition', 'aversely', 'backdating', 'bad', 'bail', 'bailout', 'balk', 'balked',\n",
    "                       'bankrupt', 'bankruptcies', 'bankruptcy', 'bankrupted', 'bankrupting', 'bankrupts', 'bans',\n",
    "                       'barred', 'barrier', 'barriers', 'bottleneck', 'bottlenecks', 'boycott', 'boycotted',\n",
    "                       'boycotting', 'boycotts', 'breach', 'breached', 'breaches', 'breaching', 'break', 'breakage',\n",
    "                       'breakages', 'breakdown', 'breakdowns', 'breaking', 'breaks', 'bribe', 'bribed', 'briberies',\n",
    "                       'bribery', 'bribes', 'bribing', 'bridge', 'broken', 'burden', 'burdened', 'burdening', 'burdens',\n",
    "                       'burdensome', 'burned', 'calamities', 'calamitous', 'calamity', 'cancel', 'canceled',\n",
    "                       'canceling', 'cancellation', 'cancellations', 'cancelled', 'cancelling', 'cancels', 'careless',\n",
    "                       'carelessly', 'carelessness', 'catastrophe', 'catastrophes', 'catastrophic', 'catastrophically',\n",
    "                       'caution', 'cautionary', 'cautioned', 'cautioning', 'cautions', 'cease', 'ceased', 'ceases',\n",
    "                       'ceasing', 'censure', 'censured', 'censures', 'censuring', 'challenge', 'challenged',\n",
    "                       'challenges', 'challenging', 'chargeoffs', 'circumvent', 'circumvented', 'circumventing',\n",
    "                       'circumvention', 'circumventions', 'circumvents', 'claiming', 'claims', 'clawback', 'closed',\n",
    "                       'closeout', 'closeouts', 'closing', 'closings', 'closure', 'closures', 'coerce', 'coerced',\n",
    "                       'coerces', 'coercing', 'coercion', 'coercive', 'collapse', 'collapsed', 'collapses',\n",
    "                       'collapsing', 'collision', 'collisions', 'collude', 'colluded', 'colludes', 'colluding',\n",
    "                       'collusion', 'collusions', 'collusive', 'complain', 'complained', 'complaining', 'complains',\n",
    "                       'complaint', 'complaints', 'complicate', 'complicated', 'complicates', 'complicating',\n",
    "                       'complication', 'complications', 'compulsion', 'concealed', 'concealing', 'concede', 'conceded',\n",
    "                       'concedes', 'conceding', 'concern', 'concerned', 'concerns', 'conciliating', 'conciliation',\n",
    "                       'conciliations', 'condemn', 'condemnation', 'condemnations', 'condemned', 'condemning',\n",
    "                       'condemns', 'condone', 'condoned', 'confess', 'confessed', 'confesses', 'confessing',\n",
    "                       'confession', 'confine', 'confined', 'confinement', 'confinements', 'confines', 'confining',\n",
    "                       'confiscate', 'confiscated', 'confiscates', 'confiscating', 'confiscation', 'confiscations',\n",
    "                       'conflict', 'conflicted', 'conflicting', 'conflicts', 'confront', 'confrontation',\n",
    "                       'confrontational', 'confrontations', 'confronted', 'confronting', 'confronts', 'confuse',\n",
    "                       'confused', 'confuses', 'confusing', 'confusingly', 'confusion', 'conspiracies', 'conspiracy',\n",
    "                       'conspirator', 'conspiratorial', 'conspirators', 'conspire', 'conspired', 'conspires',\n",
    "                       'conspiring', 'contempt', 'contend', 'contended', 'contending', 'contends', 'contention',\n",
    "                       'contentions', 'contentious', 'contentiously', 'contested', 'contesting', 'contraction',\n",
    "                       'contractions', 'contradict', 'contradicted', 'contradicting', 'contradiction', 'contradictions',\n",
    "                       'contradictory', 'contradicts', 'contrary', 'controversial', 'controversies', 'controversy',\n",
    "                       'convict', 'convicted', 'convicting', 'conviction', 'convictions', 'corrected', 'correcting',\n",
    "                       'correction', 'corrections', 'corrects', 'corrupt', 'corrupted', 'corrupting', 'corruption',\n",
    "                       'corruptions', 'corruptly', 'corruptness', 'costly', 'counterclaim', 'counterclaimed',\n",
    "                       'counterclaiming', 'counterclaims', 'counterfeit', 'counterfeited', 'counterfeiter',\n",
    "                       'counterfeiters', 'counterfeiting', 'counterfeits', 'countermeasure', 'countermeasures', 'crime',\n",
    "                       'crimes', 'criminal', 'criminally', 'criminals', 'crises', 'crisis', 'critical', 'critically',\n",
    "                       'criticism', 'criticisms', 'criticize', 'criticized', 'criticizes', 'criticizing', 'crucial',\n",
    "                       'crucially', 'culpability', 'culpable', 'culpably', 'cumbersome', 'curtail', 'curtailed',\n",
    "                       'curtailing', 'curtailment', 'curtailments', 'curtails', 'cut', 'cutback', 'cutbacks',\n",
    "                       'cyberattack', 'cyberattacks', 'cyberbullying', 'cybercrime', 'cybercrimes', 'cybercriminal',\n",
    "                       'cybercriminals', 'damage', 'damaged', 'damages', 'damaging', 'dampen', 'dampened', 'danger',\n",
    "                       'dangerous', 'dangerously', 'dangers', 'deadlock', 'deadlocked', 'deadlocking', 'deadlocks',\n",
    "                       'deadweight', 'deadweights', 'debarment', 'debarments', 'debarred', 'deceased', 'deceit',\n",
    "                       'deceitful', 'deceitfulness', 'deceive', 'deceived', 'deceives', 'deceiving', 'deception',\n",
    "                       'deceptions', 'deceptive', 'deceptively', 'decline', 'declined', 'declines', 'declining',\n",
    "                       'deface', 'defaced', 'defacement', 'defamation', 'defamations', 'defamatory', 'defame',\n",
    "                       'defamed', 'defames', 'defaming', 'default', 'defaulted', 'defaulting', 'defaults', 'defeat',\n",
    "                       'defeated', 'defeating', 'defeats', 'defect', 'defective', 'defects', 'defend', 'defendant',\n",
    "                       'defendants', 'defended', 'defending', 'defends', 'defensive', 'defer', 'deficiencies',\n",
    "                       'deficiency', 'deficient', 'deficit', 'deficits', 'defraud', 'defrauded', 'defrauding',\n",
    "                       'defrauds', 'defunct', 'degradation', 'degradations', 'degrade', 'degraded', 'degrades',\n",
    "                       'degrading', 'delay', 'delayed', 'delaying', 'delays', 'deleterious', 'deliberate',\n",
    "                       'deliberated', 'deliberately', 'delinquencies', 'delinquency', 'delinquent', 'delinquently',\n",
    "                       'delinquents', 'delist', 'delisted', 'delisting', 'delists', 'demise', 'demised', 'demises',\n",
    "                       'demising', 'demolish', 'demolished', 'demolishes', 'demolishing', 'demolition', 'demolitions',\n",
    "                       'demote', 'demoted', 'demotes', 'demoting', 'demotion', 'demotions', 'denial', 'denials',\n",
    "                       'denied', 'denies', 'denigrate', 'denigrated', 'denigrates', 'denigrating', 'denigration',\n",
    "                       'deny', 'denying', 'deplete', 'depleted', 'depletes', 'depleting', 'depletion', 'depletions',\n",
    "                       'deprecation', 'depress', 'depressed', 'depresses', 'depressing', 'deprivation', 'deprive',\n",
    "                       'deprived', 'deprives', 'depriving', 'derelict', 'dereliction', 'derogatory', 'destabilization',\n",
    "                       'destabilize', 'destabilized', 'destabilizing', 'destroy', 'destroyed', 'destroying', 'destroys',\n",
    "                       'destruction', 'destructive', 'detain', 'detained', 'detention', 'detentions', 'deter',\n",
    "                       'deteriorate', 'deteriorated', 'deteriorates', 'deteriorating', 'deterioration',\n",
    "                       'deteriorations', 'deterred', 'deterrence', 'deterrences', 'deterrent', 'deterrents',\n",
    "                       'deterring', 'deters', 'detract', 'detracted', 'detracting', 'detriment', 'detrimental',\n",
    "                       'detrimentally', 'detriments', 'devalue', 'devalued', 'devalues', 'devaluing', 'devastate',\n",
    "                       'devastated', 'devastating', 'devastation', 'deviate', 'deviated', 'deviates', 'deviating',\n",
    "                       'deviation', 'deviations', 'devolve', 'devolved', 'devolves', 'devolving', 'difficult',\n",
    "                       'difficulties', 'difficultly', 'difficulty', 'diminish', 'diminished', 'diminishes',\n",
    "                       'diminishing', 'diminution', 'disadvantage', 'disadvantaged', 'disadvantageous', 'disadvantages',\n",
    "                       'disaffiliation', 'disagree', 'disagreeable', 'disagreed', 'disagreeing', 'disagreement',\n",
    "                       'disagreements', 'disagrees', 'disallow', 'disallowance', 'disallowances', 'disallowed',\n",
    "                       'disallowing', 'disallows', 'disappear', 'disappearance', 'disappearances', 'disappeared',\n",
    "                       'disappearing', 'disappears', 'disappoint', 'disappointed', 'disappointing', 'disappointingly',\n",
    "                       'disappointment', 'disappointments', 'disappoints', 'disapproval', 'disapprovals', 'disapprove',\n",
    "                       'disapproved', 'disapproves', 'disapproving', 'disassociates', 'disassociating',\n",
    "                       'disassociation', 'disassociations', 'disaster', 'disasters', 'disastrous', 'disastrously',\n",
    "                       'disavow', 'disavowal', 'disavowed', 'disavowing', 'disavows', 'disciplinary', 'disclaim',\n",
    "                       'disclaimed', 'disclaimer', 'disclaimers', 'disclaiming', 'disclaims', 'disclose', 'disclosed',\n",
    "                       'discloses', 'disclosing', 'discontinuance', 'discontinuances', 'discontinuation',\n",
    "                       'discontinuations', 'discontinue', 'discontinued', 'discontinues', 'discontinuing', 'discourage',\n",
    "                       'discouraged', 'discourages', 'discouraging', 'discredit', 'discredited', 'discrediting',\n",
    "                       'discredits', 'discrepancies', 'discrepancy', 'disfavor', 'disfavored', 'disfavoring',\n",
    "                       'disfavors', 'disgorge', 'disgorged', 'disgorgement', 'disgorgements', 'disgorges', 'disgorging',\n",
    "                       'disgrace', 'disgraceful', 'disgracefully', 'dishonest', 'dishonestly', 'dishonesty', 'dishonor',\n",
    "                       'dishonorable', 'dishonorably', 'dishonored', 'dishonoring', 'dishonors', 'disincentives',\n",
    "                       'disinterested', 'disinterestedly', 'disinterestedness', 'disloyal', 'disloyally', 'disloyalty',\n",
    "                       'dismal', 'dismally', 'dismiss', 'dismissal', 'dismissals', 'dismissed', 'dismisses',\n",
    "                       'dismissing', 'disorderly', 'disparage', 'disparaged', 'disparagement', 'disparagements',\n",
    "                       'disparages', 'disparaging', 'disparagingly', 'disparities', 'disparity', 'displace',\n",
    "                       'displaced', 'displacement', 'displacements', 'displaces', 'displacing', 'dispose', 'dispossess',\n",
    "                       'dispossessed', 'dispossesses', 'dispossessing', 'disproportion', 'disproportional',\n",
    "                       'disproportionate', 'disproportionately', 'dispute', 'disputed', 'disputes', 'disputing',\n",
    "                       'disqualification', 'disqualifications', 'disqualified', 'disqualifies', 'disqualify',\n",
    "                       'disqualifying', 'disregard', 'disregarded', 'disregarding', 'disregards', 'disreputable',\n",
    "                       'disrepute', 'disrupt', 'disrupted', 'disrupting', 'disruption', 'disruptions', 'disruptive',\n",
    "                       'disrupts', 'dissatisfaction', 'dissatisfied', 'dissent', 'dissented', 'dissenter', 'dissenters',\n",
    "                       'dissenting', 'dissents', 'dissident', 'dissidents', 'dissolution', 'dissolutions', 'distort',\n",
    "                       'distorted', 'distorting', 'distortion', 'distortions', 'distorts', 'distract', 'distracted',\n",
    "                       'distracting', 'distraction', 'distractions', 'distracts', 'distress', 'distressed', 'disturb',\n",
    "                       'disturbance', 'disturbances', 'disturbed', 'disturbing', 'disturbs', 'diversion', 'divert',\n",
    "                       'diverted', 'diverting', 'diverts', 'divest', 'divested', 'divesting', 'divestiture',\n",
    "                       'divestitures', 'divestment', 'divestments', 'divests', 'divorce', 'divorced', 'divulge',\n",
    "                       'divulged', 'divulges', 'divulging', 'doubt', 'doubted', 'doubtful', 'doubts', 'downgrade',\n",
    "                       'downgraded', 'downgrades', 'downgrading', 'downsize', 'downsized', 'downsizes', 'downsizing',\n",
    "                       'downsizings', 'downtime', 'downtimes', 'downturn', 'downturns', 'downward', 'downwards', 'drag',\n",
    "                       'drastic', 'drastically', 'drawback', 'drawbacks', 'dropped', 'drought', 'droughts', 'duress',\n",
    "                       'dysfunction', 'dysfunctional', 'dysfunctions', 'easing', 'egregious', 'egregiously', 'embargo',\n",
    "                       'embargoed', 'embargoes', 'embargoing', 'embarrass', 'embarrassed', 'embarrasses',\n",
    "                       'embarrassing', 'embarrassment', 'embarrassments', 'embezzle', 'embezzled', 'embezzlement',\n",
    "                       'embezzlements', 'embezzler', 'embezzles', 'embezzling', 'encroach', 'encroached', 'encroaches',\n",
    "                       'encroaching', 'encroachment', 'encroachments', 'encumber', 'encumbered', 'encumbering',\n",
    "                       'encumbers', 'encumbrance', 'encumbrances', 'endanger', 'endangered', 'endangering',\n",
    "                       'endangerment', 'endangers', 'enjoin', 'enjoined', 'enjoining', 'enjoins', 'erode', 'eroded',\n",
    "                       'erodes', 'eroding', 'erosion', 'erratic', 'erratically', 'erred', 'erring', 'erroneous',\n",
    "                       'erroneously', 'error', 'errors', 'errs', 'escalate', 'escalated', 'escalates', 'escalating',\n",
    "                       'evade', 'evaded', 'evades', 'evading', 'evasion', 'evasions', 'evasive', 'evict', 'evicted',\n",
    "                       'evicting', 'eviction', 'evictions', 'evicts', 'exacerbate', 'exacerbated', 'exacerbates',\n",
    "                       'exacerbating', 'exacerbation', 'exacerbations', 'exaggerate', 'exaggerated', 'exaggerates',\n",
    "                       'exaggerating', 'exaggeration', 'excessive', 'excessively', 'exculpate', 'exculpated',\n",
    "                       'exculpates', 'exculpating', 'exculpation', 'exculpations', 'exculpatory', 'exonerate',\n",
    "                       'exonerated', 'exonerates', 'exonerating', 'exoneration', 'exonerations', 'exploit',\n",
    "                       'exploitation', 'exploitations', 'exploitative', 'exploited', 'exploiting', 'exploits', 'expose',\n",
    "                       'exposed', 'exposes', 'exposing', 'expropriate', 'expropriated', 'expropriates', 'expropriating',\n",
    "                       'expropriation', 'expropriations', 'expulsion', 'expulsions', 'extenuating', 'fail', 'failed',\n",
    "                       'failing', 'failings', 'fails', 'failure', 'failures', 'fallout', 'false', 'falsely',\n",
    "                       'falsification', 'falsifications', 'falsified', 'falsifies', 'falsify', 'falsifying', 'falsity',\n",
    "                       'fatalities', 'fatality', 'fatally', 'fault', 'faulted', 'faults', 'faulty', 'fear', 'fears',\n",
    "                       'felonies', 'felonious', 'felony', 'fictitious', 'fined', 'fines', 'fired', 'firing', 'flaw',\n",
    "                       'flawed', 'flaws', 'forbid', 'forbidden', 'forbidding', 'forbids', 'force', 'forced', 'forcing',\n",
    "                       'foreclose', 'foreclosed', 'forecloses', 'foreclosing', 'foreclosure', 'foreclosures', 'forego',\n",
    "                       'foregoes', 'foregone', 'forestall', 'forestalled', 'forestalling', 'forestalls', 'forfeit',\n",
    "                       'forfeited', 'forfeiting', 'forfeits', 'forfeiture', 'forfeitures', 'forgers', 'forgery',\n",
    "                       'fraud', 'frauds', 'fraudulence', 'fraudulent', 'fraudulently', 'frivolous', 'frivolously',\n",
    "                       'frustrate', 'frustrated', 'frustrates', 'frustrating', 'frustratingly', 'frustration',\n",
    "                       'frustrations', 'fugitive', 'fugitives', 'gratuitous', 'gratuitously', 'grievance', 'grievances',\n",
    "                       'grossly', 'groundless', 'guilty', 'halt', 'halted', 'hamper', 'hampered', 'hampering',\n",
    "                       'hampers', 'harass', 'harassed', 'harassing', 'harassment', 'hardship', 'hardships', 'harm',\n",
    "                       'harmed', 'harmful', 'harmfully', 'harming', 'harms', 'harsh', 'harsher', 'harshest', 'harshly',\n",
    "                       'harshness', 'hazard', 'hazardous', 'hazards', 'hinder', 'hindered', 'hindering', 'hinders',\n",
    "                       'hindrance', 'hindrances', 'hostile', 'hostility', 'hurt', 'hurting', 'idle', 'idled', 'idling',\n",
    "                       'ignore', 'ignored', 'ignores', 'ignoring', 'ill', 'illegal', 'illegalities', 'illegality',\n",
    "                       'illegally', 'illegible', 'illicit', 'illicitly', 'illiquid', 'illiquidity', 'imbalance',\n",
    "                       'imbalances', 'immature', 'immoral', 'impair', 'impaired', 'impairing', 'impairment',\n",
    "                       'impairments', 'impairs', 'impasse', 'impasses', 'impede', 'impeded', 'impedes', 'impediment',\n",
    "                       'impediments', 'impeding', 'impending', 'imperative', 'imperfection', 'imperfections', 'imperil',\n",
    "                       'impermissible', 'implicate', 'implicated', 'implicates', 'implicating', 'impossibility',\n",
    "                       'impossible', 'impound', 'impounded', 'impounding', 'impounds', 'impracticable', 'impractical',\n",
    "                       'impracticalities', 'impracticality', 'imprisonment', 'improper', 'improperly', 'improprieties',\n",
    "                       'impropriety', 'imprudent', 'imprudently', 'inability', 'inaccessible', 'inaccuracies',\n",
    "                       'inaccuracy', 'inaccurate', 'inaccurately', 'inaction', 'inactions', 'inactivate', 'inactivated',\n",
    "                       'inactivates', 'inactivating', 'inactivation', 'inactivations', 'inactivity', 'inadequacies',\n",
    "                       'inadequacy', 'inadequate', 'inadequately', 'inadvertent', 'inadvertently', 'inadvisability',\n",
    "                       'inadvisable', 'inappropriate', 'inappropriately', 'inattention', 'incapable', 'incapacitated',\n",
    "                       'incapacity', 'incarcerate', 'incarcerated', 'incarcerates', 'incarcerating', 'incarceration',\n",
    "                       'incarcerations', 'incidence', 'incidences', 'incident', 'incidents', 'incompatibilities',\n",
    "                       'incompatibility', 'incompatible', 'incompetence', 'incompetency', 'incompetent',\n",
    "                       'incompetently', 'incompetents', 'incomplete', 'incompletely', 'incompleteness', 'inconclusive',\n",
    "                       'inconsistencies', 'inconsistency', 'inconsistent', 'inconsistently', 'inconvenience',\n",
    "                       'inconveniences', 'inconvenient', 'incorrect', 'incorrectly', 'incorrectness', 'indecency',\n",
    "                       'indecent', 'indefeasible', 'indefeasibly', 'indict', 'indictable', 'indicted', 'indicting',\n",
    "                       'indictment', 'indictments', 'ineffective', 'ineffectively', 'ineffectiveness', 'inefficiencies',\n",
    "                       'inefficiency', 'inefficient', 'inefficiently', 'ineligibility', 'ineligible', 'inequitable',\n",
    "                       'inequitably', 'inequities', 'inequity', 'inevitable', 'inexperience', 'inexperienced',\n",
    "                       'inferior', 'inflicted', 'infraction', 'infractions', 'infringe', 'infringed', 'infringement',\n",
    "                       'infringements', 'infringes', 'infringing', 'inhibited', 'inimical', 'injunction', 'injunctions',\n",
    "                       'injure', 'injured', 'injures', 'injuries', 'injuring', 'injurious', 'injury', 'inordinate',\n",
    "                       'inordinately', 'inquiry', 'insecure', 'insensitive', 'insolvencies', 'insolvency', 'insolvent',\n",
    "                       'instability', 'insubordination', 'insufficiency', 'insufficient', 'insufficiently',\n",
    "                       'insurrection', 'insurrections', 'intentional', 'interfere', 'interfered', 'interference',\n",
    "                       'interferences', 'interferes', 'interfering', 'intermittent', 'intermittently', 'interrupt',\n",
    "                       'interrupted', 'interrupting', 'interruption', 'interruptions', 'interrupts', 'intimidation',\n",
    "                       'intrusion', 'invalid', 'invalidate', 'invalidated', 'invalidates', 'invalidating',\n",
    "                       'invalidation', 'invalidity', 'investigate', 'investigated', 'investigates', 'investigating',\n",
    "                       'investigation', 'investigations', 'involuntarily', 'involuntary', 'irreconcilable',\n",
    "                       'irreconcilably', 'irrecoverable', 'irrecoverably', 'irregular', 'irregularities',\n",
    "                       'irregularity', 'irregularly', 'irreparable', 'irreparably', 'irreversible', 'jeopardize',\n",
    "                       'jeopardized', 'justifiable', 'kickback', 'kickbacks', 'knowingly', 'lack', 'lacked', 'lacking',\n",
    "                       'lackluster', 'lacks', 'lag', 'lagged', 'lagging', 'lags', 'lapse', 'lapsed', 'lapses',\n",
    "                       'lapsing', 'late', 'laundering', 'layoff', 'layoffs', 'lie', 'limitation', 'limitations',\n",
    "                       'lingering', 'liquidate', 'liquidated', 'liquidates', 'liquidating', 'liquidation',\n",
    "                       'liquidations', 'liquidator', 'liquidators', 'litigant', 'litigants', 'litigate', 'litigated',\n",
    "                       'litigates', 'litigating', 'litigation', 'litigations', 'lockout', 'lockouts', 'lose', 'loses',\n",
    "                       'losing', 'loss', 'losses', 'lost', 'lying', 'malfeasance', 'malfunction', 'malfunctioned',\n",
    "                       'malfunctioning', 'malfunctions', 'malice', 'malicious', 'maliciously', 'malpractice',\n",
    "                       'manipulate', 'manipulated', 'manipulates', 'manipulating', 'manipulation', 'manipulations',\n",
    "                       'manipulative', 'markdown', 'markdowns', 'misapplication', 'misapplications', 'misapplied',\n",
    "                       'misapplies', 'misapply', 'misapplying', 'misappropriate', 'misappropriated', 'misappropriates',\n",
    "                       'misappropriating', 'misappropriation', 'misappropriations', 'misbranded', 'miscalculate',\n",
    "                       'miscalculated', 'miscalculates', 'miscalculating', 'miscalculation', 'miscalculations',\n",
    "                       'mischaracterization', 'mischief', 'misclassification', 'misclassifications', 'misclassified',\n",
    "                       'misclassify', 'miscommunication', 'misconduct', 'misdated', 'misdemeanor', 'misdemeanors',\n",
    "                       'misdirected', 'mishandle', 'mishandled', 'mishandles', 'mishandling', 'misinform',\n",
    "                       'misinformation', 'misinformed', 'misinforming', 'misinforms', 'misinterpret',\n",
    "                       'misinterpretation', 'misinterpretations', 'misinterpreted', 'misinterpreting', 'misinterprets',\n",
    "                       'misjudge', 'misjudged', 'misjudges', 'misjudging', 'misjudgment', 'misjudgments', 'mislabel',\n",
    "                       'mislabeled', 'mislabeling', 'mislabelled', 'mislabels', 'mislead', 'misleading', 'misleadingly',\n",
    "                       'misleads', 'misled', 'mismanage', 'mismanaged', 'mismanagement', 'mismanages', 'mismanaging',\n",
    "                       'mismatch', 'mismatched', 'mismatches', 'mismatching', 'misplaced', 'misprice', 'mispricing',\n",
    "                       'mispricings', 'misrepresent', 'misrepresentation', 'misrepresentations', 'misrepresented',\n",
    "                       'misrepresenting', 'misrepresents', 'miss', 'missed', 'misses', 'misstate', 'misstated',\n",
    "                       'misstatement', 'misstatements', 'misstates', 'misstating', 'misstep', 'missteps', 'mistake',\n",
    "                       'mistaken', 'mistakenly', 'mistakes', 'mistaking', 'mistrial', 'mistrials', 'misunderstand',\n",
    "                       'misunderstanding', 'misunderstandings', 'misunderstood', 'misuse', 'misused', 'misuses',\n",
    "                       'misusing', 'monopolistic', 'monopolists', 'monopolization', 'monopolize', 'monopolized',\n",
    "                       'monopolizes', 'monopolizing', 'monopoly', 'moratoria', 'moratorium', 'moratoriums',\n",
    "                       'mothballed', 'mothballing', 'negative', 'negatively', 'negatives', 'neglect', 'neglected',\n",
    "                       'neglectful', 'neglecting', 'neglects', 'negligence', 'negligences', 'negligent', 'negligently',\n",
    "                       'nonattainment', 'noncompetitive', 'noncompliance', 'noncompliances', 'noncompliant',\n",
    "                       'noncomplying', 'nonconforming', 'nonconformities', 'nonconformity', 'nondisclosure',\n",
    "                       'nonfunctional', 'nonpayment', 'nonpayments', 'nonperformance', 'nonperformances',\n",
    "                       'nonperforming', 'nonproducing', 'nonproductive', 'nonrecoverable', 'nonrenewal', 'nuisance',\n",
    "                       'nuisances', 'nullification', 'nullifications', 'nullified', 'nullifies', 'nullify',\n",
    "                       'nullifying', 'objected', 'objecting', 'objection', 'objectionable', 'objectionably',\n",
    "                       'objections', 'obscene', 'obscenity', 'obsolescence', 'obsolete', 'obstacle', 'obstacles',\n",
    "                       'obstruct', 'obstructed', 'obstructing', 'obstruction', 'obstructions', 'offence', 'offences',\n",
    "                       'offend', 'offended', 'offender', 'offenders', 'offending', 'offends', 'omission', 'omissions',\n",
    "                       'omit', 'omits', 'omitted', 'omitting', 'onerous', 'opportunistic', 'opportunistically',\n",
    "                       'oppose', 'opposed', 'opposes', 'opposing', 'opposition', 'oppositions', 'outage', 'outages',\n",
    "                       'outdated', 'outmoded', 'overage', 'overages', 'overbuild', 'overbuilding', 'overbuilds',\n",
    "                       'overbuilt', 'overburden', 'overburdened', 'overburdening', 'overcapacities', 'overcapacity',\n",
    "                       'overcharge', 'overcharged', 'overcharges', 'overcharging', 'overcome', 'overcomes',\n",
    "                       'overcoming', 'overdue', 'overestimate', 'overestimated', 'overestimates', 'overestimating',\n",
    "                       'overestimation', 'overestimations', 'overload', 'overloaded', 'overloading', 'overloads',\n",
    "                       'overlook', 'overlooked', 'overlooking', 'overlooks', 'overpaid', 'overpayment', 'overpayments',\n",
    "                       'overproduced', 'overproduces', 'overproducing', 'overproduction', 'overrun', 'overrunning',\n",
    "                       'overruns', 'overshadow', 'overshadowed', 'overshadowing', 'overshadows', 'overstate',\n",
    "                       'overstated', 'overstatement', 'overstatements', 'overstates', 'overstating', 'oversupplied',\n",
    "                       'oversupplies', 'oversupply', 'oversupplying', 'overtly', 'overturn', 'overturned',\n",
    "                       'overturning', 'overturns', 'overvalue', 'overvalued', 'overvaluing', 'panic', 'panics',\n",
    "                       'penalize', 'penalized', 'penalizes', 'penalizing', 'penalties', 'penalty', 'peril', 'perils',\n",
    "                       'perjury', 'perpetrate', 'perpetrated', 'perpetrates', 'perpetrating', 'perpetration', 'persist',\n",
    "                       'persisted', 'persistence', 'persistent', 'persistently', 'persisting', 'persists', 'pervasive',\n",
    "                       'pervasively', 'pervasiveness', 'petty', 'picket', 'picketed', 'picketing', 'plaintiff',\n",
    "                       'plaintiffs', 'plea', 'plead', 'pleaded', 'pleading', 'pleadings', 'pleads', 'pleas', 'pled',\n",
    "                       'poor', 'poorly', 'poses', 'posing', 'postpone', 'postponed', 'postponement', 'postponements',\n",
    "                       'postpones', 'postponing', 'precipitated', 'precipitous', 'precipitously', 'preclude',\n",
    "                       'precluded', 'precludes', 'precluding', 'predatory', 'prejudice', 'prejudiced', 'prejudices',\n",
    "                       'prejudicial', 'prejudicing', 'premature', 'prematurely', 'pressing', 'pretrial', 'preventing',\n",
    "                       'prevention', 'prevents', 'problem', 'problematic', 'problematical', 'problems', 'prolong',\n",
    "                       'prolongation', 'prolongations', 'prolonged', 'prolonging', 'prolongs', 'prone', 'prosecute',\n",
    "                       'prosecuted', 'prosecutes', 'prosecuting', 'prosecution', 'prosecutions', 'protest', 'protested',\n",
    "                       'protester', 'protesters', 'protesting', 'protestor', 'protestors', 'protests', 'protracted',\n",
    "                       'protraction', 'provoke', 'provoked', 'provokes', 'provoking', 'punished', 'punishes',\n",
    "                       'punishing', 'punishment', 'punishments', 'punitive', 'purport', 'purported', 'purportedly',\n",
    "                       'purporting', 'purports', 'question', 'questionable', 'questionably', 'questioned',\n",
    "                       'questioning', 'questions', 'quit', 'quitting', 'racketeer', 'racketeering', 'rationalization',\n",
    "                       'rationalizations', 'rationalize', 'rationalized', 'rationalizes', 'rationalizing',\n",
    "                       'reassessment', 'reassessments', 'reassign', 'reassigned', 'reassigning', 'reassignment',\n",
    "                       'reassignments', 'reassigns', 'recall', 'recalled', 'recalling', 'recalls', 'recession',\n",
    "                       'recessionary', 'recessions', 'reckless', 'recklessly', 'recklessness', 'redact', 'redacted',\n",
    "                       'redacting', 'redaction', 'redactions', 'redefault', 'redefaulted', 'redefaults', 'redress',\n",
    "                       'redressed', 'redresses', 'redressing', 'refusal', 'refusals', 'refuse', 'refused', 'refuses',\n",
    "                       'refusing', 'reject', 'rejected', 'rejecting', 'rejection', 'rejections', 'rejects',\n",
    "                       'relinquish', 'relinquished', 'relinquishes', 'relinquishing', 'relinquishment',\n",
    "                       'relinquishments', 'reluctance', 'reluctant', 'renegotiate', 'renegotiated', 'renegotiates',\n",
    "                       'renegotiating', 'renegotiation', 'renegotiations', 'renounce', 'renounced', 'renouncement',\n",
    "                       'renouncements', 'renounces', 'renouncing', 'reparation', 'reparations', 'repossessed',\n",
    "                       'repossesses', 'repossessing', 'repossession', 'repossessions', 'repudiate', 'repudiated',\n",
    "                       'repudiates', 'repudiating', 'repudiation', 'repudiations', 'resign', 'resignation',\n",
    "                       'resignations', 'resigned', 'resigning', 'resigns', 'restate', 'restated', 'restatement',\n",
    "                       'restatements', 'restates', 'restating', 'restructure', 'restructured', 'restructures',\n",
    "                       'restructuring', 'restructurings', 'retaliate', 'retaliated', 'retaliates', 'retaliating',\n",
    "                       'retaliation', 'retaliations', 'retaliatory', 'retribution', 'retributions', 'revocation',\n",
    "                       'revocations', 'revoke', 'revoked', 'revokes', 'revoking', 'ridicule', 'ridiculed', 'ridicules',\n",
    "                       'ridiculing', 'riskier', 'riskiest', 'risky', 'sabotage', 'sacrifice', 'sacrificed',\n",
    "                       'sacrifices', 'sacrificial', 'sacrificing', 'scandalous', 'scandals', 'scrutinize',\n",
    "                       'scrutinized', 'scrutinizes', 'scrutinizing', 'scrutiny', 'secrecy', 'seize', 'seized', 'seizes',\n",
    "                       'seizing', 'sentenced', 'sentencing', 'serious', 'seriously', 'seriousness', 'setback',\n",
    "                       'setbacks', 'sever', 'severe', 'severed', 'severely', 'severities', 'severity', 'sharply',\n",
    "                       'shocked', 'shortage', 'shortages', 'shortfall', 'shortfalls', 'shrinkage', 'shrinkages', 'shut',\n",
    "                       'shutdown', 'shutdowns', 'shuts', 'shutting', 'slander', 'slandered', 'slanderous', 'slanders',\n",
    "                       'slippage', 'slippages', 'slow', 'slowdown', 'slowdowns', 'slowed', 'slower', 'slowest',\n",
    "                       'slowing', 'slowly', 'slowness', 'sluggish', 'sluggishly', 'sluggishness', 'solvencies',\n",
    "                       'solvency', 'spam', 'spammers', 'spamming', 'staggering', 'stagnant', 'stagnate', 'stagnated',\n",
    "                       'stagnates', 'stagnating', 'stagnation', 'standstill', 'standstills', 'stolen', 'stoppage',\n",
    "                       'stoppages', 'stopped', 'stopping', 'stops', 'strain', 'strained', 'straining', 'strains',\n",
    "                       'stress', 'stressed', 'stresses', 'stressful', 'stressing', 'stringent', 'subjected',\n",
    "                       'subjecting', 'subjection', 'subpoena', 'subpoenaed', 'subpoenas', 'substandard', 'sue', 'sued',\n",
    "                       'sues', 'suffer', 'suffered', 'suffering', 'suffers', 'suing', 'summoned', 'summoning',\n",
    "                       'summons', 'summonses', 'susceptibility', 'susceptible', 'suspect', 'suspected', 'suspects',\n",
    "                       'suspend', 'suspended', 'suspending', 'suspends', 'suspension', 'suspensions', 'suspicion',\n",
    "                       'suspicions', 'suspicious', 'suspiciously', 'taint', 'tainted', 'tainting', 'taints', 'tampered',\n",
    "                       'tense', 'terminate', 'terminated', 'terminates', 'terminating', 'termination', 'terminations',\n",
    "                       'testify', 'testifying', 'threat', 'threaten', 'threatened', 'threatening', 'threatens',\n",
    "                       'threats', 'tightening', 'tolerate', 'tolerated', 'tolerates', 'tolerating', 'toleration',\n",
    "                       'tortuous', 'tortuously', 'tragedies', 'tragedy', 'tragic', 'tragically', 'traumatic', 'trouble',\n",
    "                       'troubled', 'troubles', 'turbulence', 'turmoil', 'unable', 'unacceptable', 'unacceptably',\n",
    "                       'unaccounted', 'unannounced', 'unanticipated', 'unapproved', 'unattractive', 'unauthorized',\n",
    "                       'unavailability', 'unavailable', 'unavoidable', 'unavoidably', 'unaware', 'uncollectable',\n",
    "                       'uncollected', 'uncollectibility', 'uncollectible', 'uncollectibles', 'uncompetitive',\n",
    "                       'uncompleted', 'unconscionable', 'unconscionably', 'uncontrollable', 'uncontrollably',\n",
    "                       'uncontrolled', 'uncorrected', 'uncover', 'uncovered', 'uncovering', 'uncovers', 'undeliverable',\n",
    "                       'undelivered', 'undercapitalized', 'undercut', 'undercuts', 'undercutting', 'underestimate',\n",
    "                       'underestimated', 'underestimates', 'underestimating', 'underestimation', 'underfunded',\n",
    "                       'underinsured', 'undermine', 'undermined', 'undermines', 'undermining', 'underpaid',\n",
    "                       'underpayment', 'underpayments', 'underpays', 'underperform', 'underperformance',\n",
    "                       'underperformed', 'underperforming', 'underperforms', 'underproduced', 'underproduction',\n",
    "                       'underreporting', 'understate', 'understated', 'understatement', 'understatements',\n",
    "                       'understates', 'understating', 'underutilization', 'underutilized', 'undesirable', 'undesired',\n",
    "                       'undetected', 'undetermined', 'undisclosed', 'undocumented', 'undue', 'unduly', 'uneconomic',\n",
    "                       'uneconomical', 'uneconomically', 'unemployed', 'unemployment', 'unethical', 'unethically',\n",
    "                       'unexcused', 'unexpected', 'unexpectedly', 'unfair', 'unfairly', 'unfavorability', 'unfavorable',\n",
    "                       'unfavorably', 'unfavourable', 'unfeasible', 'unfit', 'unfitness', 'unforeseeable', 'unforeseen',\n",
    "                       'unforseen', 'unfortunate', 'unfortunately', 'unfounded', 'unfriendly', 'unfulfilled',\n",
    "                       'unfunded', 'uninsured', 'unintended', 'unintentional', 'unintentionally', 'unjust',\n",
    "                       'unjustifiable', 'unjustifiably', 'unjustified', 'unjustly', 'unknowing', 'unknowingly',\n",
    "                       'unlawful', 'unlawfully', 'unlicensed', 'unliquidated', 'unmarketable', 'unmerchantable',\n",
    "                       'unmeritorious', 'unnecessarily', 'unnecessary', 'unneeded', 'unobtainable', 'unoccupied',\n",
    "                       'unpaid', 'unperformed', 'unplanned', 'unpopular', 'unpredictability', 'unpredictable',\n",
    "                       'unpredictably', 'unpredicted', 'unproductive', 'unprofitability', 'unprofitable', 'unqualified',\n",
    "                       'unrealistic', 'unreasonable', 'unreasonableness', 'unreasonably', 'unreceptive',\n",
    "                       'unrecoverable', 'unrecovered', 'unreimbursed', 'unreliable', 'unremedied', 'unreported',\n",
    "                       'unresolved', 'unrest', 'unsafe', 'unsalable', 'unsaleable', 'unsatisfactory', 'unsatisfied',\n",
    "                       'unsavory', 'unscheduled', 'unsellable', 'unsold', 'unsound', 'unstabilized', 'unstable',\n",
    "                       'unsubstantiated', 'unsuccessful', 'unsuccessfully', 'unsuitability', 'unsuitable', 'unsuitably',\n",
    "                       'unsuited', 'unsure', 'unsuspected', 'unsuspecting', 'unsustainable', 'untenable', 'untimely',\n",
    "                       'untrusted', 'untruth', 'untruthful', 'untruthfully', 'untruthfulness', 'untruths', 'unusable',\n",
    "                       'unwanted', 'unwarranted', 'unwelcome', 'unwilling', 'unwillingness', 'upset', 'urgency',\n",
    "                       'urgent', 'usurious', 'usurp', 'usurped', 'usurping', 'usurps', 'usury', 'vandalism', 'verdict',\n",
    "                       'verdicts', 'vetoed', 'victims', 'violate', 'violated', 'violates', 'violating', 'violation',\n",
    "                       'violations', 'violative', 'violator', 'violators', 'violence', 'violent', 'violently',\n",
    "                       'vitiate', 'vitiated', 'vitiates', 'vitiating', 'vitiation', 'voided', 'voiding', 'volatile',\n",
    "                       'volatility', 'vulnerabilities', 'vulnerability', 'vulnerable', 'vulnerably', 'warn', 'warned',\n",
    "                       'warning', 'warnings', 'warns', 'wasted', 'wasteful', 'wasting', 'weak', 'weaken', 'weakened',\n",
    "                       'weakening', 'weakens', 'weaker', 'weakest', 'weakly', 'weakness', 'weaknesses', 'willfully',\n",
    "                       'worries', 'worry', 'worrying', 'worse', 'worsen', 'worsened', 'worsening', 'worsens', 'worst',\n",
    "                       'worthless', 'writedown', 'writedowns', 'writeoff', 'writeoffs', 'wrong', 'wrongdoing',\n",
    "                       'wrongdoings', 'wrongful', 'wrongfully', 'wrongly'],\n",
    "          'Positive': ['able', 'abundance', 'abundant', 'acclaimed', 'accomplish', 'accomplished', 'accomplishes',\n",
    "                       'accomplishing', 'accomplishment', 'accomplishments', 'achieve', 'achieved', 'achievement',\n",
    "                       'achievements', 'achieves', 'achieving', 'adequately', 'advancement', 'advancements', 'advances',\n",
    "                       'advancing', 'advantage', 'advantaged', 'advantageous', 'advantageously', 'advantages',\n",
    "                       'alliance', 'alliances', 'assure', 'assured', 'assures', 'assuring', 'attain', 'attained',\n",
    "                       'attaining', 'attainment', 'attainments', 'attains', 'attractive', 'attractiveness', 'beautiful',\n",
    "                       'beautifully', 'beneficial', 'beneficially', 'benefit', 'benefited', 'benefiting', 'benefitted',\n",
    "                       'benefitting', 'best', 'better', 'bolstered', 'bolstering', 'bolsters', 'boom', 'booming',\n",
    "                       'boost', 'boosted', 'breakthrough', 'breakthroughs', 'brilliant', 'charitable', 'collaborate',\n",
    "                       'collaborated', 'collaborates', 'collaborating', 'collaboration', 'collaborations',\n",
    "                       'collaborative', 'collaborator', 'collaborators', 'compliment', 'complimentary', 'complimented',\n",
    "                       'complimenting', 'compliments', 'conclusive', 'conclusively', 'conducive', 'confident',\n",
    "                       'constructive', 'constructively', 'courteous', 'creative', 'creatively', 'creativeness',\n",
    "                       'creativity', 'delight', 'delighted', 'delightful', 'delightfully', 'delighting', 'delights',\n",
    "                       'dependability', 'dependable', 'desirable', 'desired', 'despite', 'destined', 'diligent',\n",
    "                       'diligently', 'distinction', 'distinctions', 'distinctive', 'distinctively', 'distinctiveness',\n",
    "                       'dream', 'easier', 'easily', 'easy', 'effective', 'efficiencies', 'efficiency', 'efficient',\n",
    "                       'efficiently', 'empower', 'empowered', 'empowering', 'empowers', 'enable', 'enabled', 'enables',\n",
    "                       'enabling', 'encouraged', 'encouragement', 'encourages', 'encouraging', 'enhance', 'enhanced',\n",
    "                       'enhancement', 'enhancements', 'enhances', 'enhancing', 'enjoy', 'enjoyable', 'enjoyably',\n",
    "                       'enjoyed', 'enjoying', 'enjoyment', 'enjoys', 'enthusiasm', 'enthusiastic', 'enthusiastically',\n",
    "                       'excellence', 'excellent', 'excelling', 'excels', 'exceptional', 'exceptionally', 'excited',\n",
    "                       'excitement', 'exciting', 'exclusive', 'exclusively', 'exclusiveness', 'exclusives',\n",
    "                       'exclusivity', 'exemplary', 'fantastic', 'favorable', 'favorably', 'favored', 'favoring',\n",
    "                       'favorite', 'favorites', 'friendly', 'gain', 'gained', 'gaining', 'gains', 'good', 'great',\n",
    "                       'greater', 'greatest', 'greatly', 'greatness', 'happiest', 'happily', 'happiness', 'happy',\n",
    "                       'highest', 'honor', 'honorable', 'honored', 'honoring', 'honors', 'ideal', 'impress',\n",
    "                       'impressed', 'impresses', 'impressing', 'impressive', 'impressively', 'improve', 'improved',\n",
    "                       'improvement', 'improvements', 'improves', 'improving', 'incredible', 'incredibly',\n",
    "                       'influential', 'informative', 'ingenuity', 'innovate', 'innovated', 'innovates', 'innovating',\n",
    "                       'innovation', 'innovations', 'innovative', 'innovativeness', 'innovator', 'innovators',\n",
    "                       'insightful', 'inspiration', 'inspirational', 'integrity', 'invent', 'invented', 'inventing',\n",
    "                       'invention', 'inventions', 'inventive', 'inventiveness', 'inventor', 'inventors', 'leadership',\n",
    "                       'leading', 'loyal', 'lucrative', 'meritorious', 'opportunities', 'opportunity', 'optimistic',\n",
    "                       'outperform', 'outperformed', 'outperforming', 'outperforms', 'perfect', 'perfected',\n",
    "                       'perfectly', 'perfects', 'pleasant', 'pleasantly', 'pleased', 'pleasure', 'plentiful', 'popular',\n",
    "                       'popularity', 'positive', 'positively', 'preeminence', 'preeminent', 'premier', 'premiere',\n",
    "                       'prestige', 'prestigious', 'proactive', 'proactively', 'proficiency', 'proficient',\n",
    "                       'proficiently', 'profitability', 'profitable', 'profitably', 'progress', 'progressed',\n",
    "                       'progresses', 'progressing', 'prospered', 'prospering', 'prosperity', 'prosperous', 'prospers',\n",
    "                       'rebound', 'rebounded', 'rebounding', 'receptive', 'regain', 'regained', 'regaining', 'resolve',\n",
    "                       'revolutionize', 'revolutionized', 'revolutionizes', 'revolutionizing', 'reward', 'rewarded',\n",
    "                       'rewarding', 'rewards', 'satisfaction', 'satisfactorily', 'satisfactory', 'satisfied',\n",
    "                       'satisfies', 'satisfy', 'satisfying', 'smooth', 'smoothing', 'smoothly', 'smooths', 'solves',\n",
    "                       'solving', 'spectacular', 'spectacularly', 'stability', 'stabilization', 'stabilizations',\n",
    "                       'stabilize', 'stabilized', 'stabilizes', 'stabilizing', 'stable', 'strength', 'strengthen',\n",
    "                       'strengthened', 'strengthening', 'strengthens', 'strengths', 'strong', 'stronger', 'strongest',\n",
    "                       'succeed', 'succeeded', 'succeeding', 'succeeds', 'success', 'successes', 'successful',\n",
    "                       'successfully', 'superior', 'surpass', 'surpassed', 'surpasses', 'surpassing', 'transparency',\n",
    "                       'tremendous', 'tremendously', 'unmatched', 'unparalleled', 'unsurpassed', 'upturn', 'upturns',\n",
    "                       'valuable', 'versatile', 'versatility', 'vibrancy', 'vibrant', 'win', 'winner', 'winners',\n",
    "                       'winning', 'worthy']}\n"
   ]
  },
  {
   "cell_type": "code",
   "execution_count": 223,
   "metadata": {},
   "outputs": [
    {
     "data": {
      "text/plain": [
       "(209, 3279)"
      ]
     },
     "execution_count": 223,
     "metadata": {},
     "output_type": "execute_result"
    }
   ],
   "source": [
    "# Let's stemm these words as well, so as to match sentiment words with our pre-processed data\n",
    "X_mat.shape"
   ]
  },
  {
   "cell_type": "code",
   "execution_count": 224,
   "metadata": {},
   "outputs": [],
   "source": [
    "newdf = pd.DataFrame(X_mat)\n",
    "newdf.columns = vec.get_feature_names()"
   ]
  },
  {
   "cell_type": "code",
   "execution_count": 225,
   "metadata": {},
   "outputs": [
    {
     "data": {
      "text/html": [
       "<div>\n",
       "<style scoped>\n",
       "    .dataframe tbody tr th:only-of-type {\n",
       "        vertical-align: middle;\n",
       "    }\n",
       "\n",
       "    .dataframe tbody tr th {\n",
       "        vertical-align: top;\n",
       "    }\n",
       "\n",
       "    .dataframe thead th {\n",
       "        text-align: right;\n",
       "    }\n",
       "</style>\n",
       "<table border=\"1\" class=\"dataframe\">\n",
       "  <thead>\n",
       "    <tr style=\"text-align: right;\">\n",
       "      <th></th>\n",
       "      <th>ab</th>\n",
       "      <th>abandon</th>\n",
       "      <th>abat</th>\n",
       "      <th>abil</th>\n",
       "      <th>abl</th>\n",
       "      <th>abnorm</th>\n",
       "      <th>abolit</th>\n",
       "      <th>abour</th>\n",
       "      <th>abroad</th>\n",
       "      <th>abrupt</th>\n",
       "      <th>...</th>\n",
       "      <th>yk</th>\n",
       "      <th>yougov</th>\n",
       "      <th>young</th>\n",
       "      <th>younger</th>\n",
       "      <th>zero</th>\n",
       "      <th>zew</th>\n",
       "      <th>zone</th>\n",
       "      <th>â¼</th>\n",
       "      <th>â½</th>\n",
       "      <th>â¾</th>\n",
       "    </tr>\n",
       "  </thead>\n",
       "  <tbody>\n",
       "    <tr>\n",
       "      <th>0</th>\n",
       "      <td>0.0</td>\n",
       "      <td>0.0</td>\n",
       "      <td>0.000000</td>\n",
       "      <td>0.000000</td>\n",
       "      <td>0.000000</td>\n",
       "      <td>0.0</td>\n",
       "      <td>0.000000</td>\n",
       "      <td>0.000000</td>\n",
       "      <td>0.000000</td>\n",
       "      <td>0.000000</td>\n",
       "      <td>...</td>\n",
       "      <td>0.0</td>\n",
       "      <td>0.0</td>\n",
       "      <td>0.0</td>\n",
       "      <td>0.0</td>\n",
       "      <td>0.000000</td>\n",
       "      <td>0.0</td>\n",
       "      <td>0.0</td>\n",
       "      <td>0.00000</td>\n",
       "      <td>0.000000</td>\n",
       "      <td>0.0</td>\n",
       "    </tr>\n",
       "    <tr>\n",
       "      <th>1</th>\n",
       "      <td>0.0</td>\n",
       "      <td>0.0</td>\n",
       "      <td>0.000000</td>\n",
       "      <td>0.000000</td>\n",
       "      <td>0.012638</td>\n",
       "      <td>0.0</td>\n",
       "      <td>0.051682</td>\n",
       "      <td>0.000000</td>\n",
       "      <td>0.013724</td>\n",
       "      <td>0.000000</td>\n",
       "      <td>...</td>\n",
       "      <td>0.0</td>\n",
       "      <td>0.0</td>\n",
       "      <td>0.0</td>\n",
       "      <td>0.0</td>\n",
       "      <td>0.000000</td>\n",
       "      <td>0.0</td>\n",
       "      <td>0.0</td>\n",
       "      <td>0.00000</td>\n",
       "      <td>0.000000</td>\n",
       "      <td>0.0</td>\n",
       "    </tr>\n",
       "    <tr>\n",
       "      <th>2</th>\n",
       "      <td>0.0</td>\n",
       "      <td>0.0</td>\n",
       "      <td>0.016963</td>\n",
       "      <td>0.013097</td>\n",
       "      <td>0.011006</td>\n",
       "      <td>0.0</td>\n",
       "      <td>0.000000</td>\n",
       "      <td>0.000000</td>\n",
       "      <td>0.011951</td>\n",
       "      <td>0.000000</td>\n",
       "      <td>...</td>\n",
       "      <td>0.0</td>\n",
       "      <td>0.0</td>\n",
       "      <td>0.0</td>\n",
       "      <td>0.0</td>\n",
       "      <td>0.011303</td>\n",
       "      <td>0.0</td>\n",
       "      <td>0.0</td>\n",
       "      <td>0.00000</td>\n",
       "      <td>0.000000</td>\n",
       "      <td>0.0</td>\n",
       "    </tr>\n",
       "    <tr>\n",
       "      <th>3</th>\n",
       "      <td>0.0</td>\n",
       "      <td>0.0</td>\n",
       "      <td>0.000000</td>\n",
       "      <td>0.000000</td>\n",
       "      <td>0.000000</td>\n",
       "      <td>0.0</td>\n",
       "      <td>0.000000</td>\n",
       "      <td>0.017316</td>\n",
       "      <td>0.034163</td>\n",
       "      <td>0.015052</td>\n",
       "      <td>...</td>\n",
       "      <td>0.0</td>\n",
       "      <td>0.0</td>\n",
       "      <td>0.0</td>\n",
       "      <td>0.0</td>\n",
       "      <td>0.000000</td>\n",
       "      <td>0.0</td>\n",
       "      <td>0.0</td>\n",
       "      <td>0.00000</td>\n",
       "      <td>0.000000</td>\n",
       "      <td>0.0</td>\n",
       "    </tr>\n",
       "    <tr>\n",
       "      <th>4</th>\n",
       "      <td>0.0</td>\n",
       "      <td>0.0</td>\n",
       "      <td>0.000000</td>\n",
       "      <td>0.000000</td>\n",
       "      <td>0.023017</td>\n",
       "      <td>0.0</td>\n",
       "      <td>0.000000</td>\n",
       "      <td>0.000000</td>\n",
       "      <td>0.012497</td>\n",
       "      <td>0.000000</td>\n",
       "      <td>...</td>\n",
       "      <td>0.0</td>\n",
       "      <td>0.0</td>\n",
       "      <td>0.0</td>\n",
       "      <td>0.0</td>\n",
       "      <td>0.023638</td>\n",
       "      <td>0.0</td>\n",
       "      <td>0.0</td>\n",
       "      <td>0.09402</td>\n",
       "      <td>0.060923</td>\n",
       "      <td>0.0</td>\n",
       "    </tr>\n",
       "  </tbody>\n",
       "</table>\n",
       "<p>5 rows × 3279 columns</p>\n",
       "</div>"
      ],
      "text/plain": [
       "    ab  abandon      abat      abil       abl  abnorm    abolit     abour  \\\n",
       "0  0.0      0.0  0.000000  0.000000  0.000000     0.0  0.000000  0.000000   \n",
       "1  0.0      0.0  0.000000  0.000000  0.012638     0.0  0.051682  0.000000   \n",
       "2  0.0      0.0  0.016963  0.013097  0.011006     0.0  0.000000  0.000000   \n",
       "3  0.0      0.0  0.000000  0.000000  0.000000     0.0  0.000000  0.017316   \n",
       "4  0.0      0.0  0.000000  0.000000  0.023017     0.0  0.000000  0.000000   \n",
       "\n",
       "     abroad    abrupt  ...   yk  yougov  young  younger      zero  zew  zone  \\\n",
       "0  0.000000  0.000000  ...  0.0     0.0    0.0      0.0  0.000000  0.0   0.0   \n",
       "1  0.013724  0.000000  ...  0.0     0.0    0.0      0.0  0.000000  0.0   0.0   \n",
       "2  0.011951  0.000000  ...  0.0     0.0    0.0      0.0  0.011303  0.0   0.0   \n",
       "3  0.034163  0.015052  ...  0.0     0.0    0.0      0.0  0.000000  0.0   0.0   \n",
       "4  0.012497  0.000000  ...  0.0     0.0    0.0      0.0  0.023638  0.0   0.0   \n",
       "\n",
       "        â¼        â½   â¾  \n",
       "0  0.00000  0.000000  0.0  \n",
       "1  0.00000  0.000000  0.0  \n",
       "2  0.00000  0.000000  0.0  \n",
       "3  0.00000  0.000000  0.0  \n",
       "4  0.09402  0.060923  0.0  \n",
       "\n",
       "[5 rows x 3279 columns]"
      ]
     },
     "execution_count": 225,
     "metadata": {},
     "output_type": "execute_result"
    }
   ],
   "source": [
    "newdf.head()"
   ]
  },
  {
   "cell_type": "code",
   "execution_count": 226,
   "metadata": {},
   "outputs": [],
   "source": [
    "def positive(row):\n",
    "    return row[column] * 1\n",
    "\n",
    "def negative(row):\n",
    "    return row[column] * -1\n",
    "\n",
    "for column in newdf:\n",
    "    if column in lmdict['Negative']:\n",
    "        newdf[column] = newdf.apply(lambda row: negative(row),axis=1)\n",
    "    elif column in lmdict['Positive']:\n",
    "        newdf[column] = newdf.apply(lambda row: positive(row),axis=1)"
   ]
  },
  {
   "cell_type": "code",
   "execution_count": 227,
   "metadata": {},
   "outputs": [
    {
     "data": {
      "text/html": [
       "<div>\n",
       "<style scoped>\n",
       "    .dataframe tbody tr th:only-of-type {\n",
       "        vertical-align: middle;\n",
       "    }\n",
       "\n",
       "    .dataframe tbody tr th {\n",
       "        vertical-align: top;\n",
       "    }\n",
       "\n",
       "    .dataframe thead th {\n",
       "        text-align: right;\n",
       "    }\n",
       "</style>\n",
       "<table border=\"1\" class=\"dataframe\">\n",
       "  <thead>\n",
       "    <tr style=\"text-align: right;\">\n",
       "      <th></th>\n",
       "      <th>ab</th>\n",
       "      <th>abandon</th>\n",
       "      <th>abat</th>\n",
       "      <th>abil</th>\n",
       "      <th>abl</th>\n",
       "      <th>abnorm</th>\n",
       "      <th>abolit</th>\n",
       "      <th>abour</th>\n",
       "      <th>abroad</th>\n",
       "      <th>abrupt</th>\n",
       "      <th>...</th>\n",
       "      <th>yk</th>\n",
       "      <th>yougov</th>\n",
       "      <th>young</th>\n",
       "      <th>younger</th>\n",
       "      <th>zero</th>\n",
       "      <th>zew</th>\n",
       "      <th>zone</th>\n",
       "      <th>â¼</th>\n",
       "      <th>â½</th>\n",
       "      <th>â¾</th>\n",
       "    </tr>\n",
       "  </thead>\n",
       "  <tbody>\n",
       "    <tr>\n",
       "      <th>0</th>\n",
       "      <td>0.0</td>\n",
       "      <td>-0.0</td>\n",
       "      <td>0.000000</td>\n",
       "      <td>0.000000</td>\n",
       "      <td>0.000000</td>\n",
       "      <td>0.0</td>\n",
       "      <td>0.000000</td>\n",
       "      <td>0.000000</td>\n",
       "      <td>0.000000</td>\n",
       "      <td>-0.000000</td>\n",
       "      <td>...</td>\n",
       "      <td>0.0</td>\n",
       "      <td>0.0</td>\n",
       "      <td>0.0</td>\n",
       "      <td>0.0</td>\n",
       "      <td>0.000000</td>\n",
       "      <td>0.0</td>\n",
       "      <td>0.0</td>\n",
       "      <td>0.00000</td>\n",
       "      <td>0.000000</td>\n",
       "      <td>0.0</td>\n",
       "    </tr>\n",
       "    <tr>\n",
       "      <th>1</th>\n",
       "      <td>0.0</td>\n",
       "      <td>-0.0</td>\n",
       "      <td>0.000000</td>\n",
       "      <td>0.000000</td>\n",
       "      <td>0.012638</td>\n",
       "      <td>0.0</td>\n",
       "      <td>0.051682</td>\n",
       "      <td>0.000000</td>\n",
       "      <td>0.013724</td>\n",
       "      <td>-0.000000</td>\n",
       "      <td>...</td>\n",
       "      <td>0.0</td>\n",
       "      <td>0.0</td>\n",
       "      <td>0.0</td>\n",
       "      <td>0.0</td>\n",
       "      <td>0.000000</td>\n",
       "      <td>0.0</td>\n",
       "      <td>0.0</td>\n",
       "      <td>0.00000</td>\n",
       "      <td>0.000000</td>\n",
       "      <td>0.0</td>\n",
       "    </tr>\n",
       "    <tr>\n",
       "      <th>2</th>\n",
       "      <td>0.0</td>\n",
       "      <td>-0.0</td>\n",
       "      <td>0.016963</td>\n",
       "      <td>0.013097</td>\n",
       "      <td>0.011006</td>\n",
       "      <td>0.0</td>\n",
       "      <td>0.000000</td>\n",
       "      <td>0.000000</td>\n",
       "      <td>0.011951</td>\n",
       "      <td>-0.000000</td>\n",
       "      <td>...</td>\n",
       "      <td>0.0</td>\n",
       "      <td>0.0</td>\n",
       "      <td>0.0</td>\n",
       "      <td>0.0</td>\n",
       "      <td>0.011303</td>\n",
       "      <td>0.0</td>\n",
       "      <td>0.0</td>\n",
       "      <td>0.00000</td>\n",
       "      <td>0.000000</td>\n",
       "      <td>0.0</td>\n",
       "    </tr>\n",
       "    <tr>\n",
       "      <th>3</th>\n",
       "      <td>0.0</td>\n",
       "      <td>-0.0</td>\n",
       "      <td>0.000000</td>\n",
       "      <td>0.000000</td>\n",
       "      <td>0.000000</td>\n",
       "      <td>0.0</td>\n",
       "      <td>0.000000</td>\n",
       "      <td>0.017316</td>\n",
       "      <td>0.034163</td>\n",
       "      <td>-0.015052</td>\n",
       "      <td>...</td>\n",
       "      <td>0.0</td>\n",
       "      <td>0.0</td>\n",
       "      <td>0.0</td>\n",
       "      <td>0.0</td>\n",
       "      <td>0.000000</td>\n",
       "      <td>0.0</td>\n",
       "      <td>0.0</td>\n",
       "      <td>0.00000</td>\n",
       "      <td>0.000000</td>\n",
       "      <td>0.0</td>\n",
       "    </tr>\n",
       "    <tr>\n",
       "      <th>4</th>\n",
       "      <td>0.0</td>\n",
       "      <td>-0.0</td>\n",
       "      <td>0.000000</td>\n",
       "      <td>0.000000</td>\n",
       "      <td>0.023017</td>\n",
       "      <td>0.0</td>\n",
       "      <td>0.000000</td>\n",
       "      <td>0.000000</td>\n",
       "      <td>0.012497</td>\n",
       "      <td>-0.000000</td>\n",
       "      <td>...</td>\n",
       "      <td>0.0</td>\n",
       "      <td>0.0</td>\n",
       "      <td>0.0</td>\n",
       "      <td>0.0</td>\n",
       "      <td>0.023638</td>\n",
       "      <td>0.0</td>\n",
       "      <td>0.0</td>\n",
       "      <td>0.09402</td>\n",
       "      <td>0.060923</td>\n",
       "      <td>0.0</td>\n",
       "    </tr>\n",
       "  </tbody>\n",
       "</table>\n",
       "<p>5 rows × 3279 columns</p>\n",
       "</div>"
      ],
      "text/plain": [
       "    ab  abandon      abat      abil       abl  abnorm    abolit     abour  \\\n",
       "0  0.0     -0.0  0.000000  0.000000  0.000000     0.0  0.000000  0.000000   \n",
       "1  0.0     -0.0  0.000000  0.000000  0.012638     0.0  0.051682  0.000000   \n",
       "2  0.0     -0.0  0.016963  0.013097  0.011006     0.0  0.000000  0.000000   \n",
       "3  0.0     -0.0  0.000000  0.000000  0.000000     0.0  0.000000  0.017316   \n",
       "4  0.0     -0.0  0.000000  0.000000  0.023017     0.0  0.000000  0.000000   \n",
       "\n",
       "     abroad    abrupt  ...   yk  yougov  young  younger      zero  zew  zone  \\\n",
       "0  0.000000 -0.000000  ...  0.0     0.0    0.0      0.0  0.000000  0.0   0.0   \n",
       "1  0.013724 -0.000000  ...  0.0     0.0    0.0      0.0  0.000000  0.0   0.0   \n",
       "2  0.011951 -0.000000  ...  0.0     0.0    0.0      0.0  0.011303  0.0   0.0   \n",
       "3  0.034163 -0.015052  ...  0.0     0.0    0.0      0.0  0.000000  0.0   0.0   \n",
       "4  0.012497 -0.000000  ...  0.0     0.0    0.0      0.0  0.023638  0.0   0.0   \n",
       "\n",
       "        â¼        â½   â¾  \n",
       "0  0.00000  0.000000  0.0  \n",
       "1  0.00000  0.000000  0.0  \n",
       "2  0.00000  0.000000  0.0  \n",
       "3  0.00000  0.000000  0.0  \n",
       "4  0.09402  0.060923  0.0  \n",
       "\n",
       "[5 rows x 3279 columns]"
      ]
     },
     "execution_count": 227,
     "metadata": {},
     "output_type": "execute_result"
    }
   ],
   "source": [
    "newdf.head()"
   ]
  },
  {
   "cell_type": "code",
   "execution_count": 228,
   "metadata": {},
   "outputs": [],
   "source": [
    "newdf['Sentiment'] = (newdf.where(newdf > 0).sum(1)-newdf.where(newdf < 0).sum(1))/(newdf.where(newdf > 0).sum(1)+newdf.where(newdf < 0).sum(1)) -1"
   ]
  },
  {
   "cell_type": "code",
   "execution_count": 229,
   "metadata": {},
   "outputs": [
    {
     "data": {
      "text/plain": [
       "0     0.045324\n",
       "1     0.053075\n",
       "2     0.039778\n",
       "3     0.050498\n",
       "4     0.046366\n",
       "5     0.071389\n",
       "6     0.075173\n",
       "7     0.070309\n",
       "8     0.084816\n",
       "9     0.072353\n",
       "10    0.072370\n",
       "11    0.067517\n",
       "12    0.054863\n",
       "13    0.089516\n",
       "14    0.097005\n",
       "15    0.114102\n",
       "16    0.102107\n",
       "17    0.124615\n",
       "18    0.100221\n",
       "19    0.077347\n",
       "Name: Sentiment, dtype: float64"
      ]
     },
     "execution_count": 229,
     "metadata": {},
     "output_type": "execute_result"
    }
   ],
   "source": [
    "newdf['Sentiment'][:20]"
   ]
  },
  {
   "cell_type": "markdown",
   "metadata": {},
   "source": [
    "### Exercises"
   ]
  },
  {
   "cell_type": "markdown",
   "metadata": {},
   "source": [
    "1. Join the sentiment index to our original dataframe"
   ]
  },
  {
   "cell_type": "code",
   "execution_count": null,
   "metadata": {},
   "outputs": [],
   "source": []
  },
  {
   "cell_type": "markdown",
   "metadata": {},
   "source": [
    "2. Use quarterly GDP data for the UK for the same period in order to study the correlation between our sentiment index and the UK's economic performance."
   ]
  },
  {
   "cell_type": "code",
   "execution_count": 231,
   "metadata": {},
   "outputs": [],
   "source": [
    "gdp_df = pd.read_csv(data + '/uk_quarterly_gdp.csv')\n",
    "\n",
    "# misc = df.groupby('quarter').agg(np.mean)\n",
    "\n",
    "# Use misc.corr() to draw correlations"
   ]
  },
  {
   "cell_type": "markdown",
   "metadata": {},
   "source": [
    "3. Plot the evolution across time of GDP and the index of sentiment. Try fine tuning the dictionary (mainly, stemming words) to better adjust it."
   ]
  },
  {
   "cell_type": "code",
   "execution_count": null,
   "metadata": {},
   "outputs": [],
   "source": []
  }
 ],
 "metadata": {
  "kernelspec": {
   "display_name": "Python 3",
   "language": "python",
   "name": "python3"
  },
  "language_info": {
   "codemirror_mode": {
    "name": "ipython",
    "version": 3
   },
   "file_extension": ".py",
   "mimetype": "text/x-python",
   "name": "python",
   "nbconvert_exporter": "python",
   "pygments_lexer": "ipython3",
   "version": "3.8.5"
  }
 },
 "nbformat": 4,
 "nbformat_minor": 4
}
