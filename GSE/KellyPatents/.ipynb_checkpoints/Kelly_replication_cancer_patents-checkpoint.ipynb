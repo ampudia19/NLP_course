{
 "cells": [
  {
   "cell_type": "markdown",
   "metadata": {},
   "source": [
    "# Cancer Patent Quality with Textual Metrics"
   ]
  },
  {
   "cell_type": "code",
   "execution_count": 1,
   "metadata": {},
   "outputs": [],
   "source": [
    "import os\n",
    "import zipfile as zip\n",
    "import pandas as pd\n",
    "import csv\n",
    "import numpy as np\n",
    "from tqdm import tqdm\n",
    "\n",
    "from scipy.sparse import find, csr_matrix\n",
    "from scipy import stats\n",
    "\n",
    "import re\n",
    "from pprint import pprint\n",
    "from tqdm import tqdm\n",
    "import matplotlib.pyplot as plt\n",
    "%matplotlib inline\n",
    "\n",
    "import string\n",
    "\n",
    "#Sklearn\n",
    "from sklearn.feature_selection import chi2\n",
    "from sklearn.feature_extraction.text import TfidfVectorizer\n",
    "from sklearn.metrics.pairwise import cosine_similarity\n",
    "\n",
    "# Gensim\n",
    "import gensim\n",
    "import gensim.corpora as corpora\n",
    "from gensim.utils import simple_preprocess\n",
    "from gensim.models import CoherenceModel\n",
    "from gensim.models import TfidfModel\n",
    "\n",
    "# nltk\n",
    "import nltk\n",
    "from nltk.stem import SnowballStemmer\n",
    "#nltk.download('punkt') # Uncomment if not yet downloaded\n",
    "\n",
    "# spacy for lemmatization\n",
    "import spacy"
   ]
  },
  {
   "cell_type": "code",
   "execution_count": 2,
   "metadata": {},
   "outputs": [],
   "source": [
    "#Define paths - Change accordingly\n",
    "maindir = 'E:/Dropbox/_Pre-Doc/NLP_course/GSE/KellyPatents/'\n",
    "datadir = maindir + 'data/'"
   ]
  },
  {
   "cell_type": "markdown",
   "metadata": {},
   "source": [
    "# Data Preparation"
   ]
  },
  {
   "cell_type": "markdown",
   "metadata": {},
   "source": [
    "## Data loading and cleaning"
   ]
  },
  {
   "cell_type": "code",
   "execution_count": 3,
   "metadata": {
    "scrolled": true
   },
   "outputs": [
    {
     "name": "stdout",
     "output_type": "stream",
     "text": [
      "Document matrix dimension: (269353, 29)\n"
     ]
    }
   ],
   "source": [
    "# Import USPTO Cancer Patents Data (downloaded from: https://www.uspto.gov/learning-and-resources/electronic-data-products/cancer-moonshot-patent-data)\n",
    "cancer = pd.read_csv(datadir + 'Cancer_patents.csv')\n",
    "print('Document matrix dimension:', cancer.shape)"
   ]
  },
  {
   "cell_type": "code",
   "execution_count": 4,
   "metadata": {},
   "outputs": [
    {
     "name": "stdout",
     "output_type": "stream",
     "text": [
      "Document column names: Index(['Family_ID', 'Patent_or_Publication_ID', 'Application_Number',\n",
      "       'Filing_Date', 'Grant_or_Publication_Date', 'CPC_Inventive',\n",
      "       'CPC_Additional', 'IPC_Primary', 'IPC_Secondary',\n",
      "       'USPC_Current_Original', 'USPC_Current_Cross_Reference', 'Patent_Title',\n",
      "       'Drugs_and_Chemistry', 'Diagnostic_and_Surgical_Devices',\n",
      "       'Radiation_Measurement', 'Data_Science', 'Food_and_Nutrition',\n",
      "       'Model_Systems_and_Animals', 'Cells_and_Enzymes',\n",
      "       'Other_and_Preclassification', 'DNA_RNA_or_Protein_Sequence',\n",
      "       'NIH_Federal_Grant_Number', 'NIH_Grant_Recipient_Organization',\n",
      "       'FDA_Application_Number', 'FDA_Drug_Trade_Name', 'FDA_Approval_Date',\n",
      "       'FDA_Applicant', 'FDA_Ingredient', 'TBD'],\n",
      "      dtype='object')\n"
     ]
    }
   ],
   "source": [
    "# Inspect column names\n",
    "print('Document column names:', cancer.columns)"
   ]
  },
  {
   "cell_type": "code",
   "execution_count": 5,
   "metadata": {
    "scrolled": true
   },
   "outputs": [
    {
     "data": {
      "text/plain": [
       "(269353, 14)"
      ]
     },
     "execution_count": 5,
     "metadata": {},
     "output_type": "execute_result"
    }
   ],
   "source": [
    "# Select subset of columns for the purpose of our analysis\n",
    "cancer = cancer[['Patent_or_Publication_ID', 'Application_Number',\n",
    "       'Filing_Date', 'Grant_or_Publication_Date', 'Patent_Title',\n",
    "       'Drugs_and_Chemistry', 'Diagnostic_and_Surgical_Devices',\n",
    "       'Radiation_Measurement', 'Data_Science', 'Food_and_Nutrition',\n",
    "       'Model_Systems_and_Animals', 'Cells_and_Enzymes',\n",
    "       'Other_and_Preclassification', 'DNA_RNA_or_Protein_Sequence']]\n",
    "\n",
    "cancer.shape"
   ]
  },
  {
   "cell_type": "code",
   "execution_count": 6,
   "metadata": {
    "scrolled": true
   },
   "outputs": [
    {
     "name": "stdout",
     "output_type": "stream",
     "text": [
      "Nb of NANs in col Patent_or_Publication_ID is: 0\n",
      "Nb of NANs in col Application_Number is: 345\n",
      "Nb of NANs in col Filing_Date is: 311\n",
      "Nb of NANs in col Grant_or_Publication_Date is: 0\n",
      "Nb of NANs in col Patent_Title is: 0\n",
      "Nb of NANs in col Drugs_and_Chemistry is: 0\n",
      "Nb of NANs in col Diagnostic_and_Surgical_Devices is: 0\n",
      "Nb of NANs in col Radiation_Measurement is: 0\n",
      "Nb of NANs in col Data_Science is: 0\n",
      "Nb of NANs in col Food_and_Nutrition is: 0\n",
      "Nb of NANs in col Model_Systems_and_Animals is: 0\n",
      "Nb of NANs in col Cells_and_Enzymes is: 0\n",
      "Nb of NANs in col Other_and_Preclassification is: 0\n",
      "Nb of NANs in col DNA_RNA_or_Protein_Sequence is: 0\n",
      "(269008, 14)\n",
      "Index(['patent_id', 'app_nb', 'filing_date', 'publi_date', 'title',\n",
      "       'Drugs_and_Chemistry', 'Diagnostic_and_Surgical_Devices',\n",
      "       'Radiation_Measurement', 'Data_Science', 'Food_and_Nutrition',\n",
      "       'Model_Systems_and_Animals', 'Cells_and_Enzymes',\n",
      "       'Other_and_Preclassification', 'DNA_RNA_or_Protein_Sequence'],\n",
      "      dtype='object')\n"
     ]
    }
   ],
   "source": [
    "# Perform quick data checks\n",
    "cols = cancer.columns.to_list()\n",
    "for col in cols:\n",
    "    print('Nb of NANs in col', col, 'is:', cancer[col].isnull().sum())\n",
    "    \n",
    "# Drop the few NANS that are present in the dataset\n",
    "cancer.dropna(inplace=True)\n",
    "print(cancer.shape)\n",
    "\n",
    "# Rename some of the cols\n",
    "cancer = cancer.rename(columns = {'Patent_or_Publication_ID': 'patent_id', 'Application_Number': 'app_nb', 'Filing_Date': 'filing_date',\n",
    "                                 'Grant_or_Publication_Date': 'publi_date', 'Patent_Title': 'title'})\n",
    "print(cancer.columns)"
   ]
  },
  {
   "cell_type": "code",
   "execution_count": 7,
   "metadata": {},
   "outputs": [
    {
     "name": "stdout",
     "output_type": "stream",
     "text": [
      "Duplicated patent entries: True\n",
      "Duplicated patent IDs: True\n",
      "Duplicated patent Application Number: True\n",
      "Duplicated patent Title: True\n"
     ]
    }
   ],
   "source": [
    "# Check if any duplicates in the patent ID or application number\n",
    "print('Duplicated patent entries:',cancer.duplicated().any())\n",
    "print('Duplicated patent IDs:',cancer['patent_id'].duplicated().any())\n",
    "print('Duplicated patent Application Number:',cancer['app_nb'].duplicated().any())\n",
    "print('Duplicated patent Title:',cancer['title'].duplicated().any())"
   ]
  },
  {
   "cell_type": "code",
   "execution_count": 8,
   "metadata": {},
   "outputs": [
    {
     "name": "stdout",
     "output_type": "stream",
     "text": [
      "268899 unique patent IDs\n",
      "200146 unique patent application numbers\n",
      "181912 unique patent titles\n"
     ]
    }
   ],
   "source": [
    "print(cancer['patent_id'].nunique(),'unique patent IDs')\n",
    "print(cancer['app_nb'].nunique(),'unique patent application numbers')\n",
    "print(cancer['title'].nunique(),'unique patent titles')"
   ]
  },
  {
   "cell_type": "code",
   "execution_count": 9,
   "metadata": {},
   "outputs": [
    {
     "name": "stdout",
     "output_type": "stream",
     "text": [
      "(268899, 14)\n",
      "Duplicated patent entries: False\n",
      "Duplicated patent IDs: False\n",
      "Duplicated patent Application Number: True\n",
      "Duplicated patent Title: True\n"
     ]
    }
   ],
   "source": [
    "# Drop duplicates according to patent_id\n",
    "cancer.drop_duplicates(subset = ['patent_id'], inplace = True)\n",
    "print(cancer.shape)\n",
    "\n",
    "print('Duplicated patent entries:',cancer.duplicated().any())\n",
    "print('Duplicated patent IDs:',cancer['patent_id'].duplicated().any())\n",
    "print('Duplicated patent Application Number:',cancer['app_nb'].duplicated().any())\n",
    "print('Duplicated patent Title:',cancer['title'].duplicated().any())"
   ]
  },
  {
   "cell_type": "code",
   "execution_count": 10,
   "metadata": {},
   "outputs": [
    {
     "name": "stdout",
     "output_type": "stream",
     "text": [
      "<class 'numpy.float64'>\n",
      "<class 'str'>\n"
     ]
    }
   ],
   "source": [
    "# Format the Filing Date column - Create a DateTime column\n",
    "print(type(cancer['filing_date'].iloc[0]))\n",
    "cancer['filing_date'] = cancer['filing_date'].astype(int).astype(str)\n",
    "print(type(cancer['filing_date'].iloc[0]))\n",
    "cancer['filing_date'] = pd.to_datetime(cancer['filing_date'], format=\"%Y%m%d\") "
   ]
  },
  {
   "cell_type": "code",
   "execution_count": 11,
   "metadata": {},
   "outputs": [
    {
     "name": "stdout",
     "output_type": "stream",
     "text": [
      "2004    0.064745\n",
      "2007    0.063254\n",
      "2010    0.061625\n",
      "2003    0.061384\n",
      "2006    0.060205\n",
      "2009    0.060011\n",
      "2008    0.059286\n",
      "2012    0.059175\n",
      "2011    0.059149\n",
      "2002    0.058665\n",
      "2013    0.055549\n",
      "2005    0.055478\n",
      "2001    0.050097\n",
      "2014    0.042931\n",
      "2015    0.023942\n",
      "2000    0.022313\n",
      "1999    0.019714\n",
      "1995    0.018490\n",
      "1998    0.016181\n",
      "1997    0.014786\n",
      "1996    0.010859\n",
      "1994    0.010342\n",
      "1993    0.006605\n",
      "1992    0.004991\n",
      "1991    0.003808\n",
      "1990    0.003767\n",
      "1989    0.003756\n",
      "1987    0.003302\n",
      "1988    0.003243\n",
      "2016    0.003187\n",
      "1985    0.002666\n",
      "1986    0.002562\n",
      "1984    0.002250\n",
      "1983    0.001655\n",
      "1982    0.001551\n",
      "1981    0.001391\n",
      "1980    0.001257\n",
      "1978    0.001116\n",
      "1979    0.001112\n",
      "1977    0.000885\n",
      "1976    0.000699\n",
      "1975    0.000565\n",
      "1974    0.000428\n",
      "1973    0.000390\n",
      "1972    0.000219\n",
      "1969    0.000123\n",
      "1971    0.000115\n",
      "1970    0.000071\n",
      "1968    0.000060\n",
      "1967    0.000022\n",
      "1965    0.000011\n",
      "1966    0.000004\n",
      "1964    0.000004\n",
      "1963    0.000004\n",
      "Name: filing_year, dtype: float64\n",
      "2004    17410\n",
      "2007    17009\n",
      "2010    16571\n",
      "2003    16506\n",
      "2006    16189\n",
      "2009    16137\n",
      "2008    15942\n",
      "2012    15912\n",
      "2011    15905\n",
      "2002    15775\n",
      "2013    14937\n",
      "2005    14918\n",
      "2001    13471\n",
      "2014    11544\n",
      "2015     6438\n",
      "2000     6000\n",
      "1999     5301\n",
      "1995     4972\n",
      "1998     4351\n",
      "1997     3976\n",
      "1996     2920\n",
      "1994     2781\n",
      "1993     1776\n",
      "1992     1342\n",
      "1991     1024\n",
      "1990     1013\n",
      "1989     1010\n",
      "1987      888\n",
      "1988      872\n",
      "2016      857\n",
      "1985      717\n",
      "1986      689\n",
      "1984      605\n",
      "1983      445\n",
      "1982      417\n",
      "1981      374\n",
      "1980      338\n",
      "1978      300\n",
      "1979      299\n",
      "1977      238\n",
      "1976      188\n",
      "1975      152\n",
      "1974      115\n",
      "1973      105\n",
      "1972       59\n",
      "1969       33\n",
      "1971       31\n",
      "1970       19\n",
      "1968       16\n",
      "1967        6\n",
      "1965        3\n",
      "1966        1\n",
      "1964        1\n",
      "1963        1\n",
      "Name: filing_year, dtype: int64\n",
      "3     0.096345\n",
      "6     0.092670\n",
      "12    0.089182\n",
      "5     0.085910\n",
      "10    0.085750\n",
      "9     0.082592\n",
      "7     0.082477\n",
      "4     0.081291\n",
      "8     0.080134\n",
      "11    0.077862\n",
      "2     0.076241\n",
      "1     0.069547\n",
      "Name: filing_month, dtype: float64\n"
     ]
    }
   ],
   "source": [
    "# Create filing year and filing months vars\n",
    "cancer['filing_year'] = pd.DatetimeIndex(cancer['filing_date']).year\n",
    "cancer['filing_month'] = pd.DatetimeIndex(cancer['filing_date']).month\n",
    "\n",
    "# Relative frequency of filing year\n",
    "print(cancer['filing_year'].value_counts(True))\n",
    "\n",
    "# Absolute frequency of filing year\n",
    "print(cancer['filing_year'].value_counts())\n",
    "\n",
    "# Relative frequency of filing month\n",
    "print(cancer['filing_month'].value_counts(True))"
   ]
  },
  {
   "cell_type": "code",
   "execution_count": 12,
   "metadata": {},
   "outputs": [
    {
     "data": {
      "text/plain": [
       "array([[<AxesSubplot:title={'center':'filing_year'}>,\n",
       "        <AxesSubplot:title={'center':'filing_month'}>]], dtype=object)"
      ]
     },
     "execution_count": 12,
     "metadata": {},
     "output_type": "execute_result"
    },
    {
     "data": {
      "image/png": "[encoded data removed]",
      "text/plain": [
       "<Figure size 432x288 with 2 Axes>"
      ]
     },
     "metadata": {
      "needs_background": "light"
     },
     "output_type": "display_data"
    }
   ],
   "source": [
    "cancer[['filing_year','filing_month']].hist() # Visualize filing frequencies per year and month"
   ]
  },
  {
   "cell_type": "markdown",
   "metadata": {},
   "source": [
    "<br>We shall work with a subset of data to maintain a low computational burden, and only process titles (patent text downloads are available in USPTO's main repositories) for the same purpose. This data can be downloaded [here](https://www.uspto.gov/learning-and-resources/electronic-data-products/cancer-moonshot-patent-data). \n",
    "\n",
    "In case you were interested to fully replicate Kelly et al (2019)'s paper, you may need customized web crawlers that scrape data from [USPTO's Open Data Portal](https://developer.uspto.gov/). A good, interactive tool that uses basic Python scripts can be found [here](https://github.com/mattwang44/USPTO-PatFT-Web-Crawler)."
   ]
  },
  {
   "cell_type": "code",
   "execution_count": 45,
   "metadata": {},
   "outputs": [
    {
     "name": "stdout",
     "output_type": "stream",
     "text": [
      "(43298, 16)\n"
     ]
    }
   ],
   "source": [
    "# Select subset of data\n",
    "cancer_pre2000 = cancer.loc[(cancer['filing_year']> 1970)&(cancer['filing_year']<= 2000)] #Patents before 2000\n",
    "print(cancer_pre2000.shape)"
   ]
  },
  {
   "cell_type": "code",
   "execution_count": 46,
   "metadata": {},
   "outputs": [
    {
     "data": {
      "text/html": [
       "<div>\n",
       "<style scoped>\n",
       "    .dataframe tbody tr th:only-of-type {\n",
       "        vertical-align: middle;\n",
       "    }\n",
       "\n",
       "    .dataframe tbody tr th {\n",
       "        vertical-align: top;\n",
       "    }\n",
       "\n",
       "    .dataframe thead th {\n",
       "        text-align: right;\n",
       "    }\n",
       "</style>\n",
       "<table border=\"1\" class=\"dataframe\">\n",
       "  <thead>\n",
       "    <tr style=\"text-align: right;\">\n",
       "      <th></th>\n",
       "      <th>patent_id</th>\n",
       "      <th>app_nb</th>\n",
       "      <th>filing_date</th>\n",
       "      <th>publi_date</th>\n",
       "      <th>title</th>\n",
       "      <th>Drugs_and_Chemistry</th>\n",
       "      <th>Diagnostic_and_Surgical_Devices</th>\n",
       "      <th>Radiation_Measurement</th>\n",
       "      <th>Data_Science</th>\n",
       "      <th>Food_and_Nutrition</th>\n",
       "      <th>Model_Systems_and_Animals</th>\n",
       "      <th>Cells_and_Enzymes</th>\n",
       "      <th>Other_and_Preclassification</th>\n",
       "      <th>DNA_RNA_or_Protein_Sequence</th>\n",
       "      <th>filing_year</th>\n",
       "      <th>filing_month</th>\n",
       "    </tr>\n",
       "  </thead>\n",
       "  <tbody>\n",
       "    <tr>\n",
       "      <th>29958</th>\n",
       "      <td>US 3717710 A</td>\n",
       "      <td>05/110750</td>\n",
       "      <td>1971-01-28</td>\n",
       "      <td>19730220</td>\n",
       "      <td>INDICINE-N-OXIDE AS AN ANTITUMOR AND ANTILEUKE...</td>\n",
       "      <td>1</td>\n",
       "      <td>0</td>\n",
       "      <td>0</td>\n",
       "      <td>0</td>\n",
       "      <td>0</td>\n",
       "      <td>0</td>\n",
       "      <td>0</td>\n",
       "      <td>0</td>\n",
       "      <td>0</td>\n",
       "      <td>1971</td>\n",
       "      <td>1</td>\n",
       "    </tr>\n",
       "    <tr>\n",
       "      <th>30184</th>\n",
       "      <td>US 3755086 A</td>\n",
       "      <td>05/114059</td>\n",
       "      <td>1971-02-09</td>\n",
       "      <td>19730828</td>\n",
       "      <td>DIAGNOSTIC METHOD UTILIZING SYNTHETIC DEOXYRIL...</td>\n",
       "      <td>0</td>\n",
       "      <td>1</td>\n",
       "      <td>0</td>\n",
       "      <td>0</td>\n",
       "      <td>0</td>\n",
       "      <td>0</td>\n",
       "      <td>0</td>\n",
       "      <td>0</td>\n",
       "      <td>0</td>\n",
       "      <td>1971</td>\n",
       "      <td>2</td>\n",
       "    </tr>\n",
       "    <tr>\n",
       "      <th>1658</th>\n",
       "      <td>US 3817980 A</td>\n",
       "      <td>05/123836</td>\n",
       "      <td>1971-03-12</td>\n",
       "      <td>19740618</td>\n",
       "      <td>5-AZAPYRIMIDINE NUCLEOSIDES</td>\n",
       "      <td>1</td>\n",
       "      <td>0</td>\n",
       "      <td>0</td>\n",
       "      <td>0</td>\n",
       "      <td>0</td>\n",
       "      <td>0</td>\n",
       "      <td>0</td>\n",
       "      <td>0</td>\n",
       "      <td>0</td>\n",
       "      <td>1971</td>\n",
       "      <td>3</td>\n",
       "    </tr>\n",
       "    <tr>\n",
       "      <th>31420</th>\n",
       "      <td>US 3764215 A</td>\n",
       "      <td>05/132317</td>\n",
       "      <td>1971-04-08</td>\n",
       "      <td>19731009</td>\n",
       "      <td>APPARATUS AND METHOD FOR PROCESSING FLEXIBLE M...</td>\n",
       "      <td>0</td>\n",
       "      <td>1</td>\n",
       "      <td>0</td>\n",
       "      <td>0</td>\n",
       "      <td>0</td>\n",
       "      <td>0</td>\n",
       "      <td>0</td>\n",
       "      <td>0</td>\n",
       "      <td>0</td>\n",
       "      <td>1971</td>\n",
       "      <td>4</td>\n",
       "    </tr>\n",
       "    <tr>\n",
       "      <th>86438</th>\n",
       "      <td>US 3697638 A</td>\n",
       "      <td>05/133404</td>\n",
       "      <td>1971-04-12</td>\n",
       "      <td>19721010</td>\n",
       "      <td>ANTIGENS</td>\n",
       "      <td>1</td>\n",
       "      <td>1</td>\n",
       "      <td>0</td>\n",
       "      <td>0</td>\n",
       "      <td>0</td>\n",
       "      <td>0</td>\n",
       "      <td>0</td>\n",
       "      <td>0</td>\n",
       "      <td>0</td>\n",
       "      <td>1971</td>\n",
       "      <td>4</td>\n",
       "    </tr>\n",
       "  </tbody>\n",
       "</table>\n",
       "</div>"
      ],
      "text/plain": [
       "          patent_id     app_nb filing_date  publi_date  \\\n",
       "29958  US 3717710 A  05/110750  1971-01-28    19730220   \n",
       "30184  US 3755086 A  05/114059  1971-02-09    19730828   \n",
       "1658   US 3817980 A  05/123836  1971-03-12    19740618   \n",
       "31420  US 3764215 A  05/132317  1971-04-08    19731009   \n",
       "86438  US 3697638 A  05/133404  1971-04-12    19721010   \n",
       "\n",
       "                                                   title  Drugs_and_Chemistry  \\\n",
       "29958  INDICINE-N-OXIDE AS AN ANTITUMOR AND ANTILEUKE...                    1   \n",
       "30184  DIAGNOSTIC METHOD UTILIZING SYNTHETIC DEOXYRIL...                    0   \n",
       "1658                         5-AZAPYRIMIDINE NUCLEOSIDES                    1   \n",
       "31420  APPARATUS AND METHOD FOR PROCESSING FLEXIBLE M...                    0   \n",
       "86438                                           ANTIGENS                    1   \n",
       "\n",
       "       Diagnostic_and_Surgical_Devices  Radiation_Measurement  Data_Science  \\\n",
       "29958                                0                      0             0   \n",
       "30184                                1                      0             0   \n",
       "1658                                 0                      0             0   \n",
       "31420                                1                      0             0   \n",
       "86438                                1                      0             0   \n",
       "\n",
       "       Food_and_Nutrition  Model_Systems_and_Animals  Cells_and_Enzymes  \\\n",
       "29958                   0                          0                  0   \n",
       "30184                   0                          0                  0   \n",
       "1658                    0                          0                  0   \n",
       "31420                   0                          0                  0   \n",
       "86438                   0                          0                  0   \n",
       "\n",
       "       Other_and_Preclassification  DNA_RNA_or_Protein_Sequence  filing_year  \\\n",
       "29958                            0                            0         1971   \n",
       "30184                            0                            0         1971   \n",
       "1658                             0                            0         1971   \n",
       "31420                            0                            0         1971   \n",
       "86438                            0                            0         1971   \n",
       "\n",
       "       filing_month  \n",
       "29958             1  \n",
       "30184             2  \n",
       "1658              3  \n",
       "31420             4  \n",
       "86438             4  "
      ]
     },
     "execution_count": 46,
     "metadata": {},
     "output_type": "execute_result"
    }
   ],
   "source": [
    "# Sort chronologically\n",
    "cancer_pre2000 = cancer_pre2000.sort_values('filing_date')\n",
    "\n",
    "# Inspect the first few entries\n",
    "cancer_pre2000.head()"
   ]
  },
  {
   "cell_type": "markdown",
   "metadata": {},
   "source": [
    "## Text Preprocessing"
   ]
  },
  {
   "cell_type": "code",
   "execution_count": 47,
   "metadata": {},
   "outputs": [
    {
     "name": "stdout",
     "output_type": "stream",
     "text": [
      "(43298, 16)\n",
      "(43298, 16)\n"
     ]
    }
   ],
   "source": [
    "# Do some quick text cleaning\n",
    "no_text = ['TITLE NOT AVAILABLE', 'TITLE AVAILABLE IN USOCR DATABASE'] # Goal is to drop rows with such occurrences in the title\n",
    "print(cancer_pre2000.shape)\n",
    "cancer_pre2000 = cancer_pre2000[~cancer_pre2000['title'].isin(no_text)] #No such title before 2000\n",
    "print(cancer_pre2000.shape)"
   ]
  },
  {
   "cell_type": "code",
   "execution_count": 48,
   "metadata": {},
   "outputs": [
    {
     "name": "stdout",
     "output_type": "stream",
     "text": [
      "<class 'frozenset'>\n",
      "337\n",
      "<class 'list'>\n",
      "337\n",
      "179\n",
      "390\n"
     ]
    }
   ],
   "source": [
    "# Create a list of stopwords: combine the GENSIM and NLTK stopwords\n",
    "# Gensim\n",
    "gensim_sws = gensim.parsing.preprocessing.STOPWORDS\n",
    "print(type(gensim_sws))\n",
    "print(len(gensim_sws))\n",
    "\n",
    "gensim_sws_list = list(gensim_sws)\n",
    "print(type(gensim_sws_list))\n",
    "print(len(gensim_sws_list))\n",
    "\n",
    "# NLTK\n",
    "from nltk.corpus import stopwords\n",
    "nltk_stop_words = stopwords.words('english') #Load the list of English stopwords from NLTK\n",
    "print(len(nltk_stop_words))\n",
    "\n",
    "stop_words = list(set(gensim_sws_list + nltk_stop_words)) #Concatenate the two stop word lists\n",
    "print(len(stop_words))"
   ]
  },
  {
   "cell_type": "code",
   "execution_count": 49,
   "metadata": {},
   "outputs": [],
   "source": [
    "# Additional pre-processing steps\n",
    "remove_punct = str.maketrans('','','!\"#$%&\\'()*+,-./:;<=>?@[\\\\]^_`{|}~“”’')\n",
    "stemmer      = SnowballStemmer('english')"
   ]
  },
  {
   "cell_type": "code",
   "execution_count": 50,
   "metadata": {},
   "outputs": [],
   "source": [
    "# Pre-processing function\n",
    "def normalize_text(doc):\n",
    "    \"\"\"Takes documents as input and outputs clean tokens\"\"\"\n",
    "    \n",
    "    lower      = doc.lower()                                             # all lower case\n",
    "    nopunc     = lower.translate(remove_punct)                           # remove punctuation\n",
    "    words      = nopunc.split()                                          # split into tokens\n",
    "    nostop     = [w for w in words if w not in stop_words]               # remove stopwords\n",
    "    no_numbers = [w if not w.isdigit() else '' for w in nostop]          # remove numbers\n",
    "    stem_text  = [stemmer.stem(w) for w in no_numbers]                   # stem each word\n",
    "    text_clean = \" \".join(stem_text)\n",
    "    \n",
    "    return text_clean"
   ]
  },
  {
   "cell_type": "code",
   "execution_count": 51,
   "metadata": {
    "scrolled": true
   },
   "outputs": [
    {
     "name": "stderr",
     "output_type": "stream",
     "text": [
      "100%|██████████████████████████████████████████████████████████████████████████| 43298/43298 [00:07<00:00, 5670.95it/s]\n"
     ]
    }
   ],
   "source": [
    "# Pass all statements through the pre-processing function\n",
    "patents = []                                                             # Create list to feed\n",
    "\n",
    "for x in tqdm(cancer_pre2000['title']):                                 # Iterate over each speech\n",
    "    \n",
    "    raw_wip = normalize_text(x)                                          # Call in normalize_text function on doc\n",
    "    patents.append(raw_wip)                                              # Append to list\n",
    "    \n",
    "cancer_pre2000[\"title_clean\"] = patents"
   ]
  },
  {
   "cell_type": "code",
   "execution_count": 52,
   "metadata": {},
   "outputs": [
    {
     "data": {
      "text/html": [
       "<div>\n",
       "<style scoped>\n",
       "    .dataframe tbody tr th:only-of-type {\n",
       "        vertical-align: middle;\n",
       "    }\n",
       "\n",
       "    .dataframe tbody tr th {\n",
       "        vertical-align: top;\n",
       "    }\n",
       "\n",
       "    .dataframe thead th {\n",
       "        text-align: right;\n",
       "    }\n",
       "</style>\n",
       "<table border=\"1\" class=\"dataframe\">\n",
       "  <thead>\n",
       "    <tr style=\"text-align: right;\">\n",
       "      <th></th>\n",
       "      <th>patent_id</th>\n",
       "      <th>title</th>\n",
       "      <th>title_clean</th>\n",
       "      <th>filing_date</th>\n",
       "      <th>app_nb</th>\n",
       "      <th>publi_date</th>\n",
       "      <th>Drugs_and_Chemistry</th>\n",
       "      <th>Diagnostic_and_Surgical_Devices</th>\n",
       "      <th>Radiation_Measurement</th>\n",
       "      <th>Data_Science</th>\n",
       "      <th>Food_and_Nutrition</th>\n",
       "      <th>Model_Systems_and_Animals</th>\n",
       "      <th>Cells_and_Enzymes</th>\n",
       "      <th>Other_and_Preclassification</th>\n",
       "      <th>DNA_RNA_or_Protein_Sequence</th>\n",
       "      <th>filing_year</th>\n",
       "      <th>filing_month</th>\n",
       "    </tr>\n",
       "  </thead>\n",
       "  <tbody>\n",
       "    <tr>\n",
       "      <th>29958</th>\n",
       "      <td>US 3717710 A</td>\n",
       "      <td>INDICINE-N-OXIDE AS AN ANTITUMOR AND ANTILEUKE...</td>\n",
       "      <td>indicinenoxid antitumor antileukem agent mice rat</td>\n",
       "      <td>1971-01-28</td>\n",
       "      <td>05/110750</td>\n",
       "      <td>19730220</td>\n",
       "      <td>1</td>\n",
       "      <td>0</td>\n",
       "      <td>0</td>\n",
       "      <td>0</td>\n",
       "      <td>0</td>\n",
       "      <td>0</td>\n",
       "      <td>0</td>\n",
       "      <td>0</td>\n",
       "      <td>0</td>\n",
       "      <td>1971</td>\n",
       "      <td>1</td>\n",
       "    </tr>\n",
       "    <tr>\n",
       "      <th>30184</th>\n",
       "      <td>US 3755086 A</td>\n",
       "      <td>DIAGNOSTIC METHOD UTILIZING SYNTHETIC DEOXYRIL...</td>\n",
       "      <td>diagnost method util synthet deoxyrilionucleot...</td>\n",
       "      <td>1971-02-09</td>\n",
       "      <td>05/114059</td>\n",
       "      <td>19730828</td>\n",
       "      <td>0</td>\n",
       "      <td>1</td>\n",
       "      <td>0</td>\n",
       "      <td>0</td>\n",
       "      <td>0</td>\n",
       "      <td>0</td>\n",
       "      <td>0</td>\n",
       "      <td>0</td>\n",
       "      <td>0</td>\n",
       "      <td>1971</td>\n",
       "      <td>2</td>\n",
       "    </tr>\n",
       "    <tr>\n",
       "      <th>1658</th>\n",
       "      <td>US 3817980 A</td>\n",
       "      <td>5-AZAPYRIMIDINE NUCLEOSIDES</td>\n",
       "      <td>5azapyrimidin nucleosid</td>\n",
       "      <td>1971-03-12</td>\n",
       "      <td>05/123836</td>\n",
       "      <td>19740618</td>\n",
       "      <td>1</td>\n",
       "      <td>0</td>\n",
       "      <td>0</td>\n",
       "      <td>0</td>\n",
       "      <td>0</td>\n",
       "      <td>0</td>\n",
       "      <td>0</td>\n",
       "      <td>0</td>\n",
       "      <td>0</td>\n",
       "      <td>1971</td>\n",
       "      <td>3</td>\n",
       "    </tr>\n",
       "    <tr>\n",
       "      <th>31420</th>\n",
       "      <td>US 3764215 A</td>\n",
       "      <td>APPARATUS AND METHOD FOR PROCESSING FLEXIBLE M...</td>\n",
       "      <td>apparatus method process flexibl medic slide</td>\n",
       "      <td>1971-04-08</td>\n",
       "      <td>05/132317</td>\n",
       "      <td>19731009</td>\n",
       "      <td>0</td>\n",
       "      <td>1</td>\n",
       "      <td>0</td>\n",
       "      <td>0</td>\n",
       "      <td>0</td>\n",
       "      <td>0</td>\n",
       "      <td>0</td>\n",
       "      <td>0</td>\n",
       "      <td>0</td>\n",
       "      <td>1971</td>\n",
       "      <td>4</td>\n",
       "    </tr>\n",
       "    <tr>\n",
       "      <th>86438</th>\n",
       "      <td>US 3697638 A</td>\n",
       "      <td>ANTIGENS</td>\n",
       "      <td>antigen</td>\n",
       "      <td>1971-04-12</td>\n",
       "      <td>05/133404</td>\n",
       "      <td>19721010</td>\n",
       "      <td>1</td>\n",
       "      <td>1</td>\n",
       "      <td>0</td>\n",
       "      <td>0</td>\n",
       "      <td>0</td>\n",
       "      <td>0</td>\n",
       "      <td>0</td>\n",
       "      <td>0</td>\n",
       "      <td>0</td>\n",
       "      <td>1971</td>\n",
       "      <td>4</td>\n",
       "    </tr>\n",
       "  </tbody>\n",
       "</table>\n",
       "</div>"
      ],
      "text/plain": [
       "          patent_id                                              title  \\\n",
       "29958  US 3717710 A  INDICINE-N-OXIDE AS AN ANTITUMOR AND ANTILEUKE...   \n",
       "30184  US 3755086 A  DIAGNOSTIC METHOD UTILIZING SYNTHETIC DEOXYRIL...   \n",
       "1658   US 3817980 A                        5-AZAPYRIMIDINE NUCLEOSIDES   \n",
       "31420  US 3764215 A  APPARATUS AND METHOD FOR PROCESSING FLEXIBLE M...   \n",
       "86438  US 3697638 A                                           ANTIGENS   \n",
       "\n",
       "                                             title_clean filing_date  \\\n",
       "29958  indicinenoxid antitumor antileukem agent mice rat  1971-01-28   \n",
       "30184  diagnost method util synthet deoxyrilionucleot...  1971-02-09   \n",
       "1658                             5azapyrimidin nucleosid  1971-03-12   \n",
       "31420       apparatus method process flexibl medic slide  1971-04-08   \n",
       "86438                                            antigen  1971-04-12   \n",
       "\n",
       "          app_nb  publi_date  Drugs_and_Chemistry  \\\n",
       "29958  05/110750    19730220                    1   \n",
       "30184  05/114059    19730828                    0   \n",
       "1658   05/123836    19740618                    1   \n",
       "31420  05/132317    19731009                    0   \n",
       "86438  05/133404    19721010                    1   \n",
       "\n",
       "       Diagnostic_and_Surgical_Devices  Radiation_Measurement  Data_Science  \\\n",
       "29958                                0                      0             0   \n",
       "30184                                1                      0             0   \n",
       "1658                                 0                      0             0   \n",
       "31420                                1                      0             0   \n",
       "86438                                1                      0             0   \n",
       "\n",
       "       Food_and_Nutrition  Model_Systems_and_Animals  Cells_and_Enzymes  \\\n",
       "29958                   0                          0                  0   \n",
       "30184                   0                          0                  0   \n",
       "1658                    0                          0                  0   \n",
       "31420                   0                          0                  0   \n",
       "86438                   0                          0                  0   \n",
       "\n",
       "       Other_and_Preclassification  DNA_RNA_or_Protein_Sequence  filing_year  \\\n",
       "29958                            0                            0         1971   \n",
       "30184                            0                            0         1971   \n",
       "1658                             0                            0         1971   \n",
       "31420                            0                            0         1971   \n",
       "86438                            0                            0         1971   \n",
       "\n",
       "       filing_month  \n",
       "29958             1  \n",
       "30184             2  \n",
       "1658              3  \n",
       "31420             4  \n",
       "86438             4  "
      ]
     },
     "execution_count": 52,
     "metadata": {},
     "output_type": "execute_result"
    }
   ],
   "source": [
    "# Rearrange column order\n",
    "order = ['patent_id','title','title_clean','filing_date']\n",
    "cancer_pre2000 = cancer_pre2000[order + cancer_pre2000.columns.drop(order).tolist()]\n",
    "\n",
    "# Display handful of observations\n",
    "cancer_pre2000.head()"
   ]
  },
  {
   "cell_type": "markdown",
   "metadata": {},
   "source": [
    "## Term-Document Matrix\n",
    "\n",
    "This section reproduces Appendix Table A1 using the subset of data and text. "
   ]
  },
  {
   "cell_type": "code",
   "execution_count": 53,
   "metadata": {},
   "outputs": [
    {
     "name": "stdout",
     "output_type": "stream",
     "text": [
      "(43298, 21041)\n",
      "0    41398\n",
      "1     1848\n",
      "2       49\n",
      "3        2\n",
      "4        1\n",
      "Name: cancer, dtype: int64\n"
     ]
    },
    {
     "data": {
      "text/html": [
       "<div>\n",
       "<style scoped>\n",
       "    .dataframe tbody tr th:only-of-type {\n",
       "        vertical-align: middle;\n",
       "    }\n",
       "\n",
       "    .dataframe tbody tr th {\n",
       "        vertical-align: top;\n",
       "    }\n",
       "\n",
       "    .dataframe thead th {\n",
       "        text-align: right;\n",
       "    }\n",
       "</style>\n",
       "<table border=\"1\" class=\"dataframe\">\n",
       "  <thead>\n",
       "    <tr style=\"text-align: right;\">\n",
       "      <th></th>\n",
       "      <th>0089d</th>\n",
       "      <th>0157h7</th>\n",
       "      <th>026h11</th>\n",
       "      <th>0406tp1</th>\n",
       "      <th>06benzylguanin</th>\n",
       "      <th>06guanin</th>\n",
       "      <th>09007761method</th>\n",
       "      <th>0916bp</th>\n",
       "      <th>0hydroxyethyl</th>\n",
       "      <th>0r</th>\n",
       "      <th>...</th>\n",
       "      <th>zsmf16</th>\n",
       "      <th>zspecif</th>\n",
       "      <th>zstyryl</th>\n",
       "      <th>ztnf4</th>\n",
       "      <th>zvegf3</th>\n",
       "      <th>zvegf4</th>\n",
       "      <th>zven1</th>\n",
       "      <th>zwitterion</th>\n",
       "      <th>zygophyllacea</th>\n",
       "      <th>zymogen</th>\n",
       "    </tr>\n",
       "  </thead>\n",
       "  <tbody>\n",
       "    <tr>\n",
       "      <th>0</th>\n",
       "      <td>0</td>\n",
       "      <td>0</td>\n",
       "      <td>0</td>\n",
       "      <td>0</td>\n",
       "      <td>0</td>\n",
       "      <td>0</td>\n",
       "      <td>0</td>\n",
       "      <td>0</td>\n",
       "      <td>0</td>\n",
       "      <td>0</td>\n",
       "      <td>...</td>\n",
       "      <td>0</td>\n",
       "      <td>0</td>\n",
       "      <td>0</td>\n",
       "      <td>0</td>\n",
       "      <td>0</td>\n",
       "      <td>0</td>\n",
       "      <td>0</td>\n",
       "      <td>0</td>\n",
       "      <td>0</td>\n",
       "      <td>0</td>\n",
       "    </tr>\n",
       "    <tr>\n",
       "      <th>1</th>\n",
       "      <td>0</td>\n",
       "      <td>0</td>\n",
       "      <td>0</td>\n",
       "      <td>0</td>\n",
       "      <td>0</td>\n",
       "      <td>0</td>\n",
       "      <td>0</td>\n",
       "      <td>0</td>\n",
       "      <td>0</td>\n",
       "      <td>0</td>\n",
       "      <td>...</td>\n",
       "      <td>0</td>\n",
       "      <td>0</td>\n",
       "      <td>0</td>\n",
       "      <td>0</td>\n",
       "      <td>0</td>\n",
       "      <td>0</td>\n",
       "      <td>0</td>\n",
       "      <td>0</td>\n",
       "      <td>0</td>\n",
       "      <td>0</td>\n",
       "    </tr>\n",
       "    <tr>\n",
       "      <th>2</th>\n",
       "      <td>0</td>\n",
       "      <td>0</td>\n",
       "      <td>0</td>\n",
       "      <td>0</td>\n",
       "      <td>0</td>\n",
       "      <td>0</td>\n",
       "      <td>0</td>\n",
       "      <td>0</td>\n",
       "      <td>0</td>\n",
       "      <td>0</td>\n",
       "      <td>...</td>\n",
       "      <td>0</td>\n",
       "      <td>0</td>\n",
       "      <td>0</td>\n",
       "      <td>0</td>\n",
       "      <td>0</td>\n",
       "      <td>0</td>\n",
       "      <td>0</td>\n",
       "      <td>0</td>\n",
       "      <td>0</td>\n",
       "      <td>0</td>\n",
       "    </tr>\n",
       "    <tr>\n",
       "      <th>3</th>\n",
       "      <td>0</td>\n",
       "      <td>0</td>\n",
       "      <td>0</td>\n",
       "      <td>0</td>\n",
       "      <td>0</td>\n",
       "      <td>0</td>\n",
       "      <td>0</td>\n",
       "      <td>0</td>\n",
       "      <td>0</td>\n",
       "      <td>0</td>\n",
       "      <td>...</td>\n",
       "      <td>0</td>\n",
       "      <td>0</td>\n",
       "      <td>0</td>\n",
       "      <td>0</td>\n",
       "      <td>0</td>\n",
       "      <td>0</td>\n",
       "      <td>0</td>\n",
       "      <td>0</td>\n",
       "      <td>0</td>\n",
       "      <td>0</td>\n",
       "    </tr>\n",
       "    <tr>\n",
       "      <th>4</th>\n",
       "      <td>0</td>\n",
       "      <td>0</td>\n",
       "      <td>0</td>\n",
       "      <td>0</td>\n",
       "      <td>0</td>\n",
       "      <td>0</td>\n",
       "      <td>0</td>\n",
       "      <td>0</td>\n",
       "      <td>0</td>\n",
       "      <td>0</td>\n",
       "      <td>...</td>\n",
       "      <td>0</td>\n",
       "      <td>0</td>\n",
       "      <td>0</td>\n",
       "      <td>0</td>\n",
       "      <td>0</td>\n",
       "      <td>0</td>\n",
       "      <td>0</td>\n",
       "      <td>0</td>\n",
       "      <td>0</td>\n",
       "      <td>0</td>\n",
       "    </tr>\n",
       "  </tbody>\n",
       "</table>\n",
       "<p>5 rows × 21041 columns</p>\n",
       "</div>"
      ],
      "text/plain": [
       "   0089d  0157h7  026h11  0406tp1  06benzylguanin  06guanin  09007761method  \\\n",
       "0      0       0       0        0               0         0               0   \n",
       "1      0       0       0        0               0         0               0   \n",
       "2      0       0       0        0               0         0               0   \n",
       "3      0       0       0        0               0         0               0   \n",
       "4      0       0       0        0               0         0               0   \n",
       "\n",
       "   0916bp  0hydroxyethyl  0r  ...  zsmf16  zspecif  zstyryl  ztnf4  zvegf3  \\\n",
       "0       0              0   0  ...       0        0        0      0       0   \n",
       "1       0              0   0  ...       0        0        0      0       0   \n",
       "2       0              0   0  ...       0        0        0      0       0   \n",
       "3       0              0   0  ...       0        0        0      0       0   \n",
       "4       0              0   0  ...       0        0        0      0       0   \n",
       "\n",
       "   zvegf4  zven1  zwitterion  zygophyllacea  zymogen  \n",
       "0       0      0           0              0        0  \n",
       "1       0      0           0              0        0  \n",
       "2       0      0           0              0        0  \n",
       "3       0      0           0              0        0  \n",
       "4       0      0           0              0        0  \n",
       "\n",
       "[5 rows x 21041 columns]"
      ]
     },
     "execution_count": 53,
     "metadata": {},
     "output_type": "execute_result"
    }
   ],
   "source": [
    "# Create the Term-Document Matrix with sklearn's CountVectorizer\n",
    "from sklearn.feature_extraction.text import CountVectorizer\n",
    "\n",
    "vec = CountVectorizer() # The simplest CountVectorizer() constructor. \n",
    "X = vec.fit_transform(list(cancer_pre2000['title_clean']))\n",
    "tdm = pd.DataFrame(X.toarray(), columns=vec.get_feature_names()) # Note that individual steps performed in the first class are here combined in a single line. toarray() and todense() are interchangable here\n",
    "print(tdm.shape)\n",
    "\n",
    "print(tdm['cancer'].value_counts()) #Number of patent titles that contain a given number of mentions of the word \"cancer\"\n",
    "\n",
    "tdm.head()"
   ]
  },
  {
   "cell_type": "markdown",
   "metadata": {},
   "source": [
    "__Exercise__: Try increasing the parameters you pass here, as done in the first class. \n",
    "- For example, try stemming words so that acid and acids are not treated as separate terms."
   ]
  },
  {
   "cell_type": "code",
   "execution_count": 54,
   "metadata": {},
   "outputs": [
    {
     "ename": "MemoryError",
     "evalue": "Unable to allocate 6.79 GiB for an array with shape (21041, 43298) and data type int64",
     "output_type": "error",
     "traceback": [
      "\u001b[1;31m---------------------------------------------------------------------------\u001b[0m",
      "\u001b[1;31mMemoryError\u001b[0m                               Traceback (most recent call last)",
      "\u001b[1;32m<ipython-input-54-43e133a1208c>\u001b[0m in \u001b[0;36m<module>\u001b[1;34m\u001b[0m\n\u001b[0;32m      1\u001b[0m \u001b[1;31m#Try to compute the number of unique patents each word appears in (distribution of document terms across patents)\u001b[0m\u001b[1;33m\u001b[0m\u001b[1;33m\u001b[0m\u001b[1;33m\u001b[0m\u001b[0m\n\u001b[1;32m----> 2\u001b[1;33m \u001b[0mtdmc\u001b[0m \u001b[1;33m=\u001b[0m \u001b[0mtdm\u001b[0m\u001b[1;33m.\u001b[0m\u001b[0mcopy\u001b[0m\u001b[1;33m(\u001b[0m\u001b[1;33m)\u001b[0m\u001b[1;33m\u001b[0m\u001b[1;33m\u001b[0m\u001b[0m\n\u001b[0m\u001b[0;32m      3\u001b[0m \u001b[0mtdmc\u001b[0m \u001b[1;33m=\u001b[0m \u001b[0mnp\u001b[0m\u001b[1;33m.\u001b[0m\u001b[0mwhere\u001b[0m\u001b[1;33m(\u001b[0m\u001b[0mtdmc\u001b[0m \u001b[1;33m>=\u001b[0m \u001b[1;36m1\u001b[0m\u001b[1;33m,\u001b[0m \u001b[1;36m1\u001b[0m\u001b[1;33m,\u001b[0m \u001b[1;36m0\u001b[0m\u001b[1;33m)\u001b[0m \u001b[1;31m#If a word appears more than once in a patent normalize this count to 1 (we want to count nb of unique patents a word appears in)\u001b[0m\u001b[1;33m\u001b[0m\u001b[1;33m\u001b[0m\u001b[0m\n\u001b[0;32m      4\u001b[0m \u001b[0mtdmc\u001b[0m \u001b[1;33m=\u001b[0m \u001b[0mpd\u001b[0m\u001b[1;33m.\u001b[0m\u001b[0mDataFrame\u001b[0m\u001b[1;33m(\u001b[0m\u001b[0mtdmc\u001b[0m\u001b[1;33m,\u001b[0m \u001b[0mcolumns\u001b[0m\u001b[1;33m=\u001b[0m\u001b[0mvec\u001b[0m\u001b[1;33m.\u001b[0m\u001b[0mget_feature_names\u001b[0m\u001b[1;33m(\u001b[0m\u001b[1;33m)\u001b[0m\u001b[1;33m)\u001b[0m\u001b[1;33m\u001b[0m\u001b[1;33m\u001b[0m\u001b[0m\n\u001b[0;32m      5\u001b[0m \u001b[0mprint\u001b[0m\u001b[1;33m(\u001b[0m\u001b[0mtdmc\u001b[0m\u001b[1;33m[\u001b[0m\u001b[1;34m'cancer'\u001b[0m\u001b[1;33m]\u001b[0m\u001b[1;33m.\u001b[0m\u001b[0mvalue_counts\u001b[0m\u001b[1;33m(\u001b[0m\u001b[1;33m)\u001b[0m\u001b[1;33m)\u001b[0m \u001b[1;31m#Check how many documents mention the word \"cancer\"\u001b[0m\u001b[1;33m\u001b[0m\u001b[1;33m\u001b[0m\u001b[0m\n",
      "\u001b[1;32m~\\Anaconda3\\lib\\site-packages\\pandas\\core\\generic.py\u001b[0m in \u001b[0;36mcopy\u001b[1;34m(self, deep)\u001b[0m\n\u001b[0;32m   5661\u001b[0m         \u001b[0mdtype\u001b[0m\u001b[1;33m:\u001b[0m \u001b[0mobject\u001b[0m\u001b[1;33m\u001b[0m\u001b[1;33m\u001b[0m\u001b[0m\n\u001b[0;32m   5662\u001b[0m         \"\"\"\n\u001b[1;32m-> 5663\u001b[1;33m         \u001b[0mdata\u001b[0m \u001b[1;33m=\u001b[0m \u001b[0mself\u001b[0m\u001b[1;33m.\u001b[0m\u001b[0m_mgr\u001b[0m\u001b[1;33m.\u001b[0m\u001b[0mcopy\u001b[0m\u001b[1;33m(\u001b[0m\u001b[0mdeep\u001b[0m\u001b[1;33m=\u001b[0m\u001b[0mdeep\u001b[0m\u001b[1;33m)\u001b[0m\u001b[1;33m\u001b[0m\u001b[1;33m\u001b[0m\u001b[0m\n\u001b[0m\u001b[0;32m   5664\u001b[0m         \u001b[0mself\u001b[0m\u001b[1;33m.\u001b[0m\u001b[0m_clear_item_cache\u001b[0m\u001b[1;33m(\u001b[0m\u001b[1;33m)\u001b[0m\u001b[1;33m\u001b[0m\u001b[1;33m\u001b[0m\u001b[0m\n\u001b[0;32m   5665\u001b[0m         \u001b[1;32mreturn\u001b[0m \u001b[0mself\u001b[0m\u001b[1;33m.\u001b[0m\u001b[0m_constructor\u001b[0m\u001b[1;33m(\u001b[0m\u001b[0mdata\u001b[0m\u001b[1;33m)\u001b[0m\u001b[1;33m.\u001b[0m\u001b[0m__finalize__\u001b[0m\u001b[1;33m(\u001b[0m\u001b[0mself\u001b[0m\u001b[1;33m,\u001b[0m \u001b[0mmethod\u001b[0m\u001b[1;33m=\u001b[0m\u001b[1;34m\"copy\"\u001b[0m\u001b[1;33m)\u001b[0m\u001b[1;33m\u001b[0m\u001b[1;33m\u001b[0m\u001b[0m\n",
      "\u001b[1;32m~\\Anaconda3\\lib\\site-packages\\pandas\\core\\internals\\managers.py\u001b[0m in \u001b[0;36mcopy\u001b[1;34m(self, deep)\u001b[0m\n\u001b[0;32m    800\u001b[0m             \u001b[0mnew_axes\u001b[0m \u001b[1;33m=\u001b[0m \u001b[0mlist\u001b[0m\u001b[1;33m(\u001b[0m\u001b[0mself\u001b[0m\u001b[1;33m.\u001b[0m\u001b[0maxes\u001b[0m\u001b[1;33m)\u001b[0m\u001b[1;33m\u001b[0m\u001b[1;33m\u001b[0m\u001b[0m\n\u001b[0;32m    801\u001b[0m \u001b[1;33m\u001b[0m\u001b[0m\n\u001b[1;32m--> 802\u001b[1;33m         \u001b[0mres\u001b[0m \u001b[1;33m=\u001b[0m \u001b[0mself\u001b[0m\u001b[1;33m.\u001b[0m\u001b[0mapply\u001b[0m\u001b[1;33m(\u001b[0m\u001b[1;34m\"copy\"\u001b[0m\u001b[1;33m,\u001b[0m \u001b[0mdeep\u001b[0m\u001b[1;33m=\u001b[0m\u001b[0mdeep\u001b[0m\u001b[1;33m)\u001b[0m\u001b[1;33m\u001b[0m\u001b[1;33m\u001b[0m\u001b[0m\n\u001b[0m\u001b[0;32m    803\u001b[0m         \u001b[0mres\u001b[0m\u001b[1;33m.\u001b[0m\u001b[0maxes\u001b[0m \u001b[1;33m=\u001b[0m \u001b[0mnew_axes\u001b[0m\u001b[1;33m\u001b[0m\u001b[1;33m\u001b[0m\u001b[0m\n\u001b[0;32m    804\u001b[0m         \u001b[1;32mreturn\u001b[0m \u001b[0mres\u001b[0m\u001b[1;33m\u001b[0m\u001b[1;33m\u001b[0m\u001b[0m\n",
      "\u001b[1;32m~\\Anaconda3\\lib\\site-packages\\pandas\\core\\internals\\managers.py\u001b[0m in \u001b[0;36mapply\u001b[1;34m(self, f, align_keys, **kwargs)\u001b[0m\n\u001b[0;32m    404\u001b[0m                 \u001b[0mapplied\u001b[0m \u001b[1;33m=\u001b[0m \u001b[0mb\u001b[0m\u001b[1;33m.\u001b[0m\u001b[0mapply\u001b[0m\u001b[1;33m(\u001b[0m\u001b[0mf\u001b[0m\u001b[1;33m,\u001b[0m \u001b[1;33m**\u001b[0m\u001b[0mkwargs\u001b[0m\u001b[1;33m)\u001b[0m\u001b[1;33m\u001b[0m\u001b[1;33m\u001b[0m\u001b[0m\n\u001b[0;32m    405\u001b[0m             \u001b[1;32melse\u001b[0m\u001b[1;33m:\u001b[0m\u001b[1;33m\u001b[0m\u001b[1;33m\u001b[0m\u001b[0m\n\u001b[1;32m--> 406\u001b[1;33m                 \u001b[0mapplied\u001b[0m \u001b[1;33m=\u001b[0m \u001b[0mgetattr\u001b[0m\u001b[1;33m(\u001b[0m\u001b[0mb\u001b[0m\u001b[1;33m,\u001b[0m \u001b[0mf\u001b[0m\u001b[1;33m)\u001b[0m\u001b[1;33m(\u001b[0m\u001b[1;33m**\u001b[0m\u001b[0mkwargs\u001b[0m\u001b[1;33m)\u001b[0m\u001b[1;33m\u001b[0m\u001b[1;33m\u001b[0m\u001b[0m\n\u001b[0m\u001b[0;32m    407\u001b[0m             \u001b[0mresult_blocks\u001b[0m \u001b[1;33m=\u001b[0m \u001b[0m_extend_blocks\u001b[0m\u001b[1;33m(\u001b[0m\u001b[0mapplied\u001b[0m\u001b[1;33m,\u001b[0m \u001b[0mresult_blocks\u001b[0m\u001b[1;33m)\u001b[0m\u001b[1;33m\u001b[0m\u001b[1;33m\u001b[0m\u001b[0m\n\u001b[0;32m    408\u001b[0m \u001b[1;33m\u001b[0m\u001b[0m\n",
      "\u001b[1;32m~\\Anaconda3\\lib\\site-packages\\pandas\\core\\internals\\blocks.py\u001b[0m in \u001b[0;36mcopy\u001b[1;34m(self, deep)\u001b[0m\n\u001b[0;32m    677\u001b[0m         \u001b[0mvalues\u001b[0m \u001b[1;33m=\u001b[0m \u001b[0mself\u001b[0m\u001b[1;33m.\u001b[0m\u001b[0mvalues\u001b[0m\u001b[1;33m\u001b[0m\u001b[1;33m\u001b[0m\u001b[0m\n\u001b[0;32m    678\u001b[0m         \u001b[1;32mif\u001b[0m \u001b[0mdeep\u001b[0m\u001b[1;33m:\u001b[0m\u001b[1;33m\u001b[0m\u001b[1;33m\u001b[0m\u001b[0m\n\u001b[1;32m--> 679\u001b[1;33m             \u001b[0mvalues\u001b[0m \u001b[1;33m=\u001b[0m \u001b[0mvalues\u001b[0m\u001b[1;33m.\u001b[0m\u001b[0mcopy\u001b[0m\u001b[1;33m(\u001b[0m\u001b[1;33m)\u001b[0m\u001b[1;33m\u001b[0m\u001b[1;33m\u001b[0m\u001b[0m\n\u001b[0m\u001b[0;32m    680\u001b[0m         \u001b[1;32mreturn\u001b[0m \u001b[0mself\u001b[0m\u001b[1;33m.\u001b[0m\u001b[0mmake_block_same_class\u001b[0m\u001b[1;33m(\u001b[0m\u001b[0mvalues\u001b[0m\u001b[1;33m,\u001b[0m \u001b[0mndim\u001b[0m\u001b[1;33m=\u001b[0m\u001b[0mself\u001b[0m\u001b[1;33m.\u001b[0m\u001b[0mndim\u001b[0m\u001b[1;33m)\u001b[0m\u001b[1;33m\u001b[0m\u001b[1;33m\u001b[0m\u001b[0m\n\u001b[0;32m    681\u001b[0m \u001b[1;33m\u001b[0m\u001b[0m\n",
      "\u001b[1;31mMemoryError\u001b[0m: Unable to allocate 6.79 GiB for an array with shape (21041, 43298) and data type int64"
     ]
    }
   ],
   "source": [
    "#Try to compute the number of unique patents each word appears in (distribution of document terms across patents)\n",
    "tdmc = tdm.copy()\n",
    "tdmc = np.where(tdmc >= 1, 1, 0) #If a word appears more than once in a patent normalize this count to 1 (we want to count nb of unique patents a word appears in)\n",
    "tdmc = pd.DataFrame(tdmc, columns=vec.get_feature_names())\n",
    "print(tdmc['cancer'].value_counts()) #Check how many documents mention the word \"cancer\"\n",
    "print(tdmc.shape)\n",
    "tdmc.head()"
   ]
  },
  {
   "cell_type": "code",
   "execution_count": 23,
   "metadata": {
    "scrolled": true
   },
   "outputs": [
    {
     "name": "stdout",
     "output_type": "stream",
     "text": [
      "count    2444.000000\n",
      "mean        3.663257\n",
      "std        15.685821\n",
      "min         1.000000\n",
      "25%         1.000000\n",
      "50%         1.000000\n",
      "75%         2.000000\n",
      "max       375.000000\n",
      "Name: Total, dtype: float64\n"
     ]
    },
    {
     "data": {
      "text/html": [
       "<div>\n",
       "<style scoped>\n",
       "    .dataframe tbody tr th:only-of-type {\n",
       "        vertical-align: middle;\n",
       "    }\n",
       "\n",
       "    .dataframe tbody tr th {\n",
       "        vertical-align: top;\n",
       "    }\n",
       "\n",
       "    .dataframe thead th {\n",
       "        text-align: right;\n",
       "    }\n",
       "</style>\n",
       "<table border=\"1\" class=\"dataframe\">\n",
       "  <thead>\n",
       "    <tr style=\"text-align: right;\">\n",
       "      <th></th>\n",
       "      <th>term</th>\n",
       "      <th>Total</th>\n",
       "    </tr>\n",
       "  </thead>\n",
       "  <tbody>\n",
       "    <tr>\n",
       "      <th>0</th>\n",
       "      <td>1111alkyliden</td>\n",
       "      <td>1</td>\n",
       "    </tr>\n",
       "    <tr>\n",
       "      <th>1</th>\n",
       "      <td>11amino11deoxydaunorubicin</td>\n",
       "      <td>1</td>\n",
       "    </tr>\n",
       "    <tr>\n",
       "      <th>2</th>\n",
       "      <td>11betafluoroandrosten</td>\n",
       "      <td>1</td>\n",
       "    </tr>\n",
       "    <tr>\n",
       "      <th>3</th>\n",
       "      <td>11betasubstitut</td>\n",
       "      <td>1</td>\n",
       "    </tr>\n",
       "    <tr>\n",
       "      <th>4</th>\n",
       "      <td>11betasubstituteddeltasup49</td>\n",
       "      <td>1</td>\n",
       "    </tr>\n",
       "  </tbody>\n",
       "</table>\n",
       "</div>"
      ],
      "text/plain": [
       "                          term  Total\n",
       "0                1111alkyliden      1\n",
       "1   11amino11deoxydaunorubicin      1\n",
       "2        11betafluoroandrosten      1\n",
       "3              11betasubstitut      1\n",
       "4  11betasubstituteddeltasup49      1"
      ]
     },
     "execution_count": 23,
     "metadata": {},
     "output_type": "execute_result"
    }
   ],
   "source": [
    "# Transpose and do sum of all rows in order to reproduce Appendix Table A1: Summary Statistics of the number of times words appear in patents\n",
    "tdmc = tdmc.transpose()\n",
    "\n",
    "tdmc['Total'] = tdmc.sum(axis=1) # Do a column-wise sum\n",
    "tdmc = tdmc[['Total']] # Keep the only vars we're interested in\n",
    "tdmc = tdmc.reset_index()\n",
    "tdmc = tdmc.rename(columns = {'index':'term'})\n",
    "print(tdmc['Total'].describe()) # Look at some descriptives (basically replicate Appendix Table A1 on the cancer data)\n",
    "tdmc.head()"
   ]
  },
  {
   "cell_type": "code",
   "execution_count": 24,
   "metadata": {
    "scrolled": true
   },
   "outputs": [
    {
     "data": {
      "text/html": [
       "<div>\n",
       "<style scoped>\n",
       "    .dataframe tbody tr th:only-of-type {\n",
       "        vertical-align: middle;\n",
       "    }\n",
       "\n",
       "    .dataframe tbody tr th {\n",
       "        vertical-align: top;\n",
       "    }\n",
       "\n",
       "    .dataframe thead th {\n",
       "        text-align: right;\n",
       "    }\n",
       "</style>\n",
       "<table border=\"1\" class=\"dataframe\">\n",
       "  <thead>\n",
       "    <tr style=\"text-align: right;\">\n",
       "      <th></th>\n",
       "      <th>term</th>\n",
       "      <th>Total</th>\n",
       "    </tr>\n",
       "  </thead>\n",
       "  <tbody>\n",
       "    <tr>\n",
       "      <th>1525</th>\n",
       "      <td>method</td>\n",
       "      <td>375</td>\n",
       "    </tr>\n",
       "    <tr>\n",
       "      <th>1902</th>\n",
       "      <td>process</td>\n",
       "      <td>322</td>\n",
       "    </tr>\n",
       "    <tr>\n",
       "      <th>1895</th>\n",
       "      <td>prepar</td>\n",
       "      <td>292</td>\n",
       "    </tr>\n",
       "    <tr>\n",
       "      <th>896</th>\n",
       "      <td>deriv</td>\n",
       "      <td>249</td>\n",
       "    </tr>\n",
       "    <tr>\n",
       "      <th>767</th>\n",
       "      <td>composit</td>\n",
       "      <td>164</td>\n",
       "    </tr>\n",
       "    <tr>\n",
       "      <th>2275</th>\n",
       "      <td>thereof</td>\n",
       "      <td>150</td>\n",
       "    </tr>\n",
       "    <tr>\n",
       "      <th>2383</th>\n",
       "      <td>use</td>\n",
       "      <td>130</td>\n",
       "    </tr>\n",
       "    <tr>\n",
       "      <th>768</th>\n",
       "      <td>compound</td>\n",
       "      <td>129</td>\n",
       "    </tr>\n",
       "    <tr>\n",
       "      <th>1904</th>\n",
       "      <td>product</td>\n",
       "      <td>108</td>\n",
       "    </tr>\n",
       "    <tr>\n",
       "      <th>289</th>\n",
       "      <td>acid</td>\n",
       "      <td>107</td>\n",
       "    </tr>\n",
       "    <tr>\n",
       "      <th>1903</th>\n",
       "      <td>produc</td>\n",
       "      <td>99</td>\n",
       "    </tr>\n",
       "    <tr>\n",
       "      <th>784</th>\n",
       "      <td>contain</td>\n",
       "      <td>89</td>\n",
       "    </tr>\n",
       "    <tr>\n",
       "      <th>1673</th>\n",
       "      <td>novel</td>\n",
       "      <td>86</td>\n",
       "    </tr>\n",
       "    <tr>\n",
       "      <th>423</th>\n",
       "      <td>antibiot</td>\n",
       "      <td>85</td>\n",
       "    </tr>\n",
       "    <tr>\n",
       "      <th>302</th>\n",
       "      <td>activ</td>\n",
       "      <td>84</td>\n",
       "    </tr>\n",
       "    <tr>\n",
       "      <th>327</th>\n",
       "      <td>agent</td>\n",
       "      <td>84</td>\n",
       "    </tr>\n",
       "    <tr>\n",
       "      <th>681</th>\n",
       "      <td>cell</td>\n",
       "      <td>76</td>\n",
       "    </tr>\n",
       "    <tr>\n",
       "      <th>2353</th>\n",
       "      <td>tumor</td>\n",
       "      <td>75</td>\n",
       "    </tr>\n",
       "    <tr>\n",
       "      <th>482</th>\n",
       "      <td>apparatus</td>\n",
       "      <td>75</td>\n",
       "    </tr>\n",
       "    <tr>\n",
       "      <th>473</th>\n",
       "      <td>antitumor</td>\n",
       "      <td>68</td>\n",
       "    </tr>\n",
       "  </tbody>\n",
       "</table>\n",
       "</div>"
      ],
      "text/plain": [
       "           term  Total\n",
       "1525     method    375\n",
       "1902    process    322\n",
       "1895     prepar    292\n",
       "896       deriv    249\n",
       "767    composit    164\n",
       "2275    thereof    150\n",
       "2383        use    130\n",
       "768    compound    129\n",
       "1904    product    108\n",
       "289        acid    107\n",
       "1903     produc     99\n",
       "784     contain     89\n",
       "1673      novel     86\n",
       "423    antibiot     85\n",
       "302       activ     84\n",
       "327       agent     84\n",
       "681        cell     76\n",
       "2353      tumor     75\n",
       "482   apparatus     75\n",
       "473   antitumor     68"
      ]
     },
     "execution_count": 24,
     "metadata": {},
     "output_type": "execute_result"
    }
   ],
   "source": [
    "# Have a look at the words that are expressed in the most patents (unique count)\n",
    "tdmc = tdmc.sort_values('Total', ascending = False)\n",
    "tdmc.head(20)"
   ]
  },
  {
   "cell_type": "markdown",
   "metadata": {},
   "source": [
    "## Compute Similarity and Quality of Patents"
   ]
  },
  {
   "cell_type": "markdown",
   "metadata": {},
   "source": [
    "### Classic TF-IDF vectors"
   ]
  },
  {
   "cell_type": "code",
   "execution_count": 25,
   "metadata": {},
   "outputs": [
    {
     "name": "stdout",
     "output_type": "stream",
     "text": [
      "<class 'scipy.sparse.csr.csr_matrix'>\n",
      "(1905, 2444)\n",
      "Sparsity ratio:  99.8077030469391\n"
     ]
    }
   ],
   "source": [
    "# Compute TF-IDF vectors for each patent\n",
    "tfidf_vectorizer = TfidfVectorizer(analyzer='word', ngram_range = (1,1))\n",
    "tf_idfs = tfidf_vectorizer.fit_transform(cancer_pre2000['title_clean'])\n",
    "print(type(tf_idfs))\n",
    "print(tf_idfs.shape) # Rows are patents, columns are words. This is a sparse matrix with lots of 0s.\n",
    "\n",
    "# Calculate sparsity ratio of the resulting TF-IDF matrix\n",
    "print('Sparsity ratio: ', 100*(1-(tf_idfs.getnnz()/(tf_idfs.shape[0]*tf_idfs.shape[1])))) # This is the sparsity ratio of the TFIDF matrix. Very sparse!"
   ]
  },
  {
   "cell_type": "markdown",
   "metadata": {},
   "source": [
    "### Pairwise Cosine Similarity"
   ]
  },
  {
   "cell_type": "code",
   "execution_count": 26,
   "metadata": {},
   "outputs": [
    {
     "name": "stdout",
     "output_type": "stream",
     "text": [
      "<class 'scipy.sparse.csr.csr_matrix'>\n",
      "(1905, 1905)\n",
      "Nb of non zero elements in pwcossim:  538811\n",
      "Sparsity ratio:  85.15273386102328\n"
     ]
    }
   ],
   "source": [
    "# Calculate pair-wise cosine similarity with sklearn's built-in cosine similarity function\n",
    "from sklearn.metrics.pairwise import cosine_similarity\n",
    "from scipy import sparse\n",
    "\n",
    "pw_cossim = cosine_similarity(tf_idfs, dense_output = False) # Option dense_output can be turned to False if we want a sparse output\n",
    "print(type(pw_cossim))\n",
    "print(pw_cossim.shape)\n",
    "\n",
    "# Get some more info on this sparse matrix\n",
    "print('Nb of non zero elements in pwcossim: ', pw_cossim.getnnz())\n",
    "print('Sparsity ratio: ', 100*(1-(pw_cossim.getnnz()/pw_cossim.shape[0]**2))) # This is the sparsity ratio of the pairwise cosine similarity matrix"
   ]
  },
  {
   "cell_type": "code",
   "execution_count": 27,
   "metadata": {},
   "outputs": [
    {
     "name": "stdout",
     "output_type": "stream",
     "text": [
      "Sparsity ratio:  89.16923967181268\n"
     ]
    }
   ],
   "source": [
    "#If similarity is below 0.05 set it to 0\n",
    "nnz_inds = pw_cossim.nonzero()\n",
    "keep = np.where(pw_cossim.data >= 0.05)[0]\n",
    "pw_cossim = csr_matrix((pw_cossim.data[keep], (nnz_inds[0][keep], nnz_inds[1][keep])), shape=pw_cossim.shape)\n",
    "\n",
    "#Calculate the new sparsity ratio after setting similarity coefficients that are below 0.05 to 0\n",
    "print('Sparsity ratio: ', 100*(1-(pw_cossim.getnnz()/pw_cossim.shape[0]**2)))"
   ]
  },
  {
   "cell_type": "code",
   "execution_count": 28,
   "metadata": {},
   "outputs": [
    {
     "name": "stdout",
     "output_type": "stream",
     "text": [
      "DescribeResult(nobs=393051, minmax=(0.05000049023724048, 1.0000000000000004), mean=0.12302278088025029, variance=0.01086955501356598, skewness=4.891649921800637, kurtosis=33.37342738460784)\n"
     ]
    }
   ],
   "source": [
    "#Get some descriptive statistics on these pairwise similarity coefficients\n",
    "print(stats.describe(pw_cossim.data))"
   ]
  },
  {
   "cell_type": "code",
   "execution_count": 29,
   "metadata": {},
   "outputs": [
    {
     "data": {
      "image/png": "[encoded data removed]",
      "text/plain": [
       "<Figure size 432x288 with 1 Axes>"
      ]
     },
     "metadata": {
      "needs_background": "light"
     },
     "output_type": "display_data"
    }
   ],
   "source": [
    "#Plot the CDF\n",
    "plt.hist(pw_cossim.data, density=True, cumulative=True, label='CDF DATA', \n",
    "         histtype='step', alpha=0.55, color='red', bins = 1000)\n",
    "plt.xlabel('Pairwise Similarity')\n",
    "plt.ylabel('Cumulative Frequency')\n",
    "plt.title('Pairwise Similarity CDF')\n",
    "plt.savefig(maindir + 'results/pairwise_simil_CDF.png')\n",
    "plt.show()"
   ]
  },
  {
   "cell_type": "markdown",
   "metadata": {},
   "source": [
    "<br>__Exercise__: Plot a similar CDF but using various time-windows (e.g. 5 years, 10 years, 20 years) as a filter for defining similarity.\n",
    " - Goal: Plot the distribution of similarity by focusing on patents that are 5/10/20 years apart.\n",
    " - tip: Use a boolean mask matrix as below to filter out pairs that are not within a certain time window.\n"
   ]
  },
  {
   "cell_type": "markdown",
   "metadata": {},
   "source": [
    "### Backward and Forward Similarity Measures"
   ]
  },
  {
   "cell_type": "code",
   "execution_count": 30,
   "metadata": {},
   "outputs": [
    {
     "name": "stdout",
     "output_type": "stream",
     "text": [
      "<class 'numpy.ndarray'>\n",
      "(1905,)\n",
      "(1905, 1905) (1905, 1905)\n",
      "<class 'scipy.sparse.csr.csr_matrix'> <class 'scipy.sparse.csr.csr_matrix'>\n",
      "<class 'numpy.matrix'> (1905, 1)\n"
     ]
    }
   ],
   "source": [
    "#Now build a backward boolean mask by using the filing date year of patents\n",
    "year_arr = cancer_pre2000['filing_year'].to_numpy() #Convert the year column to a numpy array\n",
    "print(type(year_arr))\n",
    "print(year_arr.shape)\n",
    "\n",
    "#Create the backwards mask\n",
    "mask = (year_arr[:,None] > year_arr) & (year_arr[:,None] - 5 <= year_arr) #Is True if own year is strictly higher than other years within a 5-year backward window\n",
    "print(mask.shape, pw_cossim.shape)\n",
    "\n",
    "mask = sparse.csr_matrix(mask) #Convert the mask numpy matrix to a sparse matrix\n",
    "print(type(mask), type(pw_cossim)) #Check\n",
    "\n",
    "#Apply the backward mask to the similarity matrix and then calculate column-wise sum\n",
    "bw_simil = pw_cossim.multiply(mask).sum(axis=1)\n",
    "print(type(bw_simil), bw_simil.shape)"
   ]
  },
  {
   "cell_type": "code",
   "execution_count": 31,
   "metadata": {},
   "outputs": [
    {
     "name": "stdout",
     "output_type": "stream",
     "text": [
      "<class 'numpy.matrix'> (1905, 1)\n"
     ]
    }
   ],
   "source": [
    "#Do the same for forward similarity\n",
    "#Create the forward mask\n",
    "mask = (year_arr[:,None] < year_arr) & (year_arr[:,None] + 5 >= year_arr)\n",
    "mask = sparse.csr_matrix(mask) #Convert to sparse rpz\n",
    "\n",
    "#Apply the backward mask to the similarity matrix and then calculate column-wise sum\n",
    "fw_simil = pw_cossim.multiply(mask).sum(axis=1)\n",
    "print(type(fw_simil), fw_simil.shape)"
   ]
  },
  {
   "cell_type": "code",
   "execution_count": 32,
   "metadata": {
    "scrolled": true
   },
   "outputs": [
    {
     "name": "stdout",
     "output_type": "stream",
     "text": [
      "(1905, 1) RangeIndex(start=0, stop=1, step=1)\n",
      "Index(['index', 0], dtype='object')\n",
      "(1905, 1) RangeIndex(start=0, stop=1, step=1)\n",
      "Index(['index', 0], dtype='object')\n",
      "both          1905\n",
      "right_only       0\n",
      "left_only        0\n",
      "Name: _merge, dtype: int64\n"
     ]
    },
    {
     "data": {
      "text/html": [
       "<div>\n",
       "<style scoped>\n",
       "    .dataframe tbody tr th:only-of-type {\n",
       "        vertical-align: middle;\n",
       "    }\n",
       "\n",
       "    .dataframe tbody tr th {\n",
       "        vertical-align: top;\n",
       "    }\n",
       "\n",
       "    .dataframe thead th {\n",
       "        text-align: right;\n",
       "    }\n",
       "</style>\n",
       "<table border=\"1\" class=\"dataframe\">\n",
       "  <thead>\n",
       "    <tr style=\"text-align: right;\">\n",
       "      <th></th>\n",
       "      <th>index_col</th>\n",
       "      <th>bw_simil</th>\n",
       "      <th>fw_simil</th>\n",
       "    </tr>\n",
       "  </thead>\n",
       "  <tbody>\n",
       "    <tr>\n",
       "      <th>0</th>\n",
       "      <td>0</td>\n",
       "      <td>0.000000</td>\n",
       "      <td>1.615338</td>\n",
       "    </tr>\n",
       "    <tr>\n",
       "      <th>1</th>\n",
       "      <td>1</td>\n",
       "      <td>0.155111</td>\n",
       "      <td>3.073596</td>\n",
       "    </tr>\n",
       "    <tr>\n",
       "      <th>2</th>\n",
       "      <td>2</td>\n",
       "      <td>0.000000</td>\n",
       "      <td>0.784972</td>\n",
       "    </tr>\n",
       "    <tr>\n",
       "      <th>3</th>\n",
       "      <td>3</td>\n",
       "      <td>0.000000</td>\n",
       "      <td>0.175969</td>\n",
       "    </tr>\n",
       "    <tr>\n",
       "      <th>4</th>\n",
       "      <td>4</td>\n",
       "      <td>0.379174</td>\n",
       "      <td>2.544928</td>\n",
       "    </tr>\n",
       "  </tbody>\n",
       "</table>\n",
       "</div>"
      ],
      "text/plain": [
       "   index_col  bw_simil  fw_simil\n",
       "0          0  0.000000  1.615338\n",
       "1          1  0.155111  3.073596\n",
       "2          2  0.000000  0.784972\n",
       "3          3  0.000000  0.175969\n",
       "4          4  0.379174  2.544928"
      ]
     },
     "execution_count": 32,
     "metadata": {},
     "output_type": "execute_result"
    }
   ],
   "source": [
    "# \"Append\" these measures to the pandas DF cancer_pre2000\n",
    "#First convert numpy matrices to DF\n",
    "bw_simildf = pd.DataFrame(bw_simil)\n",
    "print(bw_simildf.shape, bw_simildf.columns)\n",
    "bw_simildf = bw_simildf.reset_index()\n",
    "print(bw_simildf.columns)\n",
    "bw_simildf.rename(columns = {0: 'bw_simil', 'index': 'index_col'}, inplace = True)\n",
    "\n",
    "#Same thing for forward similarity\n",
    "fw_simildf = pd.DataFrame(fw_simil)\n",
    "print(fw_simildf.shape, fw_simildf.columns)\n",
    "fw_simildf = fw_simildf.reset_index()\n",
    "print(fw_simildf.columns)\n",
    "fw_simildf.rename(columns = {0: 'fw_simil', 'index': 'index_col'}, inplace = True)\n",
    "\n",
    "#Merge the two DFs on the index_col column\n",
    "simils = pd.merge(bw_simildf, fw_simildf, on = 'index_col', indicator = True)\n",
    "print(simils['_merge'].value_counts())\n",
    "\n",
    "#Drop the _merge col\n",
    "simils.drop('_merge', axis = 1, inplace = True)\n",
    "\n",
    "simils.head()"
   ]
  },
  {
   "cell_type": "code",
   "execution_count": 33,
   "metadata": {
    "scrolled": true
   },
   "outputs": [
    {
     "name": "stdout",
     "output_type": "stream",
     "text": [
      "Nb of Nans in col patent_quality  is:  90\n",
      "Sum stats for patent_quality  is:  count    1815.000000\n",
      "mean             inf\n",
      "std              NaN\n",
      "min         0.000000\n",
      "25%         0.346067\n",
      "50%         1.237301\n",
      "75%         4.179202\n",
      "max              inf\n",
      "Name: patent_quality, dtype: float64\n",
      "Nb of Nans in col fw_simil  is:  0\n",
      "Sum stats for fw_simil  is:  count    1905.000000\n",
      "mean        8.565340\n",
      "std         9.528878\n",
      "min         0.000000\n",
      "25%         0.539709\n",
      "50%         5.815030\n",
      "75%        13.157394\n",
      "max        65.068102\n",
      "Name: fw_simil, dtype: float64\n",
      "Nb of Nans in col bw_simil  is:  0\n",
      "Sum stats for bw_simil  is:  count    1905.000000\n",
      "mean        8.565340\n",
      "std         9.573584\n",
      "min         0.000000\n",
      "25%         1.708094\n",
      "50%         5.273492\n",
      "75%        11.939242\n",
      "max        64.559783\n",
      "Name: bw_simil, dtype: float64\n"
     ]
    }
   ],
   "source": [
    "#Calculate patent quality\n",
    "simils['patent_quality'] = simils['fw_simil']/simils['bw_simil']\n",
    "cols = ['patent_quality', 'fw_simil', 'bw_simil']\n",
    "\n",
    "#Do some checks and get some descriptive statistics on the similarity measures and on the quality measure\n",
    "for col in cols:\n",
    "    print('Nb of Nans in col', col, ' is: ', simils[col].isnull().sum())\n",
    "    print('Sum stats for', col, ' is: ', simils[col].describe())"
   ]
  },
  {
   "cell_type": "code",
   "execution_count": 34,
   "metadata": {},
   "outputs": [
    {
     "name": "stdout",
     "output_type": "stream",
     "text": [
      "0\n",
      "count    1905.000000\n",
      "mean        8.565340\n",
      "std         9.573584\n",
      "min         0.000000\n",
      "25%         1.708094\n",
      "50%         5.273492\n",
      "75%        11.939242\n",
      "max        64.559783\n",
      "Name: bw_simil, dtype: float64\n",
      "Number of patents with backward similarity equal to zero:  131\n",
      "Number of patents with forward similarity equal to zero:  436\n",
      "Number of patents with forward similarity and backward similarity equal to zero:  90\n"
     ]
    }
   ],
   "source": [
    "#More checks and info\n",
    "print(bw_simildf['bw_simil'].isnull().sum())\n",
    "print(bw_simildf['bw_simil'].describe())\n",
    "print('Number of patents with backward similarity equal to zero: ', sum(bw_simildf['bw_simil']==0))\n",
    "\n",
    "print('Number of patents with forward similarity equal to zero: ', sum(fw_simildf['fw_simil']==0)) \n",
    "\n",
    "print('Number of patents with forward similarity and backward similarity equal to zero: ', sum((fw_simildf['fw_simil']==0) & (bw_simildf['bw_simil']==0))) \n"
   ]
  },
  {
   "cell_type": "code",
   "execution_count": 35,
   "metadata": {
    "scrolled": true
   },
   "outputs": [
    {
     "name": "stdout",
     "output_type": "stream",
     "text": [
      "both          1905\n",
      "right_only       0\n",
      "left_only        0\n",
      "Name: _merge, dtype: int64\n"
     ]
    },
    {
     "data": {
      "text/html": [
       "<div>\n",
       "<style scoped>\n",
       "    .dataframe tbody tr th:only-of-type {\n",
       "        vertical-align: middle;\n",
       "    }\n",
       "\n",
       "    .dataframe tbody tr th {\n",
       "        vertical-align: top;\n",
       "    }\n",
       "\n",
       "    .dataframe thead th {\n",
       "        text-align: right;\n",
       "    }\n",
       "</style>\n",
       "<table border=\"1\" class=\"dataframe\">\n",
       "  <thead>\n",
       "    <tr style=\"text-align: right;\">\n",
       "      <th></th>\n",
       "      <th>patent_id</th>\n",
       "      <th>title</th>\n",
       "      <th>title_clean</th>\n",
       "      <th>filing_date</th>\n",
       "      <th>app_nb</th>\n",
       "      <th>publi_date</th>\n",
       "      <th>Drugs_and_Chemistry</th>\n",
       "      <th>Diagnostic_and_Surgical_Devices</th>\n",
       "      <th>Radiation_Measurement</th>\n",
       "      <th>Data_Science</th>\n",
       "      <th>...</th>\n",
       "      <th>Model_Systems_and_Animals</th>\n",
       "      <th>Cells_and_Enzymes</th>\n",
       "      <th>Other_and_Preclassification</th>\n",
       "      <th>DNA_RNA_or_Protein_Sequence</th>\n",
       "      <th>filing_year</th>\n",
       "      <th>filing_month</th>\n",
       "      <th>index_col</th>\n",
       "      <th>bw_simil</th>\n",
       "      <th>fw_simil</th>\n",
       "      <th>patent_quality</th>\n",
       "    </tr>\n",
       "  </thead>\n",
       "  <tbody>\n",
       "    <tr>\n",
       "      <th>1900</th>\n",
       "      <td>US 4378364 A</td>\n",
       "      <td>Postoperative treatment of carcinoma patients</td>\n",
       "      <td>postop treatment carcinoma patient</td>\n",
       "      <td>1980-12-22</td>\n",
       "      <td>06/219812</td>\n",
       "      <td>19830329</td>\n",
       "      <td>1</td>\n",
       "      <td>0</td>\n",
       "      <td>0</td>\n",
       "      <td>0</td>\n",
       "      <td>...</td>\n",
       "      <td>0</td>\n",
       "      <td>0</td>\n",
       "      <td>0</td>\n",
       "      <td>0</td>\n",
       "      <td>1980</td>\n",
       "      <td>12</td>\n",
       "      <td>1900</td>\n",
       "      <td>5.977800</td>\n",
       "      <td>0.0</td>\n",
       "      <td>0.0</td>\n",
       "    </tr>\n",
       "    <tr>\n",
       "      <th>1901</th>\n",
       "      <td>US 4319884 A</td>\n",
       "      <td>Automatic colorimetric analyzer</td>\n",
       "      <td>automat colorimetr analyz</td>\n",
       "      <td>1980-12-22</td>\n",
       "      <td>06/218887</td>\n",
       "      <td>19820316</td>\n",
       "      <td>0</td>\n",
       "      <td>1</td>\n",
       "      <td>0</td>\n",
       "      <td>0</td>\n",
       "      <td>...</td>\n",
       "      <td>0</td>\n",
       "      <td>0</td>\n",
       "      <td>0</td>\n",
       "      <td>0</td>\n",
       "      <td>1980</td>\n",
       "      <td>12</td>\n",
       "      <td>1901</td>\n",
       "      <td>0.668665</td>\n",
       "      <td>0.0</td>\n",
       "      <td>0.0</td>\n",
       "    </tr>\n",
       "    <tr>\n",
       "      <th>1902</th>\n",
       "      <td>US 4362664 A</td>\n",
       "      <td>Vinblastine oxazolidinedione disulfides and re...</td>\n",
       "      <td>vinblastin oxazolidinedion disulfid relat comp...</td>\n",
       "      <td>1980-12-29</td>\n",
       "      <td>06/220472</td>\n",
       "      <td>19821207</td>\n",
       "      <td>1</td>\n",
       "      <td>0</td>\n",
       "      <td>0</td>\n",
       "      <td>0</td>\n",
       "      <td>...</td>\n",
       "      <td>0</td>\n",
       "      <td>0</td>\n",
       "      <td>0</td>\n",
       "      <td>0</td>\n",
       "      <td>1980</td>\n",
       "      <td>12</td>\n",
       "      <td>1902</td>\n",
       "      <td>10.945709</td>\n",
       "      <td>0.0</td>\n",
       "      <td>0.0</td>\n",
       "    </tr>\n",
       "    <tr>\n",
       "      <th>1903</th>\n",
       "      <td>US 4397995 A</td>\n",
       "      <td>Polymeric anti-tumor agent and method of prepa...</td>\n",
       "      <td>polymer antitumor agent method prepar</td>\n",
       "      <td>1980-12-29</td>\n",
       "      <td>06/221087</td>\n",
       "      <td>19830809</td>\n",
       "      <td>1</td>\n",
       "      <td>0</td>\n",
       "      <td>0</td>\n",
       "      <td>0</td>\n",
       "      <td>...</td>\n",
       "      <td>0</td>\n",
       "      <td>0</td>\n",
       "      <td>0</td>\n",
       "      <td>0</td>\n",
       "      <td>1980</td>\n",
       "      <td>12</td>\n",
       "      <td>1903</td>\n",
       "      <td>38.129910</td>\n",
       "      <td>0.0</td>\n",
       "      <td>0.0</td>\n",
       "    </tr>\n",
       "    <tr>\n",
       "      <th>1904</th>\n",
       "      <td>US 4419446 A</td>\n",
       "      <td>Recombinant DNA process utilizing a papilloma ...</td>\n",
       "      <td>recombin dna process util papilloma virus dna ...</td>\n",
       "      <td>1980-12-31</td>\n",
       "      <td>06/221565</td>\n",
       "      <td>19831206</td>\n",
       "      <td>0</td>\n",
       "      <td>0</td>\n",
       "      <td>0</td>\n",
       "      <td>0</td>\n",
       "      <td>...</td>\n",
       "      <td>0</td>\n",
       "      <td>1</td>\n",
       "      <td>0</td>\n",
       "      <td>0</td>\n",
       "      <td>1980</td>\n",
       "      <td>12</td>\n",
       "      <td>1904</td>\n",
       "      <td>2.515001</td>\n",
       "      <td>0.0</td>\n",
       "      <td>0.0</td>\n",
       "    </tr>\n",
       "  </tbody>\n",
       "</table>\n",
       "<p>5 rows × 21 columns</p>\n",
       "</div>"
      ],
      "text/plain": [
       "         patent_id                                              title  \\\n",
       "1900  US 4378364 A      Postoperative treatment of carcinoma patients   \n",
       "1901  US 4319884 A                    Automatic colorimetric analyzer   \n",
       "1902  US 4362664 A  Vinblastine oxazolidinedione disulfides and re...   \n",
       "1903  US 4397995 A  Polymeric anti-tumor agent and method of prepa...   \n",
       "1904  US 4419446 A  Recombinant DNA process utilizing a papilloma ...   \n",
       "\n",
       "                                            title_clean filing_date  \\\n",
       "1900                 postop treatment carcinoma patient  1980-12-22   \n",
       "1901                          automat colorimetr analyz  1980-12-22   \n",
       "1902  vinblastin oxazolidinedion disulfid relat comp...  1980-12-29   \n",
       "1903              polymer antitumor agent method prepar  1980-12-29   \n",
       "1904  recombin dna process util papilloma virus dna ...  1980-12-31   \n",
       "\n",
       "         app_nb  publi_date  Drugs_and_Chemistry  \\\n",
       "1900  06/219812    19830329                    1   \n",
       "1901  06/218887    19820316                    0   \n",
       "1902  06/220472    19821207                    1   \n",
       "1903  06/221087    19830809                    1   \n",
       "1904  06/221565    19831206                    0   \n",
       "\n",
       "      Diagnostic_and_Surgical_Devices  Radiation_Measurement  Data_Science  \\\n",
       "1900                                0                      0             0   \n",
       "1901                                1                      0             0   \n",
       "1902                                0                      0             0   \n",
       "1903                                0                      0             0   \n",
       "1904                                0                      0             0   \n",
       "\n",
       "      ...  Model_Systems_and_Animals  Cells_and_Enzymes  \\\n",
       "1900  ...                          0                  0   \n",
       "1901  ...                          0                  0   \n",
       "1902  ...                          0                  0   \n",
       "1903  ...                          0                  0   \n",
       "1904  ...                          0                  1   \n",
       "\n",
       "      Other_and_Preclassification  DNA_RNA_or_Protein_Sequence  filing_year  \\\n",
       "1900                            0                            0         1980   \n",
       "1901                            0                            0         1980   \n",
       "1902                            0                            0         1980   \n",
       "1903                            0                            0         1980   \n",
       "1904                            0                            0         1980   \n",
       "\n",
       "      filing_month  index_col   bw_simil  fw_simil  patent_quality  \n",
       "1900            12       1900   5.977800       0.0             0.0  \n",
       "1901            12       1901   0.668665       0.0             0.0  \n",
       "1902            12       1902  10.945709       0.0             0.0  \n",
       "1903            12       1903  38.129910       0.0             0.0  \n",
       "1904            12       1904   2.515001       0.0             0.0  \n",
       "\n",
       "[5 rows x 21 columns]"
      ]
     },
     "execution_count": 35,
     "metadata": {},
     "output_type": "execute_result"
    }
   ],
   "source": [
    "#Merge to the cancer_pre2000 dataset\n",
    "cancer_pre2000['index_col'] = np.arange(len(cancer_pre2000)) #Create the merge key in the cancer DF\n",
    "\n",
    "cancer_pre2000 = pd.merge(cancer_pre2000, simils, on = 'index_col', how = 'left', indicator = True)\n",
    "print(cancer_pre2000['_merge'].value_counts())\n",
    "cancer_pre2000.drop('_merge', axis = 1, inplace = True)\n",
    "cancer_pre2000.tail()"
   ]
  },
  {
   "cell_type": "code",
   "execution_count": 36,
   "metadata": {
    "scrolled": true
   },
   "outputs": [
    {
     "name": "stdout",
     "output_type": "stream",
     "text": [
      "(131, 21)\n",
      "1979    18\n",
      "1973    16\n",
      "1974    15\n",
      "1977    13\n",
      "1975    12\n",
      "1980    11\n",
      "1969    10\n",
      "1978     9\n",
      "1976     8\n",
      "1971     5\n",
      "1970     4\n",
      "1972     3\n",
      "1967     3\n",
      "1965     2\n",
      "1968     1\n",
      "1963     1\n",
      "Name: filing_year, dtype: int64\n",
      "(436, 21)\n",
      "1980    338\n",
      "1979     23\n",
      "1978     15\n",
      "1977     12\n",
      "1973     12\n",
      "1974     11\n",
      "1976      6\n",
      "1975      6\n",
      "1969      5\n",
      "1972      2\n",
      "1971      2\n",
      "1970      2\n",
      "1968      1\n",
      "1967      1\n",
      "Name: filing_year, dtype: int64\n"
     ]
    }
   ],
   "source": [
    "#Checks on the 0 values for the similarity measures\n",
    "#Checking those cases where backward similarity is 0\n",
    "zero_bwsimil = cancer_pre2000.loc[cancer_pre2000['bw_simil']==0]\n",
    "print(zero_bwsimil.shape)\n",
    "print(zero_bwsimil['filing_year'].value_counts())\n",
    "\n",
    "#Same thing but for those cases where forward similarity is 0\n",
    "zero_fwsimil = cancer_pre2000.loc[cancer_pre2000['fw_simil']==0]\n",
    "print(zero_fwsimil.shape)\n",
    "print(zero_fwsimil['filing_year'].value_counts())"
   ]
  },
  {
   "cell_type": "code",
   "execution_count": 37,
   "metadata": {},
   "outputs": [
    {
     "name": "stdout",
     "output_type": "stream",
     "text": [
      "Nb of Nans in col bw_simil  is:  0\n",
      "Nb of Nans in col bw_simil  is:  131\n",
      "Nb of Nans in col patent_quality  is:  131\n",
      "Sum stats of col patent_quality  is:  count    1774.000000\n",
      "mean        2.903032\n",
      "std         5.690143\n",
      "min         0.000000\n",
      "25%         0.330789\n",
      "50%         1.163821\n",
      "75%         3.766962\n",
      "max       108.139114\n",
      "Name: patent_quality, dtype: float64\n"
     ]
    }
   ],
   "source": [
    "#Replace the 0s in bw_simil by NANS and then recalculate quality\n",
    "print('Nb of Nans in col', 'bw_simil', ' is: ', cancer_pre2000['bw_simil'].isnull().sum())\n",
    "cancer_pre2000['bw_simil'] = cancer_pre2000['bw_simil'].replace(0, np.nan)\n",
    "print('Nb of Nans in col', 'bw_simil', ' is: ', cancer_pre2000['bw_simil'].isnull().sum())\n",
    "\n",
    "cancer_pre2000['patent_quality'] = cancer_pre2000['fw_simil']/cancer_pre2000['bw_simil']\n",
    "print('Nb of Nans in col', 'patent_quality', ' is: ', cancer_pre2000['patent_quality'].isnull().sum())\n",
    "print('Sum stats of col', 'patent_quality', ' is: ', cancer_pre2000['patent_quality'].describe())\n"
   ]
  },
  {
   "cell_type": "markdown",
   "metadata": {},
   "source": [
    "### Plots of Patent Quality"
   ]
  },
  {
   "cell_type": "code",
   "execution_count": 38,
   "metadata": {},
   "outputs": [
    {
     "data": {
      "image/png": "[encoded data removed]",
      "text/plain": [
       "<Figure size 540x540 with 1 Axes>"
      ]
     },
     "metadata": {
      "needs_background": "light"
     },
     "output_type": "display_data"
    }
   ],
   "source": [
    "#Plot the evolution of patent quality over time\n",
    "#Do a groupby on filing year to get the mean patent quality in each year\n",
    "yearly_qual = cancer_pre2000.dropna(subset = ['patent_quality']).groupby(['filing_year'])['patent_quality'].mean().reset_index()\n",
    "\n",
    "#Do the plot\n",
    "plt.figure(figsize=(7.5, 7.5))\n",
    "plt.plot(yearly_qual['filing_year'], yearly_qual['patent_quality'])\n",
    "plt.xlabel('Year')\n",
    "plt.ylabel('Patent Quality')\n",
    "plt.title('Patent Quality Over Time')\n",
    "plt.savefig(maindir + 'results/evolution_patent_quality.png')\n",
    "plt.show()"
   ]
  },
  {
   "cell_type": "code",
   "execution_count": 39,
   "metadata": {},
   "outputs": [
    {
     "name": "stdout",
     "output_type": "stream",
     "text": [
      "90th percentile of the patent quality distribution is:  6.874746295592873\n"
     ]
    },
    {
     "data": {
      "image/png": "[encoded data removed]",
      "text/plain": [
       "<Figure size 540x540 with 1 Axes>"
      ]
     },
     "metadata": {
      "needs_background": "light"
     },
     "output_type": "display_data"
    }
   ],
   "source": [
    "#Plot the evolution over time of number of patents in the top 10% of patent quality\n",
    "#print('Sum stats of col', 'patent_quality', ' is: ', cancer_pre2000['patent_quality'].describe())\n",
    "topten_thresh = cancer_pre2000['patent_quality'].quantile(0.9)\n",
    "print('90th percentile of the patent quality distribution is: ', topten_thresh)\n",
    "cancer_pre2000['top_tenpct'] = np.where((cancer_pre2000['patent_quality']>= topten_thresh), 1, 0) #Create a dummy for whether the patent is above the 90th percentile of quality\n",
    "\n",
    "#Count, for each year, the absolute number of patents above the 90th percentile of quality\n",
    "yearly_topten = cancer_pre2000.dropna(subset = ['patent_quality']).groupby(['filing_year'])['top_tenpct'].sum().reset_index()\n",
    "\n",
    "#Plot the absolute number of patents within a given year that are above the 90th percentile of quality (\"breakthrough innovations\")\n",
    "plt.figure(figsize=(7.5, 7.5))\n",
    "plt.plot(yearly_topten['filing_year'], yearly_topten['top_tenpct'])\n",
    "plt.xlabel('Year')\n",
    "plt.ylabel('Number of Patents above 90th percentile of quality')\n",
    "plt.title('Absolute Number of Patents above 90th Percentile of Quality Over Time')\n",
    "plt.savefig(maindir + 'results/evolution_toptenpct_patents.png')\n",
    "plt.show()"
   ]
  },
  {
   "cell_type": "code",
   "execution_count": 40,
   "metadata": {},
   "outputs": [
    {
     "data": {
      "image/png": "[encoded data removed]",
      "text/plain": [
       "<Figure size 540x540 with 1 Axes>"
      ]
     },
     "metadata": {
      "needs_background": "light"
     },
     "output_type": "display_data"
    }
   ],
   "source": [
    "#Plot the evolution over time of the relative number of patents in the top 10% of patent quality (absolute nb/nb of patents in given year)\n",
    "#Get the number of patents per year\n",
    "nb_patents_year = cancer_pre2000.dropna(subset = ['patent_quality']).groupby(['filing_year'])['patent_quality'].count().reset_index()\n",
    "nb_patents_year.rename(columns = {'patent_quality': 'nb_patents'}, inplace = True)\n",
    "yearly_topten = pd.merge(yearly_topten, nb_patents_year, on = 'filing_year') #Merge the two DFs\n",
    "\n",
    "yearly_topten['pct_patents_in_topten'] = 100*(yearly_topten['top_tenpct']/yearly_topten['nb_patents'])\n",
    "\n",
    "#Plot the share of patents within a given year that are above the 90th percentile of quality\n",
    "yearly_topten['pct_patents_in_topten'] = 100*(yearly_topten['top_tenpct']/yearly_topten['nb_patents'])\n",
    "\n",
    "plt.figure(figsize=(7.5, 7.5))\n",
    "plt.plot(yearly_topten['filing_year'], yearly_topten['pct_patents_in_topten'])\n",
    "plt.xlabel('Year')\n",
    "plt.ylabel('Percent of Patents above 90th percentile of quality')\n",
    "plt.title('Relative Number of Patents above 90th Percentile of Quality Over Time')\n",
    "plt.savefig(maindir + 'results/evolution_share_topten_patents.png')\n",
    "plt.show() # Note that the large values at the beginning correspond to issues of small sample size (term observations). A more exhaustive replication would not contend with this issue "
   ]
  },
  {
   "cell_type": "code",
   "execution_count": 41,
   "metadata": {
    "scrolled": true
   },
   "outputs": [
    {
     "name": "stdout",
     "output_type": "stream",
     "text": [
      "Total nb of patents with a valid measure of patent quality:  1774\n"
     ]
    },
    {
     "data": {
      "text/html": [
       "<div>\n",
       "<style scoped>\n",
       "    .dataframe tbody tr th:only-of-type {\n",
       "        vertical-align: middle;\n",
       "    }\n",
       "\n",
       "    .dataframe tbody tr th {\n",
       "        vertical-align: top;\n",
       "    }\n",
       "\n",
       "    .dataframe thead th {\n",
       "        text-align: right;\n",
       "    }\n",
       "</style>\n",
       "<table border=\"1\" class=\"dataframe\">\n",
       "  <thead>\n",
       "    <tr style=\"text-align: right;\">\n",
       "      <th></th>\n",
       "      <th>filing_year</th>\n",
       "      <th>nb_patents</th>\n",
       "      <th>share_total</th>\n",
       "    </tr>\n",
       "  </thead>\n",
       "  <tbody>\n",
       "    <tr>\n",
       "      <th>0</th>\n",
       "      <td>1964</td>\n",
       "      <td>1</td>\n",
       "      <td>0.056370</td>\n",
       "    </tr>\n",
       "    <tr>\n",
       "      <th>1</th>\n",
       "      <td>1965</td>\n",
       "      <td>1</td>\n",
       "      <td>0.056370</td>\n",
       "    </tr>\n",
       "    <tr>\n",
       "      <th>2</th>\n",
       "      <td>1966</td>\n",
       "      <td>1</td>\n",
       "      <td>0.056370</td>\n",
       "    </tr>\n",
       "    <tr>\n",
       "      <th>3</th>\n",
       "      <td>1967</td>\n",
       "      <td>3</td>\n",
       "      <td>0.169109</td>\n",
       "    </tr>\n",
       "    <tr>\n",
       "      <th>4</th>\n",
       "      <td>1968</td>\n",
       "      <td>15</td>\n",
       "      <td>0.845547</td>\n",
       "    </tr>\n",
       "    <tr>\n",
       "      <th>5</th>\n",
       "      <td>1969</td>\n",
       "      <td>23</td>\n",
       "      <td>1.296505</td>\n",
       "    </tr>\n",
       "    <tr>\n",
       "      <th>6</th>\n",
       "      <td>1970</td>\n",
       "      <td>15</td>\n",
       "      <td>0.845547</td>\n",
       "    </tr>\n",
       "    <tr>\n",
       "      <th>7</th>\n",
       "      <td>1971</td>\n",
       "      <td>26</td>\n",
       "      <td>1.465614</td>\n",
       "    </tr>\n",
       "    <tr>\n",
       "      <th>8</th>\n",
       "      <td>1972</td>\n",
       "      <td>56</td>\n",
       "      <td>3.156708</td>\n",
       "    </tr>\n",
       "    <tr>\n",
       "      <th>9</th>\n",
       "      <td>1973</td>\n",
       "      <td>89</td>\n",
       "      <td>5.016911</td>\n",
       "    </tr>\n",
       "    <tr>\n",
       "      <th>10</th>\n",
       "      <td>1974</td>\n",
       "      <td>100</td>\n",
       "      <td>5.636979</td>\n",
       "    </tr>\n",
       "    <tr>\n",
       "      <th>11</th>\n",
       "      <td>1975</td>\n",
       "      <td>140</td>\n",
       "      <td>7.891770</td>\n",
       "    </tr>\n",
       "    <tr>\n",
       "      <th>12</th>\n",
       "      <td>1976</td>\n",
       "      <td>180</td>\n",
       "      <td>10.146561</td>\n",
       "    </tr>\n",
       "    <tr>\n",
       "      <th>13</th>\n",
       "      <td>1977</td>\n",
       "      <td>225</td>\n",
       "      <td>12.683202</td>\n",
       "    </tr>\n",
       "    <tr>\n",
       "      <th>14</th>\n",
       "      <td>1978</td>\n",
       "      <td>291</td>\n",
       "      <td>16.403608</td>\n",
       "    </tr>\n",
       "    <tr>\n",
       "      <th>15</th>\n",
       "      <td>1979</td>\n",
       "      <td>281</td>\n",
       "      <td>15.839910</td>\n",
       "    </tr>\n",
       "    <tr>\n",
       "      <th>16</th>\n",
       "      <td>1980</td>\n",
       "      <td>327</td>\n",
       "      <td>18.432920</td>\n",
       "    </tr>\n",
       "  </tbody>\n",
       "</table>\n",
       "</div>"
      ],
      "text/plain": [
       "    filing_year  nb_patents  share_total\n",
       "0          1964           1     0.056370\n",
       "1          1965           1     0.056370\n",
       "2          1966           1     0.056370\n",
       "3          1967           3     0.169109\n",
       "4          1968          15     0.845547\n",
       "5          1969          23     1.296505\n",
       "6          1970          15     0.845547\n",
       "7          1971          26     1.465614\n",
       "8          1972          56     3.156708\n",
       "9          1973          89     5.016911\n",
       "10         1974         100     5.636979\n",
       "11         1975         140     7.891770\n",
       "12         1976         180    10.146561\n",
       "13         1977         225    12.683202\n",
       "14         1978         291    16.403608\n",
       "15         1979         281    15.839910\n",
       "16         1980         327    18.432920"
      ]
     },
     "execution_count": 41,
     "metadata": {},
     "output_type": "execute_result"
    }
   ],
   "source": [
    "#Print the share of patents of a given year over the number of patents of the whole period (relative freq)\n",
    "nb_total_patents = len(cancer_pre2000.dropna(subset = ['patent_quality']))\n",
    "print('Total nb of patents with a valid measure of patent quality: ', nb_total_patents)\n",
    "nb_patents_year['share_total'] = 100*(nb_patents_year['nb_patents']/nb_total_patents)\n",
    "nb_patents_year"
   ]
  },
  {
   "cell_type": "code",
   "execution_count": 42,
   "metadata": {},
   "outputs": [
    {
     "data": {
      "image/png": "[encoded data removed]",
      "text/plain": [
       "<Figure size 540x360 with 1 Axes>"
      ]
     },
     "metadata": {
      "needs_background": "light"
     },
     "output_type": "display_data"
    }
   ],
   "source": [
    "#Seems safe to remove years prior to 1980 (below 0.5%) (accounts for less than 1% of all patents with valid measure of quality)\n",
    "#Plot the evolution of patent quality over time\n",
    "#yearly_qual = cancer_pre2000.dropna(subset = ['patent_quality']).groupby(['filing_year'])['patent_quality'].mean().reset_index()\n",
    "yearly_qual_sub = yearly_qual[yearly_qual['filing_year']>=1980]\n",
    "#Do the plot\n",
    "plt.figure(figsize=(7.5, 5))\n",
    "plt.plot(yearly_qual_sub['filing_year'], yearly_qual_sub['patent_quality'])\n",
    "plt.xlabel('Year')\n",
    "plt.xticks(ticks = [1980, 1985, 1990, 1995, 2000], labels = ['1980', '1985', '1990', '1995', '2000'])\n",
    "plt.ylabel('Patent Quality')\n",
    "plt.title('Patent Quality Over Time')\n",
    "plt.savefig(maindir + 'results/evolution_patent_quality_subsample.png')\n",
    "plt.show()"
   ]
  },
  {
   "cell_type": "code",
   "execution_count": 43,
   "metadata": {},
   "outputs": [
    {
     "data": {
      "image/png": "[encoded data removed]",
      "text/plain": [
       "<Figure size 360x360 with 1 Axes>"
      ]
     },
     "metadata": {
      "needs_background": "light"
     },
     "output_type": "display_data"
    }
   ],
   "source": [
    "#Same subsampling for absolute number of patents in the 90th percentile of quality\n",
    "\n",
    "yearly_topten_sub = yearly_topten[yearly_topten['filing_year']>=1980]\n",
    "\n",
    "#Plot the absolute number of patents within a given year that are above the 90th percentile of quality (\"breakthrough innovations\")\n",
    "plt.figure(figsize=(5, 5))\n",
    "plt.plot(yearly_topten_sub['filing_year'], yearly_topten_sub['top_tenpct'])\n",
    "plt.xlabel('Year')\n",
    "plt.xticks(ticks = [1980, 1985, 1990, 1995, 2000], labels = ['1980', '1985', '1990', '1995', '2000'])\n",
    "plt.ylabel('Number of Patents above 90th percentile of quality')\n",
    "plt.title('Absolute Number of Breakthrough Patents')\n",
    "plt.savefig(maindir + 'results/evolution_toptenpct_patents_subsample.png')\n",
    "plt.show()"
   ]
  },
  {
   "cell_type": "code",
   "execution_count": 44,
   "metadata": {},
   "outputs": [
    {
     "data": {
      "image/png": "[encoded data removed]",
      "text/plain": [
       "<Figure size 360x360 with 1 Axes>"
      ]
     },
     "metadata": {
      "needs_background": "light"
     },
     "output_type": "display_data"
    }
   ],
   "source": [
    "#Plot the relative number of patents within a given year that are above the 90th percentile of quality (\"breakthrough innovations\")\n",
    "plt.figure(figsize=(5, 5))\n",
    "plt.plot(yearly_topten_sub['filing_year'], yearly_topten_sub['pct_patents_in_topten'])\n",
    "plt.xlabel('Year')\n",
    "plt.xticks(ticks = [1980, 1985, 1990, 1995, 2000], labels = ['1980', '1985', '1990', '1995', '2000'])\n",
    "plt.ylabel('Share of Patents above 90th percentile of quality')\n",
    "plt.title('Relative Number of Breakthrough Patents')\n",
    "plt.savefig(maindir + 'results/evolution_share_topten_patents_subsample.png')\n",
    "plt.show()"
   ]
  }
 ],
 "metadata": {
  "kernelspec": {
   "display_name": "Python 3",
   "language": "python",
   "name": "python3"
  },
  "language_info": {
   "codemirror_mode": {
    "name": "ipython",
    "version": 3
   },
   "file_extension": ".py",
   "mimetype": "text/x-python",
   "name": "python",
   "nbconvert_exporter": "python",
   "pygments_lexer": "ipython3",
   "version": "3.8.5"
  }
 },
 "nbformat": 4,
 "nbformat_minor": 4
}
